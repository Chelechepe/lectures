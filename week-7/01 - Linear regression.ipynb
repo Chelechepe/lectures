{
 "cells": [
  {
   "cell_type": "markdown",
   "id": "190aede4",
   "metadata": {
    "lang": "en"
   },
   "source": [
    "# Linear regression"
   ]
  },
  {
   "cell_type": "markdown",
   "id": "greek-chick",
   "metadata": {
    "toc": true
   },
   "source": [
    "<h1>Table of Contents<span class=\"tocSkip\"></span></h1>\n",
    "<div class=\"toc\"><ul class=\"toc-item\"><li><span><a href=\"#Motivation\" data-toc-modified-id=\"Motivation-1\"><span class=\"toc-item-num\">1&nbsp;&nbsp;</span>Motivation</a></span><ul class=\"toc-item\"><li><span><a href=\"#Exploratory-Analysis\" data-toc-modified-id=\"Exploratory-Analysis-1.1\"><span class=\"toc-item-num\">1.1&nbsp;&nbsp;</span>Exploratory Analysis</a></span></li></ul></li><li><span><a href=\"#Simple-linear-regression\" data-toc-modified-id=\"Simple-linear-regression-2\"><span class=\"toc-item-num\">2&nbsp;&nbsp;</span>Simple linear regression</a></span><ul class=\"toc-item\"><li><span><a href=\"#Let's-do-it-backwards\" data-toc-modified-id=\"Let's-do-it-backwards-2.1\"><span class=\"toc-item-num\">2.1&nbsp;&nbsp;</span>Let's do it backwards</a></span></li></ul></li><li><span><a href=\"#We-generate-data-to-explain-in-an-&quot;inverse&quot;-way-to-what-was-seen-a-moment-ago\" data-toc-modified-id=\"We-generate-data-to-explain-in-an-&quot;inverse&quot;-way-to-what-was-seen-a-moment-ago-3\"><span class=\"toc-item-num\">3&nbsp;&nbsp;</span>We generate data to explain in an \"inverse\" way to what was seen a moment ago</a></span></li><li><span><a href=\"#We-draw-the-regression-line\" data-toc-modified-id=\"We-draw-the-regression-line-4\"><span class=\"toc-item-num\">4&nbsp;&nbsp;</span>We draw the regression line</a></span></li><li><span><a href=\"#How-good-is-our-model?\" data-toc-modified-id=\"How-good-is-our-model?-5\"><span class=\"toc-item-num\">5&nbsp;&nbsp;</span>How good is our model?</a></span></li><li><span><a href=\"#Calculate-the-R2-of-the-model\" data-toc-modified-id=\"Calculate-the-R2-of-the-model-6\"><span class=\"toc-item-num\">6&nbsp;&nbsp;</span>Calculate the R2 of the model</a></span><ul class=\"toc-item\"><li><ul class=\"toc-item\"><li><span><a href=\"#Checkpoint\" data-toc-modified-id=\"Checkpoint-6.0.1\"><span class=\"toc-item-num\">6.0.1&nbsp;&nbsp;</span>Checkpoint</a></span></li></ul></li></ul></li><li><span><a href=\"#Linear-regression-with-sklearn\" data-toc-modified-id=\"Linear-regression-with-sklearn-7\"><span class=\"toc-item-num\">7&nbsp;&nbsp;</span>Linear regression with sklearn</a></span><ul class=\"toc-item\"><li><ul class=\"toc-item\"><li><span><a href=\"#Checkpoint\" data-toc-modified-id=\"Checkpoint-7.0.1\"><span class=\"toc-item-num\">7.0.1&nbsp;&nbsp;</span>Checkpoint</a></span></li></ul></li></ul></li><li><span><a href=\"#Linear-regression-with-statsmodels\" data-toc-modified-id=\"Linear-regression-with-statsmodels-8\"><span class=\"toc-item-num\">8&nbsp;&nbsp;</span>Linear regression with statsmodels</a></span></li><li><span><a href=\"#OLS-Concepts\" data-toc-modified-id=\"OLS-Concepts-9\"><span class=\"toc-item-num\">9&nbsp;&nbsp;</span>OLS Concepts</a></span></li><li><span><a href=\"#Multiple-Linear-Regression\" data-toc-modified-id=\"Multiple-Linear-Regression-10\"><span class=\"toc-item-num\">10&nbsp;&nbsp;</span>Multiple Linear Regression</a></span></li><li><span><a href=\"#Categorical-variables\" data-toc-modified-id=\"Categorical-variables-11\"><span class=\"toc-item-num\">11&nbsp;&nbsp;</span>Categorical variables</a></span><ul class=\"toc-item\"><li><ul class=\"toc-item\"><li><span><a href=\"#Checkpoint\" data-toc-modified-id=\"Checkpoint-11.0.1\"><span class=\"toc-item-num\">11.0.1&nbsp;&nbsp;</span>Checkpoint</a></span></li></ul></li></ul></li><li><span><a href=\"#Linear-model-extensions\" data-toc-modified-id=\"Linear-model-extensions-12\"><span class=\"toc-item-num\">12&nbsp;&nbsp;</span>Linear model extensions</a></span><ul class=\"toc-item\"><li><span><a href=\"#Challenging-the-additive-assumption:-synergy\" data-toc-modified-id=\"Challenging-the-additive-assumption:-synergy-12.1\"><span class=\"toc-item-num\">12.1&nbsp;&nbsp;</span>Challenging the additive assumption: synergy</a></span></li></ul></li><li><span><a href=\"#Let's-do-it\" data-toc-modified-id=\"Let's-do-it-13\"><span class=\"toc-item-num\">13&nbsp;&nbsp;</span>Let's do it</a></span><ul class=\"toc-item\"><li><span><a href=\"#$R^2$-Adjusted\" data-toc-modified-id=\"$R^2$-Adjusted-13.1\"><span class=\"toc-item-num\">13.1&nbsp;&nbsp;</span>$R^2$ Adjusted</a></span></li></ul></li><li><span><a href=\"#Potential-problems-in-linear-regression\" data-toc-modified-id=\"Potential-problems-in-linear-regression-14\"><span class=\"toc-item-num\">14&nbsp;&nbsp;</span>Potential problems in linear regression</a></span></li><li><span><a href=\"#Summary\" data-toc-modified-id=\"Summary-15\"><span class=\"toc-item-num\">15&nbsp;&nbsp;</span>Summary</a></span></li><li><span><a href=\"#Further-Materials\" data-toc-modified-id=\"Further-Materials-16\"><span class=\"toc-item-num\">16&nbsp;&nbsp;</span>Further Materials</a></span></li></ul></div>"
   ]
  },
  {
   "cell_type": "code",
   "execution_count": 645,
   "id": "0de361d5",
   "metadata": {},
   "outputs": [],
   "source": [
    "#!pip install scikit-learn"
   ]
  },
  {
   "cell_type": "code",
   "execution_count": 646,
   "id": "effective-dispute",
   "metadata": {},
   "outputs": [],
   "source": [
    "import pandas as pd\n",
    "import numpy as np\n",
    "\n",
    "# Viz\n",
    "import seaborn as sns\n",
    "from matplotlib import pyplot as plt\n",
    "from matplotlib import cm\n",
    "%matplotlib inline\n",
    "%config Inlinebackend.figure_format = 'retina'\n",
    "sns.set_context(\"poster\")\n",
    "sns.set(rc={\"figure.figsize\": (15.,8.)})\n",
    "sns.set_style(\"whitegrid\")\n",
    "\n",
    "# Modelling libraries\n",
    "import statsmodels.formula.api as smf\n",
    "from sklearn.linear_model import LinearRegression #sci-kit for learning, science-kit, sklearn"
   ]
  },
  {
   "cell_type": "markdown",
   "id": "1a25c2b2",
   "metadata": {
    "lang": "en"
   },
   "source": [
    "## Motivation"
   ]
  },
  {
   "cell_type": "code",
   "execution_count": 647,
   "id": "8e83ee91",
   "metadata": {},
   "outputs": [],
   "source": [
    "data = pd.read_csv(\"../datasets/hours_vs_mark.csv\", index_col=0)"
   ]
  },
  {
   "cell_type": "code",
   "execution_count": 648,
   "id": "12eca1a5",
   "metadata": {},
   "outputs": [
    {
     "data": {
      "text/html": [
       "<div>\n",
       "<style scoped>\n",
       "    .dataframe tbody tr th:only-of-type {\n",
       "        vertical-align: middle;\n",
       "    }\n",
       "\n",
       "    .dataframe tbody tr th {\n",
       "        vertical-align: top;\n",
       "    }\n",
       "\n",
       "    .dataframe thead th {\n",
       "        text-align: right;\n",
       "    }\n",
       "</style>\n",
       "<table border=\"1\" class=\"dataframe\">\n",
       "  <thead>\n",
       "    <tr style=\"text-align: right;\">\n",
       "      <th></th>\n",
       "      <th>hours</th>\n",
       "      <th>mark</th>\n",
       "    </tr>\n",
       "  </thead>\n",
       "  <tbody>\n",
       "    <tr>\n",
       "      <th>0</th>\n",
       "      <td>865</td>\n",
       "      <td>95</td>\n",
       "    </tr>\n",
       "    <tr>\n",
       "      <th>1</th>\n",
       "      <td>4</td>\n",
       "      <td>12</td>\n",
       "    </tr>\n",
       "    <tr>\n",
       "      <th>2</th>\n",
       "      <td>305</td>\n",
       "      <td>35</td>\n",
       "    </tr>\n",
       "    <tr>\n",
       "      <th>3</th>\n",
       "      <td>437</td>\n",
       "      <td>56</td>\n",
       "    </tr>\n",
       "    <tr>\n",
       "      <th>4</th>\n",
       "      <td>682</td>\n",
       "      <td>86</td>\n",
       "    </tr>\n",
       "    <tr>\n",
       "      <th>...</th>\n",
       "      <td>...</td>\n",
       "      <td>...</td>\n",
       "    </tr>\n",
       "    <tr>\n",
       "      <th>95</th>\n",
       "      <td>252</td>\n",
       "      <td>66</td>\n",
       "    </tr>\n",
       "    <tr>\n",
       "      <th>96</th>\n",
       "      <td>49</td>\n",
       "      <td>21</td>\n",
       "    </tr>\n",
       "    <tr>\n",
       "      <th>97</th>\n",
       "      <td>792</td>\n",
       "      <td>97</td>\n",
       "    </tr>\n",
       "    <tr>\n",
       "      <th>98</th>\n",
       "      <td>310</td>\n",
       "      <td>46</td>\n",
       "    </tr>\n",
       "    <tr>\n",
       "      <th>99</th>\n",
       "      <td>934</td>\n",
       "      <td>89</td>\n",
       "    </tr>\n",
       "  </tbody>\n",
       "</table>\n",
       "<p>100 rows × 2 columns</p>\n",
       "</div>"
      ],
      "text/plain": [
       "    hours  mark\n",
       "0     865    95\n",
       "1       4    12\n",
       "2     305    35\n",
       "3     437    56\n",
       "4     682    86\n",
       "..    ...   ...\n",
       "95    252    66\n",
       "96     49    21\n",
       "97    792    97\n",
       "98    310    46\n",
       "99    934    89\n",
       "\n",
       "[100 rows x 2 columns]"
      ]
     },
     "execution_count": 648,
     "metadata": {},
     "output_type": "execute_result"
    }
   ],
   "source": [
    "data"
   ]
  },
  {
   "cell_type": "markdown",
   "id": "10b1235e",
   "metadata": {
    "lang": "en"
   },
   "source": [
    "We have 100 students, and we know:\n",
    " * How many hours they studied for their exam\n",
    " * The grade they have obtained (from 0 to 100)"
   ]
  },
  {
   "cell_type": "markdown",
   "id": "7f05e727",
   "metadata": {
    "lang": "en"
   },
   "source": [
    "### Exploratory Analysis"
   ]
  },
  {
   "cell_type": "code",
   "execution_count": 649,
   "id": "7ff44191",
   "metadata": {},
   "outputs": [
    {
     "name": "stdout",
     "output_type": "stream",
     "text": [
      "<class 'pandas.core.frame.DataFrame'>\n",
      "Int64Index: 100 entries, 0 to 99\n",
      "Data columns (total 2 columns):\n",
      " #   Column  Non-Null Count  Dtype\n",
      "---  ------  --------------  -----\n",
      " 0   hours   100 non-null    int64\n",
      " 1   mark    100 non-null    int64\n",
      "dtypes: int64(2)\n",
      "memory usage: 2.3 KB\n"
     ]
    }
   ],
   "source": [
    "data.info()"
   ]
  },
  {
   "cell_type": "code",
   "execution_count": 650,
   "id": "d885bd9b",
   "metadata": {},
   "outputs": [
    {
     "data": {
      "text/plain": [
       "(100, 2)"
      ]
     },
     "execution_count": 650,
     "metadata": {},
     "output_type": "execute_result"
    }
   ],
   "source": [
    "data.shape"
   ]
  },
  {
   "cell_type": "code",
   "execution_count": 651,
   "id": "6ac3ad5f",
   "metadata": {},
   "outputs": [
    {
     "data": {
      "text/html": [
       "<div>\n",
       "<style scoped>\n",
       "    .dataframe tbody tr th:only-of-type {\n",
       "        vertical-align: middle;\n",
       "    }\n",
       "\n",
       "    .dataframe tbody tr th {\n",
       "        vertical-align: top;\n",
       "    }\n",
       "\n",
       "    .dataframe thead th {\n",
       "        text-align: right;\n",
       "    }\n",
       "</style>\n",
       "<table border=\"1\" class=\"dataframe\">\n",
       "  <thead>\n",
       "    <tr style=\"text-align: right;\">\n",
       "      <th></th>\n",
       "      <th>hours</th>\n",
       "      <th>mark</th>\n",
       "    </tr>\n",
       "  </thead>\n",
       "  <tbody>\n",
       "    <tr>\n",
       "      <th>count</th>\n",
       "      <td>100.000000</td>\n",
       "      <td>100.000000</td>\n",
       "    </tr>\n",
       "    <tr>\n",
       "      <th>mean</th>\n",
       "      <td>428.540000</td>\n",
       "      <td>47.940000</td>\n",
       "    </tr>\n",
       "    <tr>\n",
       "      <th>std</th>\n",
       "      <td>285.241752</td>\n",
       "      <td>27.757907</td>\n",
       "    </tr>\n",
       "    <tr>\n",
       "      <th>min</th>\n",
       "      <td>2.000000</td>\n",
       "      <td>0.000000</td>\n",
       "    </tr>\n",
       "    <tr>\n",
       "      <th>25%</th>\n",
       "      <td>167.250000</td>\n",
       "      <td>29.500000</td>\n",
       "    </tr>\n",
       "    <tr>\n",
       "      <th>50%</th>\n",
       "      <td>424.500000</td>\n",
       "      <td>44.000000</td>\n",
       "    </tr>\n",
       "    <tr>\n",
       "      <th>75%</th>\n",
       "      <td>662.500000</td>\n",
       "      <td>68.000000</td>\n",
       "    </tr>\n",
       "    <tr>\n",
       "      <th>max</th>\n",
       "      <td>986.000000</td>\n",
       "      <td>100.000000</td>\n",
       "    </tr>\n",
       "  </tbody>\n",
       "</table>\n",
       "</div>"
      ],
      "text/plain": [
       "            hours        mark\n",
       "count  100.000000  100.000000\n",
       "mean   428.540000   47.940000\n",
       "std    285.241752   27.757907\n",
       "min      2.000000    0.000000\n",
       "25%    167.250000   29.500000\n",
       "50%    424.500000   44.000000\n",
       "75%    662.500000   68.000000\n",
       "max    986.000000  100.000000"
      ]
     },
     "execution_count": 651,
     "metadata": {},
     "output_type": "execute_result"
    }
   ],
   "source": [
    "data.describe()"
   ]
  },
  {
   "cell_type": "code",
   "execution_count": 652,
   "id": "77df0007",
   "metadata": {},
   "outputs": [
    {
     "data": {
      "image/png": "[encoded data removed]",
      "text/plain": [
       "<Figure size 1080x576 with 1 Axes>"
      ]
     },
     "metadata": {},
     "output_type": "display_data"
    }
   ],
   "source": [
    "sns.histplot(data.hours);"
   ]
  },
  {
   "cell_type": "code",
   "execution_count": 653,
   "id": "cc29030c",
   "metadata": {},
   "outputs": [
    {
     "data": {
      "image/png": "[encoded data removed]",
      "text/plain": [
       "<Figure size 1080x576 with 1 Axes>"
      ]
     },
     "metadata": {},
     "output_type": "display_data"
    }
   ],
   "source": [
    "sns.histplot(data.mark);"
   ]
  },
  {
   "cell_type": "markdown",
   "id": "5dca9195",
   "metadata": {
    "lang": "en"
   },
   "source": [
    "We would like to understand the relationship $$grade = f(hours)$$\n",
    "\n",
    "To be able to **predict the expected grade** that we will obtain when studying a certain number of hours"
   ]
  },
  {
   "cell_type": "code",
   "execution_count": 654,
   "id": "26cbf70e",
   "metadata": {},
   "outputs": [
    {
     "data": {
      "text/html": [
       "<div>\n",
       "<style scoped>\n",
       "    .dataframe tbody tr th:only-of-type {\n",
       "        vertical-align: middle;\n",
       "    }\n",
       "\n",
       "    .dataframe tbody tr th {\n",
       "        vertical-align: top;\n",
       "    }\n",
       "\n",
       "    .dataframe thead th {\n",
       "        text-align: right;\n",
       "    }\n",
       "</style>\n",
       "<table border=\"1\" class=\"dataframe\">\n",
       "  <thead>\n",
       "    <tr style=\"text-align: right;\">\n",
       "      <th></th>\n",
       "      <th>hours</th>\n",
       "      <th>mark</th>\n",
       "    </tr>\n",
       "  </thead>\n",
       "  <tbody>\n",
       "    <tr>\n",
       "      <th>hours</th>\n",
       "      <td>1.000000</td>\n",
       "      <td>0.867072</td>\n",
       "    </tr>\n",
       "    <tr>\n",
       "      <th>mark</th>\n",
       "      <td>0.867072</td>\n",
       "      <td>1.000000</td>\n",
       "    </tr>\n",
       "  </tbody>\n",
       "</table>\n",
       "</div>"
      ],
      "text/plain": [
       "          hours      mark\n",
       "hours  1.000000  0.867072\n",
       "mark   0.867072  1.000000"
      ]
     },
     "execution_count": 654,
     "metadata": {},
     "output_type": "execute_result"
    }
   ],
   "source": [
    "data.corr()"
   ]
  },
  {
   "cell_type": "code",
   "execution_count": 655,
   "id": "f79c7e7a",
   "metadata": {},
   "outputs": [
    {
     "data": {
      "image/png": "[encoded data removed]",
      "text/plain": [
       "<Figure size 1080x576 with 1 Axes>"
      ]
     },
     "metadata": {},
     "output_type": "display_data"
    }
   ],
   "source": [
    "sns.scatterplot(x=data[\"hours\"], y=data[\"mark\"]);"
   ]
  },
  {
   "cell_type": "markdown",
   "id": "179b34b5",
   "metadata": {
    "lang": "en"
   },
   "source": [
    "Let's try a $$Y = m * X + n$$ linear regression\n",
    "$m$ is the slope\n",
    "$n$ is the value of $Y$ when $X=0$\n",
    "And we have to:\n",
    "$$grade = m * hours + n$$\n",
    "We want to find $m$ and $n$ that *best* model our data\n"
   ]
  },
  {
   "cell_type": "code",
   "execution_count": 656,
   "id": "1dd2cc40",
   "metadata": {},
   "outputs": [],
   "source": [
    "data[\"prediction_1\"] = 0.1 * data.hours + 5 # equation of a line\n",
    "data[\"prediction_2\"] = 0.12 * data.hours + 10"
   ]
  },
  {
   "cell_type": "code",
   "execution_count": 657,
   "id": "28b8af17",
   "metadata": {},
   "outputs": [
    {
     "data": {
      "text/html": [
       "<div>\n",
       "<style scoped>\n",
       "    .dataframe tbody tr th:only-of-type {\n",
       "        vertical-align: middle;\n",
       "    }\n",
       "\n",
       "    .dataframe tbody tr th {\n",
       "        vertical-align: top;\n",
       "    }\n",
       "\n",
       "    .dataframe thead th {\n",
       "        text-align: right;\n",
       "    }\n",
       "</style>\n",
       "<table border=\"1\" class=\"dataframe\">\n",
       "  <thead>\n",
       "    <tr style=\"text-align: right;\">\n",
       "      <th></th>\n",
       "      <th>hours</th>\n",
       "      <th>mark</th>\n",
       "      <th>prediction_1</th>\n",
       "      <th>prediction_2</th>\n",
       "    </tr>\n",
       "  </thead>\n",
       "  <tbody>\n",
       "    <tr>\n",
       "      <th>0</th>\n",
       "      <td>865</td>\n",
       "      <td>95</td>\n",
       "      <td>91.5</td>\n",
       "      <td>113.80</td>\n",
       "    </tr>\n",
       "    <tr>\n",
       "      <th>1</th>\n",
       "      <td>4</td>\n",
       "      <td>12</td>\n",
       "      <td>5.4</td>\n",
       "      <td>10.48</td>\n",
       "    </tr>\n",
       "    <tr>\n",
       "      <th>2</th>\n",
       "      <td>305</td>\n",
       "      <td>35</td>\n",
       "      <td>35.5</td>\n",
       "      <td>46.60</td>\n",
       "    </tr>\n",
       "    <tr>\n",
       "      <th>3</th>\n",
       "      <td>437</td>\n",
       "      <td>56</td>\n",
       "      <td>48.7</td>\n",
       "      <td>62.44</td>\n",
       "    </tr>\n",
       "    <tr>\n",
       "      <th>4</th>\n",
       "      <td>682</td>\n",
       "      <td>86</td>\n",
       "      <td>73.2</td>\n",
       "      <td>91.84</td>\n",
       "    </tr>\n",
       "  </tbody>\n",
       "</table>\n",
       "</div>"
      ],
      "text/plain": [
       "   hours  mark  prediction_1  prediction_2\n",
       "0    865    95          91.5        113.80\n",
       "1      4    12           5.4         10.48\n",
       "2    305    35          35.5         46.60\n",
       "3    437    56          48.7         62.44\n",
       "4    682    86          73.2         91.84"
      ]
     },
     "execution_count": 657,
     "metadata": {},
     "output_type": "execute_result"
    }
   ],
   "source": [
    "data.head()"
   ]
  },
  {
   "cell_type": "code",
   "execution_count": 658,
   "id": "6b927ae8",
   "metadata": {},
   "outputs": [],
   "source": [
    "def predict_grade (hours):\n",
    "    return hours * 0.1 + 5"
   ]
  },
  {
   "cell_type": "code",
   "execution_count": 659,
   "id": "e723ecad",
   "metadata": {},
   "outputs": [
    {
     "data": {
      "text/plain": [
       "91.5"
      ]
     },
     "execution_count": 659,
     "metadata": {},
     "output_type": "execute_result"
    }
   ],
   "source": [
    "predict_grade(865)"
   ]
  },
  {
   "cell_type": "markdown",
   "id": "4b0bdb01",
   "metadata": {
    "lang": "en"
   },
   "source": [
    "Which has worked better? How can we measure the error of the models?\n",
    "\n",
    "We can subtract our prediction from the grade to see what we have done wrong in each one and make the average.... we use the absolute value to remove the negative values ​​and then we talk about this error, which has a name and it is MAE (mean absolutely error)"
   ]
  },
  {
   "cell_type": "code",
   "execution_count": 660,
   "id": "ca2d3b2a",
   "metadata": {},
   "outputs": [],
   "source": [
    "data[\"error_1\"] = (data.mark - data[\"prediction_1\"]).abs()\n",
    "data[\"error_2\"] = (data.mark - data[\"prediction_2\"]).abs()"
   ]
  },
  {
   "cell_type": "code",
   "execution_count": 661,
   "id": "54e46851",
   "metadata": {},
   "outputs": [
    {
     "data": {
      "text/html": [
       "<div>\n",
       "<style scoped>\n",
       "    .dataframe tbody tr th:only-of-type {\n",
       "        vertical-align: middle;\n",
       "    }\n",
       "\n",
       "    .dataframe tbody tr th {\n",
       "        vertical-align: top;\n",
       "    }\n",
       "\n",
       "    .dataframe thead th {\n",
       "        text-align: right;\n",
       "    }\n",
       "</style>\n",
       "<table border=\"1\" class=\"dataframe\">\n",
       "  <thead>\n",
       "    <tr style=\"text-align: right;\">\n",
       "      <th></th>\n",
       "      <th>hours</th>\n",
       "      <th>mark</th>\n",
       "      <th>prediction_1</th>\n",
       "      <th>prediction_2</th>\n",
       "      <th>error_1</th>\n",
       "      <th>error_2</th>\n",
       "    </tr>\n",
       "  </thead>\n",
       "  <tbody>\n",
       "    <tr>\n",
       "      <th>0</th>\n",
       "      <td>865</td>\n",
       "      <td>95</td>\n",
       "      <td>91.5</td>\n",
       "      <td>113.80</td>\n",
       "      <td>3.5</td>\n",
       "      <td>18.80</td>\n",
       "    </tr>\n",
       "    <tr>\n",
       "      <th>1</th>\n",
       "      <td>4</td>\n",
       "      <td>12</td>\n",
       "      <td>5.4</td>\n",
       "      <td>10.48</td>\n",
       "      <td>6.6</td>\n",
       "      <td>1.52</td>\n",
       "    </tr>\n",
       "    <tr>\n",
       "      <th>2</th>\n",
       "      <td>305</td>\n",
       "      <td>35</td>\n",
       "      <td>35.5</td>\n",
       "      <td>46.60</td>\n",
       "      <td>0.5</td>\n",
       "      <td>11.60</td>\n",
       "    </tr>\n",
       "    <tr>\n",
       "      <th>3</th>\n",
       "      <td>437</td>\n",
       "      <td>56</td>\n",
       "      <td>48.7</td>\n",
       "      <td>62.44</td>\n",
       "      <td>7.3</td>\n",
       "      <td>6.44</td>\n",
       "    </tr>\n",
       "    <tr>\n",
       "      <th>4</th>\n",
       "      <td>682</td>\n",
       "      <td>86</td>\n",
       "      <td>73.2</td>\n",
       "      <td>91.84</td>\n",
       "      <td>12.8</td>\n",
       "      <td>5.84</td>\n",
       "    </tr>\n",
       "  </tbody>\n",
       "</table>\n",
       "</div>"
      ],
      "text/plain": [
       "   hours  mark  prediction_1  prediction_2  error_1  error_2\n",
       "0    865    95          91.5        113.80      3.5    18.80\n",
       "1      4    12           5.4         10.48      6.6     1.52\n",
       "2    305    35          35.5         46.60      0.5    11.60\n",
       "3    437    56          48.7         62.44      7.3     6.44\n",
       "4    682    86          73.2         91.84     12.8     5.84"
      ]
     },
     "execution_count": 661,
     "metadata": {},
     "output_type": "execute_result"
    }
   ],
   "source": [
    "data.head()"
   ]
  },
  {
   "cell_type": "code",
   "execution_count": 662,
   "id": "6c99513c",
   "metadata": {},
   "outputs": [
    {
     "data": {
      "text/plain": [
       "12.008"
      ]
     },
     "execution_count": 662,
     "metadata": {},
     "output_type": "execute_result"
    }
   ],
   "source": [
    "data.error_1.mean()"
   ]
  },
  {
   "cell_type": "code",
   "execution_count": 663,
   "id": "a292dcf1",
   "metadata": {},
   "outputs": [
    {
     "data": {
      "text/plain": [
       "18.073599999999995"
      ]
     },
     "execution_count": 663,
     "metadata": {},
     "output_type": "execute_result"
    }
   ],
   "source": [
    "data.error_2.mean()"
   ]
  },
  {
   "cell_type": "markdown",
   "id": "5fbd1f9f",
   "metadata": {
    "lang": "en"
   },
   "source": [
    "What is going to be our goal? Python and its libraries do this for us, it calculates the slope and the intercept to be able to make \"predictions\" of unknown data from data that we already have."
   ]
  },
  {
   "cell_type": "code",
   "execution_count": 664,
   "id": "31ce550b",
   "metadata": {},
   "outputs": [
    {
     "data": {
      "image/png": "[encoded data removed]",
      "text/plain": [
       "<Figure size 1080x576 with 1 Axes>"
      ]
     },
     "metadata": {},
     "output_type": "display_data"
    }
   ],
   "source": [
    "sns.scatterplot(x=data[\"hours\"], y=data[\"mark\"])\n",
    "plt.plot(data.hours, data[\"prediction_2\"], color='r', label='worse') # greater Mean Average Error\n",
    "plt.plot(data.hours, data[\"prediction_1\"], color='g', label='better')\n",
    "plt.legend();"
   ]
  },
  {
   "cell_type": "markdown",
   "id": "cc3ad931",
   "metadata": {
    "lang": "en"
   },
   "source": [
    "## Simple linear regression\n",
    "\n",
    "Simple linear regression a statistical model that assumes a linear relationship between a predictor and a target variable. Mathematically, it can be expressed as:"
   ]
  },
  {
   "cell_type": "markdown",
   "id": "trying-monthly",
   "metadata": {},
   "source": [
    "![formula](../images/formula.png)"
   ]
  },
  {
   "cell_type": "markdown",
   "id": "05109428",
   "metadata": {
    "lang": "en"
   },
   "source": [
    "If we dig a little deeper, we can find this other expression:\n",
    "\n",
    " $$ Y = \\beta_0 +  \\beta_1 X + \\epsilon$$\n",
    "\n",
    "Where:\n",
    "* $X$ = predictor variable\n",
    "* $Y$ = target variable\n",
    "* $\\beta_0$ = intercept\n",
    "* $\\beta_1$ = slope / slope\n",
    "* $\\epsilon$ = noise (gaussian)\n",
    "\n",
    "\n",
    "The above equation is known as the *population regression line*.\n",
    "The simple linear regression line usually has the form shown in the formula above, where β0 and β1 are unknown constants, representing the intercept and slope of the regression line, respectively.\n",
    "\n",
    "The intercept is the value of the dependent variable (Y) when the independent variable (X) has a value of zero (0). The slope is a measure of the rate at which the dependent variable (Y) changes when the independent variable (X) changes by one (1). The unknown constants are called the coefficients or parameters of the model. This form of the regression line is sometimes known as a population regression line and, as a probabilistic model, it roughly fits the data set hence the use of the symbol (≈) in the image. The model is called probabilistic because it does not model all the variability of the dependent variable (Y)"
   ]
  },
  {
   "cell_type": "markdown",
   "id": "f768d2b6",
   "metadata": {
    "lang": "en"
   },
   "source": [
    "### Let's do it backwards\n",
    "![upsidedown](https://media.giphy.com/media/q2liPHzYo82zK9Tb0X/giphy.gif)"
   ]
  },
  {
   "cell_type": "markdown",
   "id": "cd822250",
   "metadata": {
    "lang": "en"
   },
   "source": [
    "## We generate data to explain in an \"inverse\" way to what was seen a moment ago"
   ]
  },
  {
   "cell_type": "code",
   "execution_count": 665,
   "id": "imperial-gauge",
   "metadata": {},
   "outputs": [],
   "source": [
    "# From the previous example\n",
    "beta_0 = 10 # n, intercept\n",
    "beta_1 = 0.08 # slope\n",
    "num_grades = 100"
   ]
  },
  {
   "cell_type": "markdown",
   "id": "bde2fd91",
   "metadata": {
    "lang": "en"
   },
   "source": [
    "np.random normal documentation --> https://numpy.org/doc/stable/reference/random/generated/numpy.random.normal.html\n",
    "Parameters:\n",
    "- Mean\n",
    "- Standard deviation\n",
    "- Sample size"
   ]
  },
  {
   "cell_type": "markdown",
   "id": "979400d1",
   "metadata": {
    "lang": "en"
   },
   "source": [
    "[Documentation](https://numpy.org/doc/stable/reference/random/generated/numpy.random.normal.html) random normal"
   ]
  },
  {
   "cell_type": "code",
   "execution_count": 666,
   "id": "a628605c",
   "metadata": {
    "lang": "en"
   },
   "outputs": [],
   "source": [
    "# We generate the hours of study\n",
    "X = np.random.normal(600, 150, size=100)"
   ]
  },
  {
   "cell_type": "code",
   "execution_count": 667,
   "id": "5f62c4fa",
   "metadata": {},
   "outputs": [
    {
     "data": {
      "text/plain": [
       "array([ 627.4364895 ,  528.75167718,  655.90803993,  743.49457784,\n",
       "        639.6778878 ,  775.29868989,  614.46385767,  431.8689179 ,\n",
       "        754.92169813,  286.20823589,  381.188939  ,  597.76419295,\n",
       "        733.68305076,  500.40060738,  528.57479403,  545.87878943,\n",
       "        971.81596   ,  568.28816654,  637.68803381,  463.19133737,\n",
       "        822.97704048,  376.22207612,  582.16087466, 1014.46120885,\n",
       "        709.40554767,  623.16740856,  572.54312526,  367.43884078,\n",
       "        241.45561592,  696.04891005,  697.00148607,  609.61471216,\n",
       "        552.54083044,  476.79142601,  358.81553909,  760.36209825,\n",
       "        892.1896471 ,  595.54991738,  376.84443766,  504.19624407,\n",
       "        629.65092162,  890.96285777,  420.27891486,  592.91464554,\n",
       "        594.04821866,  737.9985835 ,  515.57292664,  482.6890766 ,\n",
       "        558.16944397,  387.97602555,  449.10478245,  451.20680854,\n",
       "        525.21803734,  530.58247668,  638.38153701,  455.84406223,\n",
       "        670.89869636,  542.16943395,  541.72507214,  743.80124551,\n",
       "        547.45670958,  677.77670286,  672.01210797,  240.63060814,\n",
       "        551.39470912,  738.20687496,  479.9339013 ,  592.47940605,\n",
       "        589.95167771,  821.82385743,  775.6239213 ,  257.87735271,\n",
       "        347.22394094,  569.86586373,  644.7379734 ,  682.83566369,\n",
       "        537.64765156,  696.18406331,  954.51247733,  624.95000074,\n",
       "        468.78588171,  958.58519395,  492.99767699,  366.86778102,\n",
       "        608.47460423,  839.86370523,  619.5872437 ,  847.05920619,\n",
       "        400.53491192,  618.61767122,  787.83883555,  561.15082305,\n",
       "        428.99180821,  872.54855581,  457.18911252,  534.12443802,\n",
       "        512.24555496,  748.13800207,  675.37611857,  531.78115812])"
      ]
     },
     "execution_count": 667,
     "metadata": {},
     "output_type": "execute_result"
    }
   ],
   "source": [
    "X"
   ]
  },
  {
   "cell_type": "markdown",
   "id": "bd7de7e9",
   "metadata": {
    "lang": "en"
   },
   "source": [
    "When generating the grades we enter that np.random.normal which is going to be a random number for each note that is going to make the note vary. It's a random error. We put it because we are inventing the data and if we do it simply through the formula of a straight line, obviously, we will have data that fit a regression PERFECTLY and that is not real."
   ]
  },
  {
   "cell_type": "code",
   "execution_count": 668,
   "id": "classified-visibility",
   "metadata": {},
   "outputs": [],
   "source": [
    "# Generating the grades\n",
    "y = beta_0 + (beta_1 * X) + np.random.normal(loc=0, scale=5, size=num_grades)"
   ]
  },
  {
   "cell_type": "code",
   "execution_count": 669,
   "id": "27ebdf55",
   "metadata": {},
   "outputs": [
    {
     "data": {
      "text/plain": [
       "array([59.53312678, 45.37879931, 64.08793274, 65.91045797, 65.64611291,\n",
       "       66.17652619, 60.0693647 , 44.67412312, 71.7299848 , 35.99091206,\n",
       "       42.50541658, 58.9166812 , 71.52331683, 48.44037718, 53.65795061,\n",
       "       57.27330286, 83.52514033, 60.1082092 , 60.19721256, 46.3562014 ,\n",
       "       82.97978216, 40.95107784, 59.32497547, 84.60177585, 70.02290284,\n",
       "       62.21515594, 54.77336383, 43.53458043, 29.7012755 , 53.56022444,\n",
       "       66.25283164, 54.2807005 , 58.06361056, 48.19297131, 23.98686657,\n",
       "       62.41822676, 90.05031039, 60.9042169 , 43.46545846, 45.55812004,\n",
       "       50.4139208 , 77.06001869, 41.73561967, 61.03111632, 53.130231  ,\n",
       "       58.44020875, 56.33513452, 40.1268505 , 55.47128324, 44.58721598,\n",
       "       43.80907548, 52.58816842, 58.47224512, 56.32516189, 61.51700794,\n",
       "       43.56211356, 60.93845958, 56.63880687, 53.65809428, 66.82475431,\n",
       "       53.19728683, 67.92197848, 66.33546478, 22.92914741, 47.66987507,\n",
       "       66.92328919, 50.25320382, 55.07805151, 54.67873267, 78.34862732,\n",
       "       76.13942932, 26.72798497, 40.33907668, 57.75854903, 59.02196579,\n",
       "       63.30550699, 49.57282718, 65.89815011, 90.8327723 , 61.01843969,\n",
       "       50.28360869, 89.03953357, 52.34445202, 36.13874207, 63.38067097,\n",
       "       66.85798364, 57.78046063, 71.86316961, 35.66772496, 53.59145266,\n",
       "       76.00034692, 55.11675805, 41.65770648, 80.46040395, 52.95644902,\n",
       "       52.40284382, 53.35077062, 79.35015036, 62.38082152, 48.16922419])"
      ]
     },
     "execution_count": 669,
     "metadata": {},
     "output_type": "execute_result"
    }
   ],
   "source": [
    "y"
   ]
  },
  {
   "cell_type": "code",
   "execution_count": 670,
   "id": "british-absolute",
   "metadata": {},
   "outputs": [],
   "source": [
    "# Generating the dataframe\n",
    "df = pd.DataFrame({\"hours\": X, \"grade\": y}).round().astype(int)"
   ]
  },
  {
   "cell_type": "code",
   "execution_count": 671,
   "id": "accomplished-industry",
   "metadata": {},
   "outputs": [
    {
     "data": {
      "text/html": [
       "<div>\n",
       "<style scoped>\n",
       "    .dataframe tbody tr th:only-of-type {\n",
       "        vertical-align: middle;\n",
       "    }\n",
       "\n",
       "    .dataframe tbody tr th {\n",
       "        vertical-align: top;\n",
       "    }\n",
       "\n",
       "    .dataframe thead th {\n",
       "        text-align: right;\n",
       "    }\n",
       "</style>\n",
       "<table border=\"1\" class=\"dataframe\">\n",
       "  <thead>\n",
       "    <tr style=\"text-align: right;\">\n",
       "      <th></th>\n",
       "      <th>hours</th>\n",
       "      <th>grade</th>\n",
       "    </tr>\n",
       "  </thead>\n",
       "  <tbody>\n",
       "    <tr>\n",
       "      <th>0</th>\n",
       "      <td>627</td>\n",
       "      <td>60</td>\n",
       "    </tr>\n",
       "    <tr>\n",
       "      <th>1</th>\n",
       "      <td>529</td>\n",
       "      <td>45</td>\n",
       "    </tr>\n",
       "    <tr>\n",
       "      <th>2</th>\n",
       "      <td>656</td>\n",
       "      <td>64</td>\n",
       "    </tr>\n",
       "    <tr>\n",
       "      <th>3</th>\n",
       "      <td>743</td>\n",
       "      <td>66</td>\n",
       "    </tr>\n",
       "    <tr>\n",
       "      <th>4</th>\n",
       "      <td>640</td>\n",
       "      <td>66</td>\n",
       "    </tr>\n",
       "  </tbody>\n",
       "</table>\n",
       "</div>"
      ],
      "text/plain": [
       "   hours  grade\n",
       "0    627     60\n",
       "1    529     45\n",
       "2    656     64\n",
       "3    743     66\n",
       "4    640     66"
      ]
     },
     "execution_count": 671,
     "metadata": {},
     "output_type": "execute_result"
    }
   ],
   "source": [
    "df.head()"
   ]
  },
  {
   "cell_type": "markdown",
   "id": "56e6b841",
   "metadata": {
    "lang": "en"
   },
   "source": [
    "## We draw the regression line"
   ]
  },
  {
   "cell_type": "code",
   "execution_count": 672,
   "id": "dramatic-simulation",
   "metadata": {},
   "outputs": [
    {
     "data": {
      "image/png": "[encoded data removed]",
      "text/plain": [
       "<Figure size 1080x576 with 1 Axes>"
      ]
     },
     "metadata": {},
     "output_type": "display_data"
    }
   ],
   "source": [
    "sns.regplot(x=\"hours\", y=\"grade\", data=df);"
   ]
  },
  {
   "cell_type": "code",
   "execution_count": 673,
   "id": "9c811cf2",
   "metadata": {
    "lang": "en"
   },
   "outputs": [],
   "source": [
    "### We draw an example of the data WITHOUT RANDOM ERROR"
   ]
  },
  {
   "cell_type": "code",
   "execution_count": 674,
   "id": "8a9e7c60",
   "metadata": {
    "lang": "es"
   },
   "outputs": [],
   "source": [
    "y_not_real = beta_0 + (beta_1 * X)  # the y is simply the equation of the line\n",
    "df_not_real = pd.DataFrame({\"hours\": X, \"grade\": y_not_real}).round().astype(int)"
   ]
  },
  {
   "cell_type": "code",
   "execution_count": 675,
   "id": "50419c23",
   "metadata": {},
   "outputs": [],
   "source": [
    "# Not a perfect match: I'm rounding numbers"
   ]
  },
  {
   "cell_type": "code",
   "execution_count": 676,
   "id": "e71956fc",
   "metadata": {
    "scrolled": true
   },
   "outputs": [
    {
     "data": {
      "image/png": "[encoded data removed]",
      "text/plain": [
       "<Figure size 1080x576 with 1 Axes>"
      ]
     },
     "metadata": {},
     "output_type": "display_data"
    }
   ],
   "source": [
    "sns.regplot(x=\"hours\", y=\"grade\", data=df_not_real);"
   ]
  },
  {
   "cell_type": "markdown",
   "id": "62984d6b",
   "metadata": {},
   "source": [
    "# RECAP\n",
    "\n",
    "- Some data: two quantitative variables: hours & marks/grades\n",
    "- We want to understnd the relationship between these two: \n",
    "    - correlation\n",
    "    - distribution each (histograms)\n",
    "    - distribution of both (scatterplot)\n",
    "- Linear regression: \n",
    "    - Edgard: Description of behavior of two variables through drawing one line\n",
    "    - Juliana: Estimation of proportion of variance between two variables. One line that estimates the propotion\n",
    "- Goals of linear regression, WHY:\n",
    "    - SEE relationship\n",
    "    - PREDICT: generate new values (target/outcome variable) DEPENDING on the value of predictor (X)\n",
    "    \n",
    "- Dependant & independant variable: \"the hours will predict the grade\"\n",
    "    - Hours: independant variable, predictor\n",
    "    - Grades: dependant variable, outcome, target\n",
    "    \n",
    "- WHAT we get:\n",
    "\n",
    "    - Equation: Y ≈ \n",
    "    - Predictions: the value of Y\n",
    "    - Errors: actual value - predicted value\n",
    "        - MAE: mean absolute error: \"get the distance from each point to the line and do the average for all of them\"\n",
    "        - If I can see the error, I can say what models are best for my data"
   ]
  },
  {
   "cell_type": "markdown",
   "id": "bdab58a6",
   "metadata": {
    "lang": "es"
   },
   "source": [
    "Of course, in real life we ​​don't know the true parameters of the model, nor if the model is real!!! Today we are going to learn a [valuable lesson](https://en.wikipedia.org/wiki/All_models_are_wrong):\n",
    "\n",
    "\n",
    "<center> <b>\"All the models are wrong, but some are useful\"</b> </center>\n",
    "\n",
    "\n",
    "In practice, what we do is, after seeing a scatter plot like the one above, we try to infer the model parameters $\\beta_0$ and the slope, $\\beta_1$. Once estimated, the estimated fit becomes $$ \\hat{Y} = \\hat{beta_0} + \\hat{beta_1} X$$"
   ]
  },
  {
   "cell_type": "code",
   "execution_count": 677,
   "id": "thermal-arrest",
   "metadata": {},
   "outputs": [],
   "source": [
    "lr = LinearRegression()"
   ]
  },
  {
   "cell_type": "markdown",
   "id": "e2ac7e82",
   "metadata": {
    "lang": "en"
   },
   "source": [
    "We are going to train a regression model that removes the coefficients with sklearn and we do it with the first model that we have generated that had NOISE/ERROR"
   ]
  },
  {
   "cell_type": "code",
   "execution_count": 678,
   "id": "1938500c",
   "metadata": {
    "lang": "en",
    "scrolled": false
   },
   "outputs": [
    {
     "data": {
      "text/html": [
       "<style>#sk-container-id-26 {color: black;background-color: white;}#sk-container-id-26 pre{padding: 0;}#sk-container-id-26 div.sk-toggleable {background-color: white;}#sk-container-id-26 label.sk-toggleable__label {cursor: pointer;display: block;width: 100%;margin-bottom: 0;padding: 0.3em;box-sizing: border-box;text-align: center;}#sk-container-id-26 label.sk-toggleable__label-arrow:before {content: \"▸\";float: left;margin-right: 0.25em;color: #696969;}#sk-container-id-26 label.sk-toggleable__label-arrow:hover:before {color: black;}#sk-container-id-26 div.sk-estimator:hover label.sk-toggleable__label-arrow:before {color: black;}#sk-container-id-26 div.sk-toggleable__content {max-height: 0;max-width: 0;overflow: hidden;text-align: left;background-color: #f0f8ff;}#sk-container-id-26 div.sk-toggleable__content pre {margin: 0.2em;color: black;border-radius: 0.25em;background-color: #f0f8ff;}#sk-container-id-26 input.sk-toggleable__control:checked~div.sk-toggleable__content {max-height: 200px;max-width: 100%;overflow: auto;}#sk-container-id-26 input.sk-toggleable__control:checked~label.sk-toggleable__label-arrow:before {content: \"▾\";}#sk-container-id-26 div.sk-estimator input.sk-toggleable__control:checked~label.sk-toggleable__label {background-color: #d4ebff;}#sk-container-id-26 div.sk-label input.sk-toggleable__control:checked~label.sk-toggleable__label {background-color: #d4ebff;}#sk-container-id-26 input.sk-hidden--visually {border: 0;clip: rect(1px 1px 1px 1px);clip: rect(1px, 1px, 1px, 1px);height: 1px;margin: -1px;overflow: hidden;padding: 0;position: absolute;width: 1px;}#sk-container-id-26 div.sk-estimator {font-family: monospace;background-color: #f0f8ff;border: 1px dotted black;border-radius: 0.25em;box-sizing: border-box;margin-bottom: 0.5em;}#sk-container-id-26 div.sk-estimator:hover {background-color: #d4ebff;}#sk-container-id-26 div.sk-parallel-item::after {content: \"\";width: 100%;border-bottom: 1px solid gray;flex-grow: 1;}#sk-container-id-26 div.sk-label:hover label.sk-toggleable__label {background-color: #d4ebff;}#sk-container-id-26 div.sk-serial::before {content: \"\";position: absolute;border-left: 1px solid gray;box-sizing: border-box;top: 0;bottom: 0;left: 50%;z-index: 0;}#sk-container-id-26 div.sk-serial {display: flex;flex-direction: column;align-items: center;background-color: white;padding-right: 0.2em;padding-left: 0.2em;position: relative;}#sk-container-id-26 div.sk-item {position: relative;z-index: 1;}#sk-container-id-26 div.sk-parallel {display: flex;align-items: stretch;justify-content: center;background-color: white;position: relative;}#sk-container-id-26 div.sk-item::before, #sk-container-id-26 div.sk-parallel-item::before {content: \"\";position: absolute;border-left: 1px solid gray;box-sizing: border-box;top: 0;bottom: 0;left: 50%;z-index: -1;}#sk-container-id-26 div.sk-parallel-item {display: flex;flex-direction: column;z-index: 1;position: relative;background-color: white;}#sk-container-id-26 div.sk-parallel-item:first-child::after {align-self: flex-end;width: 50%;}#sk-container-id-26 div.sk-parallel-item:last-child::after {align-self: flex-start;width: 50%;}#sk-container-id-26 div.sk-parallel-item:only-child::after {width: 0;}#sk-container-id-26 div.sk-dashed-wrapped {border: 1px dashed gray;margin: 0 0.4em 0.5em 0.4em;box-sizing: border-box;padding-bottom: 0.4em;background-color: white;}#sk-container-id-26 div.sk-label label {font-family: monospace;font-weight: bold;display: inline-block;line-height: 1.2em;}#sk-container-id-26 div.sk-label-container {text-align: center;}#sk-container-id-26 div.sk-container {/* jupyter's `normalize.less` sets `[hidden] { display: none; }` but bootstrap.min.css set `[hidden] { display: none !important; }` so we also need the `!important` here to be able to override the default hidden behavior on the sphinx rendered scikit-learn.org. See: https://github.com/scikit-learn/scikit-learn/issues/21755 */display: inline-block !important;position: relative;}#sk-container-id-26 div.sk-text-repr-fallback {display: none;}</style><div id=\"sk-container-id-26\" class=\"sk-top-container\"><div class=\"sk-text-repr-fallback\"><pre>LinearRegression()</pre><b>In a Jupyter environment, please rerun this cell to show the HTML representation or trust the notebook. <br />On GitHub, the HTML representation is unable to render, please try loading this page with nbviewer.org.</b></div><div class=\"sk-container\" hidden><div class=\"sk-item\"><div class=\"sk-estimator sk-toggleable\"><input class=\"sk-toggleable__control sk-hidden--visually\" id=\"sk-estimator-id-26\" type=\"checkbox\" checked><label for=\"sk-estimator-id-26\" class=\"sk-toggleable__label sk-toggleable__label-arrow\">LinearRegression</label><div class=\"sk-toggleable__content\"><pre>LinearRegression()</pre></div></div></div></div></div>"
      ],
      "text/plain": [
       "LinearRegression()"
      ]
     },
     "execution_count": 678,
     "metadata": {},
     "output_type": "execute_result"
    }
   ],
   "source": [
    "lr.fit(\n",
    "    X = df[[\"hours\"]], #is always a dataframe that's why I put double brackets\n",
    "    y = df[\"grade\"] #is a pandas series\n",
    ")"
   ]
  },
  {
   "attachments": {
    "Screenshot%202022-08-16%20at%2012.43.28.png": {
     "image/png": "[encoded data removed]"
    }
   },
   "cell_type": "markdown",
   "id": "7a61412a",
   "metadata": {},
   "source": [
    "![Screenshot%202022-08-16%20at%2012.43.28.png](attachment:Screenshot%202022-08-16%20at%2012.43.28.png)"
   ]
  },
  {
   "cell_type": "code",
   "execution_count": 679,
   "id": "b46227de",
   "metadata": {},
   "outputs": [
    {
     "data": {
      "text/plain": [
       "'__abstractmethods__'"
      ]
     },
     "execution_count": 679,
     "metadata": {},
     "output_type": "execute_result"
    }
   ],
   "source": [
    "[element for element in dir(lr)][0]"
   ]
  },
  {
   "cell_type": "code",
   "execution_count": 680,
   "id": "ceacefef",
   "metadata": {
    "scrolled": true
   },
   "outputs": [
    {
     "data": {
      "text/plain": [
       "9.94666751263253"
      ]
     },
     "execution_count": 680,
     "metadata": {},
     "output_type": "execute_result"
    }
   ],
   "source": [
    "lr.intercept_"
   ]
  },
  {
   "cell_type": "code",
   "execution_count": 681,
   "id": "f6e8dd73",
   "metadata": {},
   "outputs": [
    {
     "data": {
      "text/plain": [
       "0.07943629326908885"
      ]
     },
     "execution_count": 681,
     "metadata": {},
     "output_type": "execute_result"
    }
   ],
   "source": [
    "lr.coef_[0]"
   ]
  },
  {
   "cell_type": "code",
   "execution_count": 682,
   "id": "f467d53e",
   "metadata": {
    "scrolled": true
   },
   "outputs": [
    {
     "name": "stdout",
     "output_type": "stream",
     "text": [
      "beta_0: 9.94666751263253, which is the intercept\n",
      "beta_1: 0.07943629326908885, which is the slope or coef_[0]\n"
     ]
    }
   ],
   "source": [
    "beta_1 = lr.coef_[0]\n",
    "beta_0 = lr.intercept_\n",
    "print(f\"beta_0: {beta_0}, which is the intercept\\nbeta_1: {beta_1}, which is the slope or coef_[0]\")"
   ]
  },
  {
   "cell_type": "markdown",
   "id": "d1ca23ca",
   "metadata": {
    "lang": "en"
   },
   "source": [
    "`coef_` It will be a list of coefficients of all the predictor variables, in this case we only have one, the hours we have studied"
   ]
  },
  {
   "cell_type": "code",
   "execution_count": 683,
   "id": "919c0e16",
   "metadata": {},
   "outputs": [
    {
     "data": {
      "text/html": [
       "<div>\n",
       "<style scoped>\n",
       "    .dataframe tbody tr th:only-of-type {\n",
       "        vertical-align: middle;\n",
       "    }\n",
       "\n",
       "    .dataframe tbody tr th {\n",
       "        vertical-align: top;\n",
       "    }\n",
       "\n",
       "    .dataframe thead th {\n",
       "        text-align: right;\n",
       "    }\n",
       "</style>\n",
       "<table border=\"1\" class=\"dataframe\">\n",
       "  <thead>\n",
       "    <tr style=\"text-align: right;\">\n",
       "      <th></th>\n",
       "      <th>hours</th>\n",
       "      <th>grade</th>\n",
       "    </tr>\n",
       "  </thead>\n",
       "  <tbody>\n",
       "    <tr>\n",
       "      <th>0</th>\n",
       "      <td>627</td>\n",
       "      <td>60</td>\n",
       "    </tr>\n",
       "    <tr>\n",
       "      <th>1</th>\n",
       "      <td>529</td>\n",
       "      <td>45</td>\n",
       "    </tr>\n",
       "    <tr>\n",
       "      <th>2</th>\n",
       "      <td>656</td>\n",
       "      <td>64</td>\n",
       "    </tr>\n",
       "    <tr>\n",
       "      <th>3</th>\n",
       "      <td>743</td>\n",
       "      <td>66</td>\n",
       "    </tr>\n",
       "    <tr>\n",
       "      <th>4</th>\n",
       "      <td>640</td>\n",
       "      <td>66</td>\n",
       "    </tr>\n",
       "  </tbody>\n",
       "</table>\n",
       "</div>"
      ],
      "text/plain": [
       "   hours  grade\n",
       "0    627     60\n",
       "1    529     45\n",
       "2    656     64\n",
       "3    743     66\n",
       "4    640     66"
      ]
     },
     "execution_count": 683,
     "metadata": {},
     "output_type": "execute_result"
    }
   ],
   "source": [
    "df.head()"
   ]
  },
  {
   "cell_type": "code",
   "execution_count": 684,
   "id": "f0bca89d",
   "metadata": {},
   "outputs": [],
   "source": [
    "df[\"predict\"] = (df.hours * lr.coef_[0]) + lr.intercept_"
   ]
  },
  {
   "cell_type": "code",
   "execution_count": 685,
   "id": "6da7fd1a",
   "metadata": {},
   "outputs": [
    {
     "data": {
      "text/html": [
       "<div>\n",
       "<style scoped>\n",
       "    .dataframe tbody tr th:only-of-type {\n",
       "        vertical-align: middle;\n",
       "    }\n",
       "\n",
       "    .dataframe tbody tr th {\n",
       "        vertical-align: top;\n",
       "    }\n",
       "\n",
       "    .dataframe thead th {\n",
       "        text-align: right;\n",
       "    }\n",
       "</style>\n",
       "<table border=\"1\" class=\"dataframe\">\n",
       "  <thead>\n",
       "    <tr style=\"text-align: right;\">\n",
       "      <th></th>\n",
       "      <th>hours</th>\n",
       "      <th>grade</th>\n",
       "      <th>predict</th>\n",
       "    </tr>\n",
       "  </thead>\n",
       "  <tbody>\n",
       "    <tr>\n",
       "      <th>0</th>\n",
       "      <td>627</td>\n",
       "      <td>60</td>\n",
       "      <td>59.753223</td>\n",
       "    </tr>\n",
       "    <tr>\n",
       "      <th>1</th>\n",
       "      <td>529</td>\n",
       "      <td>45</td>\n",
       "      <td>51.968467</td>\n",
       "    </tr>\n",
       "    <tr>\n",
       "      <th>2</th>\n",
       "      <td>656</td>\n",
       "      <td>64</td>\n",
       "      <td>62.056876</td>\n",
       "    </tr>\n",
       "    <tr>\n",
       "      <th>3</th>\n",
       "      <td>743</td>\n",
       "      <td>66</td>\n",
       "      <td>68.967833</td>\n",
       "    </tr>\n",
       "    <tr>\n",
       "      <th>4</th>\n",
       "      <td>640</td>\n",
       "      <td>66</td>\n",
       "      <td>60.785895</td>\n",
       "    </tr>\n",
       "  </tbody>\n",
       "</table>\n",
       "</div>"
      ],
      "text/plain": [
       "   hours  grade    predict\n",
       "0    627     60  59.753223\n",
       "1    529     45  51.968467\n",
       "2    656     64  62.056876\n",
       "3    743     66  68.967833\n",
       "4    640     66  60.785895"
      ]
     },
     "execution_count": 685,
     "metadata": {},
     "output_type": "execute_result"
    }
   ],
   "source": [
    "df.head()"
   ]
  },
  {
   "cell_type": "markdown",
   "id": "41da5e7d",
   "metadata": {
    "lang": "en"
   },
   "source": [
    "Reminder for the syntax life of an ML model\n",
    "\n",
    "```python\n",
    "SYNTAX = MODEL.FIT (X,y)\n",
    "```"
   ]
  },
  {
   "cell_type": "code",
   "execution_count": 686,
   "id": "sticky-african",
   "metadata": {},
   "outputs": [
    {
     "data": {
      "text/html": [
       "<div>\n",
       "<style scoped>\n",
       "    .dataframe tbody tr th:only-of-type {\n",
       "        vertical-align: middle;\n",
       "    }\n",
       "\n",
       "    .dataframe tbody tr th {\n",
       "        vertical-align: top;\n",
       "    }\n",
       "\n",
       "    .dataframe thead th {\n",
       "        text-align: right;\n",
       "    }\n",
       "</style>\n",
       "<table border=\"1\" class=\"dataframe\">\n",
       "  <thead>\n",
       "    <tr style=\"text-align: right;\">\n",
       "      <th></th>\n",
       "      <th>hours</th>\n",
       "      <th>grade</th>\n",
       "      <th>predict</th>\n",
       "    </tr>\n",
       "  </thead>\n",
       "  <tbody>\n",
       "    <tr>\n",
       "      <th>0</th>\n",
       "      <td>627</td>\n",
       "      <td>60</td>\n",
       "      <td>59.753223</td>\n",
       "    </tr>\n",
       "    <tr>\n",
       "      <th>1</th>\n",
       "      <td>529</td>\n",
       "      <td>45</td>\n",
       "      <td>51.968467</td>\n",
       "    </tr>\n",
       "    <tr>\n",
       "      <th>2</th>\n",
       "      <td>656</td>\n",
       "      <td>64</td>\n",
       "      <td>62.056876</td>\n",
       "    </tr>\n",
       "    <tr>\n",
       "      <th>3</th>\n",
       "      <td>743</td>\n",
       "      <td>66</td>\n",
       "      <td>68.967833</td>\n",
       "    </tr>\n",
       "    <tr>\n",
       "      <th>4</th>\n",
       "      <td>640</td>\n",
       "      <td>66</td>\n",
       "      <td>60.785895</td>\n",
       "    </tr>\n",
       "  </tbody>\n",
       "</table>\n",
       "</div>"
      ],
      "text/plain": [
       "   hours  grade    predict\n",
       "0    627     60  59.753223\n",
       "1    529     45  51.968467\n",
       "2    656     64  62.056876\n",
       "3    743     66  68.967833\n",
       "4    640     66  60.785895"
      ]
     },
     "execution_count": 686,
     "metadata": {},
     "output_type": "execute_result"
    }
   ],
   "source": [
    "df.head()"
   ]
  },
  {
   "cell_type": "code",
   "execution_count": 687,
   "id": "df06fca0",
   "metadata": {
    "lang": "en"
   },
   "outputs": [],
   "source": [
    "# Now we do it with the data THAT DOES NOT CARRY NOISE"
   ]
  },
  {
   "cell_type": "code",
   "execution_count": 688,
   "id": "a05079fc",
   "metadata": {},
   "outputs": [],
   "source": [
    "lr2 = LinearRegression()"
   ]
  },
  {
   "cell_type": "code",
   "execution_count": 689,
   "id": "coordinated-headquarters",
   "metadata": {},
   "outputs": [
    {
     "data": {
      "text/html": [
       "<style>#sk-container-id-27 {color: black;background-color: white;}#sk-container-id-27 pre{padding: 0;}#sk-container-id-27 div.sk-toggleable {background-color: white;}#sk-container-id-27 label.sk-toggleable__label {cursor: pointer;display: block;width: 100%;margin-bottom: 0;padding: 0.3em;box-sizing: border-box;text-align: center;}#sk-container-id-27 label.sk-toggleable__label-arrow:before {content: \"▸\";float: left;margin-right: 0.25em;color: #696969;}#sk-container-id-27 label.sk-toggleable__label-arrow:hover:before {color: black;}#sk-container-id-27 div.sk-estimator:hover label.sk-toggleable__label-arrow:before {color: black;}#sk-container-id-27 div.sk-toggleable__content {max-height: 0;max-width: 0;overflow: hidden;text-align: left;background-color: #f0f8ff;}#sk-container-id-27 div.sk-toggleable__content pre {margin: 0.2em;color: black;border-radius: 0.25em;background-color: #f0f8ff;}#sk-container-id-27 input.sk-toggleable__control:checked~div.sk-toggleable__content {max-height: 200px;max-width: 100%;overflow: auto;}#sk-container-id-27 input.sk-toggleable__control:checked~label.sk-toggleable__label-arrow:before {content: \"▾\";}#sk-container-id-27 div.sk-estimator input.sk-toggleable__control:checked~label.sk-toggleable__label {background-color: #d4ebff;}#sk-container-id-27 div.sk-label input.sk-toggleable__control:checked~label.sk-toggleable__label {background-color: #d4ebff;}#sk-container-id-27 input.sk-hidden--visually {border: 0;clip: rect(1px 1px 1px 1px);clip: rect(1px, 1px, 1px, 1px);height: 1px;margin: -1px;overflow: hidden;padding: 0;position: absolute;width: 1px;}#sk-container-id-27 div.sk-estimator {font-family: monospace;background-color: #f0f8ff;border: 1px dotted black;border-radius: 0.25em;box-sizing: border-box;margin-bottom: 0.5em;}#sk-container-id-27 div.sk-estimator:hover {background-color: #d4ebff;}#sk-container-id-27 div.sk-parallel-item::after {content: \"\";width: 100%;border-bottom: 1px solid gray;flex-grow: 1;}#sk-container-id-27 div.sk-label:hover label.sk-toggleable__label {background-color: #d4ebff;}#sk-container-id-27 div.sk-serial::before {content: \"\";position: absolute;border-left: 1px solid gray;box-sizing: border-box;top: 0;bottom: 0;left: 50%;z-index: 0;}#sk-container-id-27 div.sk-serial {display: flex;flex-direction: column;align-items: center;background-color: white;padding-right: 0.2em;padding-left: 0.2em;position: relative;}#sk-container-id-27 div.sk-item {position: relative;z-index: 1;}#sk-container-id-27 div.sk-parallel {display: flex;align-items: stretch;justify-content: center;background-color: white;position: relative;}#sk-container-id-27 div.sk-item::before, #sk-container-id-27 div.sk-parallel-item::before {content: \"\";position: absolute;border-left: 1px solid gray;box-sizing: border-box;top: 0;bottom: 0;left: 50%;z-index: -1;}#sk-container-id-27 div.sk-parallel-item {display: flex;flex-direction: column;z-index: 1;position: relative;background-color: white;}#sk-container-id-27 div.sk-parallel-item:first-child::after {align-self: flex-end;width: 50%;}#sk-container-id-27 div.sk-parallel-item:last-child::after {align-self: flex-start;width: 50%;}#sk-container-id-27 div.sk-parallel-item:only-child::after {width: 0;}#sk-container-id-27 div.sk-dashed-wrapped {border: 1px dashed gray;margin: 0 0.4em 0.5em 0.4em;box-sizing: border-box;padding-bottom: 0.4em;background-color: white;}#sk-container-id-27 div.sk-label label {font-family: monospace;font-weight: bold;display: inline-block;line-height: 1.2em;}#sk-container-id-27 div.sk-label-container {text-align: center;}#sk-container-id-27 div.sk-container {/* jupyter's `normalize.less` sets `[hidden] { display: none; }` but bootstrap.min.css set `[hidden] { display: none !important; }` so we also need the `!important` here to be able to override the default hidden behavior on the sphinx rendered scikit-learn.org. See: https://github.com/scikit-learn/scikit-learn/issues/21755 */display: inline-block !important;position: relative;}#sk-container-id-27 div.sk-text-repr-fallback {display: none;}</style><div id=\"sk-container-id-27\" class=\"sk-top-container\"><div class=\"sk-text-repr-fallback\"><pre>LinearRegression()</pre><b>In a Jupyter environment, please rerun this cell to show the HTML representation or trust the notebook. <br />On GitHub, the HTML representation is unable to render, please try loading this page with nbviewer.org.</b></div><div class=\"sk-container\" hidden><div class=\"sk-item\"><div class=\"sk-estimator sk-toggleable\"><input class=\"sk-toggleable__control sk-hidden--visually\" id=\"sk-estimator-id-27\" type=\"checkbox\" checked><label for=\"sk-estimator-id-27\" class=\"sk-toggleable__label sk-toggleable__label-arrow\">LinearRegression</label><div class=\"sk-toggleable__content\"><pre>LinearRegression()</pre></div></div></div></div></div>"
      ],
      "text/plain": [
       "LinearRegression()"
      ]
     },
     "execution_count": 689,
     "metadata": {},
     "output_type": "execute_result"
    }
   ],
   "source": [
    "lr2.fit(\n",
    "    X = df_not_real[[\"hours\"]],\n",
    "    y = df_not_real.grade\n",
    ")"
   ]
  },
  {
   "cell_type": "code",
   "execution_count": 690,
   "id": "ideal-confirmation",
   "metadata": {},
   "outputs": [],
   "source": [
    "beta_1_not_real = lr2.coef_[0]\n",
    "beta_0_not_real = lr2.intercept_"
   ]
  },
  {
   "cell_type": "code",
   "execution_count": 691,
   "id": "color-withdrawal",
   "metadata": {},
   "outputs": [
    {
     "name": "stdout",
     "output_type": "stream",
     "text": [
      "beta_1_not_real:  0.0801398224662144\n",
      "beta_0_not_real:  9.917990252131148\n"
     ]
    }
   ],
   "source": [
    "print(\"beta_1_not_real: \", beta_1_not_real)\n",
    "print(\"beta_0_not_real: \", beta_0_not_real)"
   ]
  },
  {
   "cell_type": "code",
   "execution_count": 692,
   "id": "c9c1ec31",
   "metadata": {
    "scrolled": true
   },
   "outputs": [
    {
     "data": {
      "text/plain": [
       "False"
      ]
     },
     "execution_count": 692,
     "metadata": {},
     "output_type": "execute_result"
    }
   ],
   "source": [
    "beta_1 == beta_1_not_real"
   ]
  },
  {
   "cell_type": "code",
   "execution_count": 693,
   "id": "11fb4fed",
   "metadata": {},
   "outputs": [
    {
     "data": {
      "text/html": [
       "<div>\n",
       "<style scoped>\n",
       "    .dataframe tbody tr th:only-of-type {\n",
       "        vertical-align: middle;\n",
       "    }\n",
       "\n",
       "    .dataframe tbody tr th {\n",
       "        vertical-align: top;\n",
       "    }\n",
       "\n",
       "    .dataframe thead th {\n",
       "        text-align: right;\n",
       "    }\n",
       "</style>\n",
       "<table border=\"1\" class=\"dataframe\">\n",
       "  <thead>\n",
       "    <tr style=\"text-align: right;\">\n",
       "      <th></th>\n",
       "      <th>hours</th>\n",
       "      <th>grade</th>\n",
       "    </tr>\n",
       "  </thead>\n",
       "  <tbody>\n",
       "    <tr>\n",
       "      <th>0</th>\n",
       "      <td>627</td>\n",
       "      <td>60</td>\n",
       "    </tr>\n",
       "    <tr>\n",
       "      <th>1</th>\n",
       "      <td>529</td>\n",
       "      <td>52</td>\n",
       "    </tr>\n",
       "    <tr>\n",
       "      <th>2</th>\n",
       "      <td>656</td>\n",
       "      <td>62</td>\n",
       "    </tr>\n",
       "    <tr>\n",
       "      <th>3</th>\n",
       "      <td>743</td>\n",
       "      <td>69</td>\n",
       "    </tr>\n",
       "    <tr>\n",
       "      <th>4</th>\n",
       "      <td>640</td>\n",
       "      <td>61</td>\n",
       "    </tr>\n",
       "  </tbody>\n",
       "</table>\n",
       "</div>"
      ],
      "text/plain": [
       "   hours  grade\n",
       "0    627     60\n",
       "1    529     52\n",
       "2    656     62\n",
       "3    743     69\n",
       "4    640     61"
      ]
     },
     "execution_count": 693,
     "metadata": {},
     "output_type": "execute_result"
    }
   ],
   "source": [
    "df_not_real.head()"
   ]
  },
  {
   "cell_type": "markdown",
   "id": "8debcf70",
   "metadata": {},
   "source": [
    "- Two variables: quantitative\n",
    "- Create a model to predict:\n",
    "    - `model.fit(X, y)` \n",
    "        -> #no tautologies: How well the regression line represents the observed data\n",
    "        -> Creates the best regression line: the one with less error\n",
    "        -> Finds out the **linear** equation that describes the points w/ less error\n",
    "        -> X: is a df & y is a series\n",
    "    \n",
    "    - `model.predict()`\n",
    "        -> Get a new value based on that equation model.fit gives us"
   ]
  },
  {
   "cell_type": "markdown",
   "id": "a1569812",
   "metadata": {},
   "source": [
    "**\"It's because of math\"** 💯"
   ]
  },
  {
   "cell_type": "code",
   "execution_count": 694,
   "id": "d3ff2d1c",
   "metadata": {},
   "outputs": [],
   "source": [
    "def prediction_grades (hours):\n",
    "    return hours * 10 - 3"
   ]
  },
  {
   "cell_type": "markdown",
   "id": "e26bfe20",
   "metadata": {
    "lang": "en"
   },
   "source": [
    "## How good is our model?"
   ]
  },
  {
   "cell_type": "markdown",
   "id": "4854b3bf",
   "metadata": {
    "lang": "en"
   },
   "source": [
    "The numerical difference between the *least squares regression line* and the actual value is called the *residual* , and it represents the error in the estimate: $e = y_i - \\hat{y}$.\n",
    "The regression line minimized the **Residual Sum of Squares** (RSS)\n",
    "\n",
    "The residual sum of squares measures the amount of error remaining between the regression function and the data set. a smaller residual sum of squares represents a regression function. The residual sum of squares, also known as the sum of squared residuals, essentially determines how well a regression model explains or represents the data in the model.\n",
    "\n",
    "$$RSS = e_1^2 + e_2^2 + \\dots + e_n ^2$$"
   ]
  },
  {
   "cell_type": "markdown",
   "id": "a34f686d",
   "metadata": {
    "lang": "en"
   },
   "source": [
    "If we only used the mean as the predicted value for each prediction, the error we would make is (**total sum of squares**)\n",
    "\n",
    "$$TSS=\\Sigma(y_i - \\bar{y}_i)^2$$\n",
    "Let's consider this our starting point, make a prediction and plot it"
   ]
  },
  {
   "cell_type": "code",
   "execution_count": 695,
   "id": "89b4f868",
   "metadata": {
    "lang": "en"
   },
   "outputs": [],
   "source": [
    "# Let's put it in a dataframe to see it more clearly"
   ]
  },
  {
   "cell_type": "code",
   "execution_count": 696,
   "id": "romantic-objective",
   "metadata": {
    "scrolled": true
   },
   "outputs": [
    {
     "data": {
      "text/html": [
       "<div>\n",
       "<style scoped>\n",
       "    .dataframe tbody tr th:only-of-type {\n",
       "        vertical-align: middle;\n",
       "    }\n",
       "\n",
       "    .dataframe tbody tr th {\n",
       "        vertical-align: top;\n",
       "    }\n",
       "\n",
       "    .dataframe thead th {\n",
       "        text-align: right;\n",
       "    }\n",
       "</style>\n",
       "<table border=\"1\" class=\"dataframe\">\n",
       "  <thead>\n",
       "    <tr style=\"text-align: right;\">\n",
       "      <th></th>\n",
       "      <th>hours</th>\n",
       "      <th>grade</th>\n",
       "      <th>predict</th>\n",
       "      <th>avg</th>\n",
       "    </tr>\n",
       "  </thead>\n",
       "  <tbody>\n",
       "    <tr>\n",
       "      <th>0</th>\n",
       "      <td>627</td>\n",
       "      <td>60</td>\n",
       "      <td>59.753223</td>\n",
       "      <td>57.22</td>\n",
       "    </tr>\n",
       "    <tr>\n",
       "      <th>1</th>\n",
       "      <td>529</td>\n",
       "      <td>45</td>\n",
       "      <td>51.968467</td>\n",
       "      <td>57.22</td>\n",
       "    </tr>\n",
       "    <tr>\n",
       "      <th>2</th>\n",
       "      <td>656</td>\n",
       "      <td>64</td>\n",
       "      <td>62.056876</td>\n",
       "      <td>57.22</td>\n",
       "    </tr>\n",
       "    <tr>\n",
       "      <th>3</th>\n",
       "      <td>743</td>\n",
       "      <td>66</td>\n",
       "      <td>68.967833</td>\n",
       "      <td>57.22</td>\n",
       "    </tr>\n",
       "    <tr>\n",
       "      <th>4</th>\n",
       "      <td>640</td>\n",
       "      <td>66</td>\n",
       "      <td>60.785895</td>\n",
       "      <td>57.22</td>\n",
       "    </tr>\n",
       "  </tbody>\n",
       "</table>\n",
       "</div>"
      ],
      "text/plain": [
       "   hours  grade    predict    avg\n",
       "0    627     60  59.753223  57.22\n",
       "1    529     45  51.968467  57.22\n",
       "2    656     64  62.056876  57.22\n",
       "3    743     66  68.967833  57.22\n",
       "4    640     66  60.785895  57.22"
      ]
     },
     "execution_count": 696,
     "metadata": {},
     "output_type": "execute_result"
    }
   ],
   "source": [
    "df[\"avg\"] = df.grade.mean()\n",
    "df.head()"
   ]
  },
  {
   "cell_type": "code",
   "execution_count": 697,
   "id": "fewer-massage",
   "metadata": {},
   "outputs": [
    {
     "data": {
      "text/plain": [
       "<matplotlib.collections.LineCollection at 0x7ffbd157c760>"
      ]
     },
     "execution_count": 697,
     "metadata": {},
     "output_type": "execute_result"
    },
    {
     "data": {
      "image/png": "[encoded data removed]",
      "text/plain": [
       "<Figure size 1080x576 with 1 Axes>"
      ]
     },
     "metadata": {},
     "output_type": "display_data"
    }
   ],
   "source": [
    "#grades = [df.grade.mean()] * num_grades\n",
    "plt.scatter(X,y)\n",
    "plt.plot(X, df.avg, lw=3)\n",
    "plt.vlines(X, df.avg, y, lw=0.4)"
   ]
  },
  {
   "cell_type": "code",
   "execution_count": 698,
   "id": "04698e86",
   "metadata": {
    "lang": "en"
   },
   "outputs": [
    {
     "data": {
      "text/plain": [
       "18889.159999999996"
      ]
     },
     "execution_count": 698,
     "metadata": {},
     "output_type": "execute_result"
    }
   ],
   "source": [
    "# Calculate TSS for the above model\n",
    "TSS = ((df.grade - df.avg) ** 2).sum()\n",
    "TSS"
   ]
  },
  {
   "cell_type": "markdown",
   "id": "c20aee76",
   "metadata": {
    "lang": "en"
   },
   "source": [
    "Recall that linear regression coefficients minimize the $RSS=Sigma(y_i - \\hat{y_i})^2$, that is, the amount of variability that remains unexplained after running the regression. The [coefficient of determination](https://en.wikipedia.org/wiki/Coefficient_of_determination):\n",
    "\n",
    "$$R^2 = \\frac{TSS -RSS}{TSS} = 1-\\frac{RSS}{TSS}$$\n",
    "\n",
    "measures the \"*proportion of variability in Y that can be explained by X*\". It is a measure of the linear relationship that exists between $X$ and $y$.\n",
    "\n",
    "**Note:** in the case of simple linear regression, the $R^2$ coefficient is nothing more than the square of the *Pearson* correlation coefficient that we already know."
   ]
  },
  {
   "cell_type": "code",
   "execution_count": 699,
   "id": "abe24e6d",
   "metadata": {},
   "outputs": [
    {
     "data": {
      "text/html": [
       "<div>\n",
       "<style scoped>\n",
       "    .dataframe tbody tr th:only-of-type {\n",
       "        vertical-align: middle;\n",
       "    }\n",
       "\n",
       "    .dataframe tbody tr th {\n",
       "        vertical-align: top;\n",
       "    }\n",
       "\n",
       "    .dataframe thead th {\n",
       "        text-align: right;\n",
       "    }\n",
       "</style>\n",
       "<table border=\"1\" class=\"dataframe\">\n",
       "  <thead>\n",
       "    <tr style=\"text-align: right;\">\n",
       "      <th></th>\n",
       "      <th>hours</th>\n",
       "      <th>grade</th>\n",
       "      <th>predict</th>\n",
       "      <th>avg</th>\n",
       "    </tr>\n",
       "  </thead>\n",
       "  <tbody>\n",
       "    <tr>\n",
       "      <th>0</th>\n",
       "      <td>627</td>\n",
       "      <td>60</td>\n",
       "      <td>59.753223</td>\n",
       "      <td>57.22</td>\n",
       "    </tr>\n",
       "    <tr>\n",
       "      <th>1</th>\n",
       "      <td>529</td>\n",
       "      <td>45</td>\n",
       "      <td>51.968467</td>\n",
       "      <td>57.22</td>\n",
       "    </tr>\n",
       "    <tr>\n",
       "      <th>2</th>\n",
       "      <td>656</td>\n",
       "      <td>64</td>\n",
       "      <td>62.056876</td>\n",
       "      <td>57.22</td>\n",
       "    </tr>\n",
       "    <tr>\n",
       "      <th>3</th>\n",
       "      <td>743</td>\n",
       "      <td>66</td>\n",
       "      <td>68.967833</td>\n",
       "      <td>57.22</td>\n",
       "    </tr>\n",
       "    <tr>\n",
       "      <th>4</th>\n",
       "      <td>640</td>\n",
       "      <td>66</td>\n",
       "      <td>60.785895</td>\n",
       "      <td>57.22</td>\n",
       "    </tr>\n",
       "  </tbody>\n",
       "</table>\n",
       "</div>"
      ],
      "text/plain": [
       "   hours  grade    predict    avg\n",
       "0    627     60  59.753223  57.22\n",
       "1    529     45  51.968467  57.22\n",
       "2    656     64  62.056876  57.22\n",
       "3    743     66  68.967833  57.22\n",
       "4    640     66  60.785895  57.22"
      ]
     },
     "execution_count": 699,
     "metadata": {},
     "output_type": "execute_result"
    }
   ],
   "source": [
    "df.head()"
   ]
  },
  {
   "cell_type": "code",
   "execution_count": 700,
   "id": "50b6600b",
   "metadata": {},
   "outputs": [
    {
     "data": {
      "text/html": [
       "<div>\n",
       "<style scoped>\n",
       "    .dataframe tbody tr th:only-of-type {\n",
       "        vertical-align: middle;\n",
       "    }\n",
       "\n",
       "    .dataframe tbody tr th {\n",
       "        vertical-align: top;\n",
       "    }\n",
       "\n",
       "    .dataframe thead th {\n",
       "        text-align: right;\n",
       "    }\n",
       "</style>\n",
       "<table border=\"1\" class=\"dataframe\">\n",
       "  <thead>\n",
       "    <tr style=\"text-align: right;\">\n",
       "      <th></th>\n",
       "      <th>hours</th>\n",
       "      <th>grade</th>\n",
       "      <th>predict</th>\n",
       "      <th>avg</th>\n",
       "    </tr>\n",
       "  </thead>\n",
       "  <tbody>\n",
       "    <tr>\n",
       "      <th>0</th>\n",
       "      <td>627</td>\n",
       "      <td>60</td>\n",
       "      <td>59.753223</td>\n",
       "      <td>57.22</td>\n",
       "    </tr>\n",
       "    <tr>\n",
       "      <th>1</th>\n",
       "      <td>529</td>\n",
       "      <td>45</td>\n",
       "      <td>51.968467</td>\n",
       "      <td>57.22</td>\n",
       "    </tr>\n",
       "    <tr>\n",
       "      <th>2</th>\n",
       "      <td>656</td>\n",
       "      <td>64</td>\n",
       "      <td>62.056876</td>\n",
       "      <td>57.22</td>\n",
       "    </tr>\n",
       "    <tr>\n",
       "      <th>3</th>\n",
       "      <td>743</td>\n",
       "      <td>66</td>\n",
       "      <td>68.967833</td>\n",
       "      <td>57.22</td>\n",
       "    </tr>\n",
       "    <tr>\n",
       "      <th>4</th>\n",
       "      <td>640</td>\n",
       "      <td>66</td>\n",
       "      <td>60.785895</td>\n",
       "      <td>57.22</td>\n",
       "    </tr>\n",
       "  </tbody>\n",
       "</table>\n",
       "</div>"
      ],
      "text/plain": [
       "   hours  grade    predict    avg\n",
       "0    627     60  59.753223  57.22\n",
       "1    529     45  51.968467  57.22\n",
       "2    656     64  62.056876  57.22\n",
       "3    743     66  68.967833  57.22\n",
       "4    640     66  60.785895  57.22"
      ]
     },
     "execution_count": 700,
     "metadata": {},
     "output_type": "execute_result"
    }
   ],
   "source": [
    "df.head()"
   ]
  },
  {
   "cell_type": "markdown",
   "id": "4816a59c",
   "metadata": {
    "lang": "en"
   },
   "source": [
    "## Calculate the R2 of the model"
   ]
  },
  {
   "cell_type": "code",
   "execution_count": 701,
   "id": "alone-premiere",
   "metadata": {},
   "outputs": [
    {
     "data": {
      "text/plain": [
       "2065.460248076118"
      ]
     },
     "execution_count": 701,
     "metadata": {},
     "output_type": "execute_result"
    }
   ],
   "source": [
    "RSS = ((df.grade - df[\"predict\"]) ** 2).sum()\n",
    "RSS"
   ]
  },
  {
   "cell_type": "code",
   "execution_count": 702,
   "id": "dietary-boxing",
   "metadata": {
    "lang": "es"
   },
   "outputs": [
    {
     "data": {
      "text/plain": [
       "18889.159999999996"
      ]
     },
     "execution_count": 702,
     "metadata": {},
     "output_type": "execute_result"
    }
   ],
   "source": [
    "# Calculate TSS for the above model\n",
    "TSS = ((df.grade - df.avg) ** 2).sum()\n",
    "TSS"
   ]
  },
  {
   "cell_type": "code",
   "execution_count": 704,
   "id": "adjustable-rogers",
   "metadata": {},
   "outputs": [],
   "source": [
    "r2 = 1-(RSS/TSS)"
   ]
  },
  {
   "cell_type": "code",
   "execution_count": 705,
   "id": "medieval-lancaster",
   "metadata": {},
   "outputs": [
    {
     "data": {
      "text/plain": [
       "0.8906536739550028"
      ]
     },
     "execution_count": 705,
     "metadata": {},
     "output_type": "execute_result"
    }
   ],
   "source": [
    "r2"
   ]
  },
  {
   "cell_type": "code",
   "execution_count": 710,
   "id": "surface-constant",
   "metadata": {},
   "outputs": [
    {
     "data": {
      "image/png": "[encoded data removed]",
      "text/plain": [
       "<Figure size 1080x576 with 1 Axes>"
      ]
     },
     "metadata": {},
     "output_type": "display_data"
    }
   ],
   "source": [
    "line = beta_0 + beta_1 * X # the actual regression line\n",
    "plt.scatter(X,y) \n",
    "plt.plot(X,line, lw=2) # plotting the actual regression line\n",
    "plt.vlines(X,line,y, lw=0.4)\n",
    "plt.xlabel(\"Hours\")\n",
    "plt.ylabel(\"Grades\");"
   ]
  },
  {
   "cell_type": "markdown",
   "id": "107c1a48",
   "metadata": {
    "lang": "en"
   },
   "source": [
    "$R^2$ measures how good our regression model is. The bigger the better. It is a value between 0 and 1\n",
    "\n",
    "**NOTE**: it is computable for any model, it does not matter if it is linear or not. Only the actual and predicted values ​​are needed."
   ]
  },
  {
   "cell_type": "markdown",
   "id": "4dd3387a",
   "metadata": {},
   "source": [
    "#### Checkpoint\n",
    "\n",
    "- R squared is a measure of how good my model is\n",
    "- It goes from 0 to 1\n",
    "- The bigger, the better\n",
    "\n",
    "- Compare models: decide on the one with the biggest R squared"
   ]
  },
  {
   "cell_type": "markdown",
   "id": "73807966",
   "metadata": {
    "lang": "en"
   },
   "source": [
    "## Linear regression with sklearn"
   ]
  },
  {
   "cell_type": "code",
   "execution_count": 711,
   "id": "urban-egyptian",
   "metadata": {},
   "outputs": [
    {
     "data": {
      "text/html": [
       "<div>\n",
       "<style scoped>\n",
       "    .dataframe tbody tr th:only-of-type {\n",
       "        vertical-align: middle;\n",
       "    }\n",
       "\n",
       "    .dataframe tbody tr th {\n",
       "        vertical-align: top;\n",
       "    }\n",
       "\n",
       "    .dataframe thead th {\n",
       "        text-align: right;\n",
       "    }\n",
       "</style>\n",
       "<table border=\"1\" class=\"dataframe\">\n",
       "  <thead>\n",
       "    <tr style=\"text-align: right;\">\n",
       "      <th></th>\n",
       "      <th>hours</th>\n",
       "      <th>grade</th>\n",
       "      <th>predict</th>\n",
       "      <th>avg</th>\n",
       "    </tr>\n",
       "  </thead>\n",
       "  <tbody>\n",
       "    <tr>\n",
       "      <th>0</th>\n",
       "      <td>627</td>\n",
       "      <td>60</td>\n",
       "      <td>59.753223</td>\n",
       "      <td>57.22</td>\n",
       "    </tr>\n",
       "    <tr>\n",
       "      <th>1</th>\n",
       "      <td>529</td>\n",
       "      <td>45</td>\n",
       "      <td>51.968467</td>\n",
       "      <td>57.22</td>\n",
       "    </tr>\n",
       "    <tr>\n",
       "      <th>2</th>\n",
       "      <td>656</td>\n",
       "      <td>64</td>\n",
       "      <td>62.056876</td>\n",
       "      <td>57.22</td>\n",
       "    </tr>\n",
       "    <tr>\n",
       "      <th>3</th>\n",
       "      <td>743</td>\n",
       "      <td>66</td>\n",
       "      <td>68.967833</td>\n",
       "      <td>57.22</td>\n",
       "    </tr>\n",
       "    <tr>\n",
       "      <th>4</th>\n",
       "      <td>640</td>\n",
       "      <td>66</td>\n",
       "      <td>60.785895</td>\n",
       "      <td>57.22</td>\n",
       "    </tr>\n",
       "  </tbody>\n",
       "</table>\n",
       "</div>"
      ],
      "text/plain": [
       "   hours  grade    predict    avg\n",
       "0    627     60  59.753223  57.22\n",
       "1    529     45  51.968467  57.22\n",
       "2    656     64  62.056876  57.22\n",
       "3    743     66  68.967833  57.22\n",
       "4    640     66  60.785895  57.22"
      ]
     },
     "execution_count": 711,
     "metadata": {},
     "output_type": "execute_result"
    }
   ],
   "source": [
    "df.head()"
   ]
  },
  {
   "cell_type": "code",
   "execution_count": 712,
   "id": "super-stuff",
   "metadata": {
    "lang": "es"
   },
   "outputs": [],
   "source": [
    "# Save the variables x,y\n",
    "X = df[[\"hours\"]]\n",
    "y = df.grade"
   ]
  },
  {
   "cell_type": "code",
   "execution_count": 713,
   "id": "5505c958",
   "metadata": {
    "lang": "en"
   },
   "outputs": [
    {
     "data": {
      "text/html": [
       "<style>#sk-container-id-28 {color: black;background-color: white;}#sk-container-id-28 pre{padding: 0;}#sk-container-id-28 div.sk-toggleable {background-color: white;}#sk-container-id-28 label.sk-toggleable__label {cursor: pointer;display: block;width: 100%;margin-bottom: 0;padding: 0.3em;box-sizing: border-box;text-align: center;}#sk-container-id-28 label.sk-toggleable__label-arrow:before {content: \"▸\";float: left;margin-right: 0.25em;color: #696969;}#sk-container-id-28 label.sk-toggleable__label-arrow:hover:before {color: black;}#sk-container-id-28 div.sk-estimator:hover label.sk-toggleable__label-arrow:before {color: black;}#sk-container-id-28 div.sk-toggleable__content {max-height: 0;max-width: 0;overflow: hidden;text-align: left;background-color: #f0f8ff;}#sk-container-id-28 div.sk-toggleable__content pre {margin: 0.2em;color: black;border-radius: 0.25em;background-color: #f0f8ff;}#sk-container-id-28 input.sk-toggleable__control:checked~div.sk-toggleable__content {max-height: 200px;max-width: 100%;overflow: auto;}#sk-container-id-28 input.sk-toggleable__control:checked~label.sk-toggleable__label-arrow:before {content: \"▾\";}#sk-container-id-28 div.sk-estimator input.sk-toggleable__control:checked~label.sk-toggleable__label {background-color: #d4ebff;}#sk-container-id-28 div.sk-label input.sk-toggleable__control:checked~label.sk-toggleable__label {background-color: #d4ebff;}#sk-container-id-28 input.sk-hidden--visually {border: 0;clip: rect(1px 1px 1px 1px);clip: rect(1px, 1px, 1px, 1px);height: 1px;margin: -1px;overflow: hidden;padding: 0;position: absolute;width: 1px;}#sk-container-id-28 div.sk-estimator {font-family: monospace;background-color: #f0f8ff;border: 1px dotted black;border-radius: 0.25em;box-sizing: border-box;margin-bottom: 0.5em;}#sk-container-id-28 div.sk-estimator:hover {background-color: #d4ebff;}#sk-container-id-28 div.sk-parallel-item::after {content: \"\";width: 100%;border-bottom: 1px solid gray;flex-grow: 1;}#sk-container-id-28 div.sk-label:hover label.sk-toggleable__label {background-color: #d4ebff;}#sk-container-id-28 div.sk-serial::before {content: \"\";position: absolute;border-left: 1px solid gray;box-sizing: border-box;top: 0;bottom: 0;left: 50%;z-index: 0;}#sk-container-id-28 div.sk-serial {display: flex;flex-direction: column;align-items: center;background-color: white;padding-right: 0.2em;padding-left: 0.2em;position: relative;}#sk-container-id-28 div.sk-item {position: relative;z-index: 1;}#sk-container-id-28 div.sk-parallel {display: flex;align-items: stretch;justify-content: center;background-color: white;position: relative;}#sk-container-id-28 div.sk-item::before, #sk-container-id-28 div.sk-parallel-item::before {content: \"\";position: absolute;border-left: 1px solid gray;box-sizing: border-box;top: 0;bottom: 0;left: 50%;z-index: -1;}#sk-container-id-28 div.sk-parallel-item {display: flex;flex-direction: column;z-index: 1;position: relative;background-color: white;}#sk-container-id-28 div.sk-parallel-item:first-child::after {align-self: flex-end;width: 50%;}#sk-container-id-28 div.sk-parallel-item:last-child::after {align-self: flex-start;width: 50%;}#sk-container-id-28 div.sk-parallel-item:only-child::after {width: 0;}#sk-container-id-28 div.sk-dashed-wrapped {border: 1px dashed gray;margin: 0 0.4em 0.5em 0.4em;box-sizing: border-box;padding-bottom: 0.4em;background-color: white;}#sk-container-id-28 div.sk-label label {font-family: monospace;font-weight: bold;display: inline-block;line-height: 1.2em;}#sk-container-id-28 div.sk-label-container {text-align: center;}#sk-container-id-28 div.sk-container {/* jupyter's `normalize.less` sets `[hidden] { display: none; }` but bootstrap.min.css set `[hidden] { display: none !important; }` so we also need the `!important` here to be able to override the default hidden behavior on the sphinx rendered scikit-learn.org. See: https://github.com/scikit-learn/scikit-learn/issues/21755 */display: inline-block !important;position: relative;}#sk-container-id-28 div.sk-text-repr-fallback {display: none;}</style><div id=\"sk-container-id-28\" class=\"sk-top-container\"><div class=\"sk-text-repr-fallback\"><pre>LinearRegression()</pre><b>In a Jupyter environment, please rerun this cell to show the HTML representation or trust the notebook. <br />On GitHub, the HTML representation is unable to render, please try loading this page with nbviewer.org.</b></div><div class=\"sk-container\" hidden><div class=\"sk-item\"><div class=\"sk-estimator sk-toggleable\"><input class=\"sk-toggleable__control sk-hidden--visually\" id=\"sk-estimator-id-28\" type=\"checkbox\" checked><label for=\"sk-estimator-id-28\" class=\"sk-toggleable__label sk-toggleable__label-arrow\">LinearRegression</label><div class=\"sk-toggleable__content\"><pre>LinearRegression()</pre></div></div></div></div></div>"
      ],
      "text/plain": [
       "LinearRegression()"
      ]
     },
     "execution_count": 713,
     "metadata": {},
     "output_type": "execute_result"
    }
   ],
   "source": [
    "# train the algorithm\n",
    "lr.fit(X,y)"
   ]
  },
  {
   "cell_type": "code",
   "execution_count": 714,
   "id": "unique-flight",
   "metadata": {},
   "outputs": [],
   "source": [
    "df[\"predict_algorithm\"] = lr.predict(X)"
   ]
  },
  {
   "cell_type": "code",
   "execution_count": 715,
   "id": "broke-updating",
   "metadata": {},
   "outputs": [
    {
     "data": {
      "text/html": [
       "<div>\n",
       "<style scoped>\n",
       "    .dataframe tbody tr th:only-of-type {\n",
       "        vertical-align: middle;\n",
       "    }\n",
       "\n",
       "    .dataframe tbody tr th {\n",
       "        vertical-align: top;\n",
       "    }\n",
       "\n",
       "    .dataframe thead th {\n",
       "        text-align: right;\n",
       "    }\n",
       "</style>\n",
       "<table border=\"1\" class=\"dataframe\">\n",
       "  <thead>\n",
       "    <tr style=\"text-align: right;\">\n",
       "      <th></th>\n",
       "      <th>hours</th>\n",
       "      <th>grade</th>\n",
       "      <th>predict</th>\n",
       "      <th>avg</th>\n",
       "      <th>predict_algorithm</th>\n",
       "    </tr>\n",
       "  </thead>\n",
       "  <tbody>\n",
       "    <tr>\n",
       "      <th>0</th>\n",
       "      <td>627</td>\n",
       "      <td>60</td>\n",
       "      <td>59.753223</td>\n",
       "      <td>57.22</td>\n",
       "      <td>59.753223</td>\n",
       "    </tr>\n",
       "    <tr>\n",
       "      <th>1</th>\n",
       "      <td>529</td>\n",
       "      <td>45</td>\n",
       "      <td>51.968467</td>\n",
       "      <td>57.22</td>\n",
       "      <td>51.968467</td>\n",
       "    </tr>\n",
       "    <tr>\n",
       "      <th>2</th>\n",
       "      <td>656</td>\n",
       "      <td>64</td>\n",
       "      <td>62.056876</td>\n",
       "      <td>57.22</td>\n",
       "      <td>62.056876</td>\n",
       "    </tr>\n",
       "    <tr>\n",
       "      <th>3</th>\n",
       "      <td>743</td>\n",
       "      <td>66</td>\n",
       "      <td>68.967833</td>\n",
       "      <td>57.22</td>\n",
       "      <td>68.967833</td>\n",
       "    </tr>\n",
       "    <tr>\n",
       "      <th>4</th>\n",
       "      <td>640</td>\n",
       "      <td>66</td>\n",
       "      <td>60.785895</td>\n",
       "      <td>57.22</td>\n",
       "      <td>60.785895</td>\n",
       "    </tr>\n",
       "  </tbody>\n",
       "</table>\n",
       "</div>"
      ],
      "text/plain": [
       "   hours  grade    predict    avg  predict_algorithm\n",
       "0    627     60  59.753223  57.22          59.753223\n",
       "1    529     45  51.968467  57.22          51.968467\n",
       "2    656     64  62.056876  57.22          62.056876\n",
       "3    743     66  68.967833  57.22          68.967833\n",
       "4    640     66  60.785895  57.22          60.785895"
      ]
     },
     "execution_count": 715,
     "metadata": {},
     "output_type": "execute_result"
    }
   ],
   "source": [
    "df.head()"
   ]
  },
  {
   "cell_type": "code",
   "execution_count": 716,
   "id": "similar-planner",
   "metadata": {},
   "outputs": [],
   "source": [
    "from sklearn import metrics"
   ]
  },
  {
   "cell_type": "markdown",
   "id": "de20e9cc",
   "metadata": {
    "lang": "en"
   },
   "source": [
    "**Calculation of the absolute mean error, the mean square error and the mean square error\n",
    "\n",
    "- **MAE** is the easiest to understand, because it is the mean error.\n",
    "- **The MSE** is more popular than the MAE, because the MSE accounts for larger errors, which is often useful in the real world.\n",
    "- **RMSE** is even more popular than MSE, it is the square root of the MSE and measures the standard deviation of the residuals.\n",
    "\n",
    "These are all **loss functions**: we want to minimize them."
   ]
  },
  {
   "cell_type": "code",
   "execution_count": 719,
   "id": "744774cb",
   "metadata": {
    "scrolled": true
   },
   "outputs": [
    {
     "name": "stdout",
     "output_type": "stream",
     "text": [
      "MAE:  3.6291650832530684\n",
      "MSE:  20.65460248076118\n",
      "RMSE:  4.544733488419445\n",
      "R2:  0.8906536739550028\n"
     ]
    }
   ],
   "source": [
    "# We want the smallest value, as close to zero as possible: how bad it is \n",
    "print(f\"MAE: \", metrics.mean_absolute_error(df.grade, df.predict_algorithm))\n",
    "print(f\"MSE: \", metrics.mean_squared_error(df.grade, df.predict_algorithm))\n",
    "print(f\"RMSE: \", np.sqrt(metrics.mean_squared_error(df.grade, df.predict_algorithm)))\n",
    "\n",
    "# We want to get as close to 1 as possible: how good it is\n",
    "print(f\"R2: \", metrics.r2_score(df.grade, df.predict_algorithm))"
   ]
  },
  {
   "cell_type": "markdown",
   "id": "a912ccad",
   "metadata": {},
   "source": [
    "#### Checkpoint\n",
    "\n",
    "1. Define: `(X, y)`\n",
    "2. `model.fit`\n",
    "3. `model.predict` based on the fit\n",
    "4. Evalute how good my model is: **Errors & R2**"
   ]
  },
  {
   "cell_type": "markdown",
   "id": "characteristic-spanking",
   "metadata": {
    "lang": "es"
   },
   "source": [
    "Read more about MAE, MSE, RMSE AND R2 [here](http://medium.com/analytics-vidhya/mae-mse-rmse-coefficient-of-determination-adjusted-r-squared-which-metric-is-better-cd0326a5697e)"
   ]
  },
  {
   "cell_type": "markdown",
   "id": "beb9bf74",
   "metadata": {
    "lang": "en"
   },
   "source": [
    "## Linear regression with statsmodels"
   ]
  },
  {
   "cell_type": "markdown",
   "id": "be450c43",
   "metadata": {
    "lang": "en"
   },
   "source": [
    "A bit of [documentation](https://www.statsmodels.org/stable/generated/statsmodels.regression.linear_model.OLS.html)\n",
    "\n",
    "And [this article](https://jyotiyadav99111.medium.com/statistics-how-should-i-interpret-results-of-ols-3bde1ebeec01) that summarizes how to interpret OLS summary information"
   ]
  },
  {
   "cell_type": "code",
   "execution_count": 722,
   "id": "gross-tongue",
   "metadata": {},
   "outputs": [
    {
     "data": {
      "text/html": [
       "<table class=\"simpletable\">\n",
       "<caption>OLS Regression Results</caption>\n",
       "<tr>\n",
       "  <th>Dep. Variable:</th>          <td>grade</td>      <th>  R-squared:         </th> <td>   0.891</td>\n",
       "</tr>\n",
       "<tr>\n",
       "  <th>Model:</th>                   <td>OLS</td>       <th>  Adj. R-squared:    </th> <td>   0.890</td>\n",
       "</tr>\n",
       "<tr>\n",
       "  <th>Method:</th>             <td>Least Squares</td>  <th>  F-statistic:       </th> <td>   798.2</td>\n",
       "</tr>\n",
       "<tr>\n",
       "  <th>Date:</th>             <td>Tue, 16 Aug 2022</td> <th>  Prob (F-statistic):</th> <td>6.78e-49</td>\n",
       "</tr>\n",
       "<tr>\n",
       "  <th>Time:</th>                 <td>13:02:22</td>     <th>  Log-Likelihood:    </th> <td> -293.29</td>\n",
       "</tr>\n",
       "<tr>\n",
       "  <th>No. Observations:</th>      <td>   100</td>      <th>  AIC:               </th> <td>   590.6</td>\n",
       "</tr>\n",
       "<tr>\n",
       "  <th>Df Residuals:</th>          <td>    98</td>      <th>  BIC:               </th> <td>   595.8</td>\n",
       "</tr>\n",
       "<tr>\n",
       "  <th>Df Model:</th>              <td>     1</td>      <th>                     </th>     <td> </td>   \n",
       "</tr>\n",
       "<tr>\n",
       "  <th>Covariance Type:</th>      <td>nonrobust</td>    <th>                     </th>     <td> </td>   \n",
       "</tr>\n",
       "</table>\n",
       "<table class=\"simpletable\">\n",
       "<tr>\n",
       "      <td></td>         <th>coef</th>     <th>std err</th>      <th>t</th>      <th>P>|t|</th>  <th>[0.025</th>    <th>0.975]</th>  \n",
       "</tr>\n",
       "<tr>\n",
       "  <th>Intercept</th> <td>    9.9467</td> <td>    1.735</td> <td>    5.733</td> <td> 0.000</td> <td>    6.504</td> <td>   13.390</td>\n",
       "</tr>\n",
       "<tr>\n",
       "  <th>hours</th>     <td>    0.0794</td> <td>    0.003</td> <td>   28.253</td> <td> 0.000</td> <td>    0.074</td> <td>    0.085</td>\n",
       "</tr>\n",
       "</table>\n",
       "<table class=\"simpletable\">\n",
       "<tr>\n",
       "  <th>Omnibus:</th>       <td> 7.703</td> <th>  Durbin-Watson:     </th> <td>   1.934</td>\n",
       "</tr>\n",
       "<tr>\n",
       "  <th>Prob(Omnibus):</th> <td> 0.021</td> <th>  Jarque-Bera (JB):  </th> <td>   7.289</td>\n",
       "</tr>\n",
       "<tr>\n",
       "  <th>Skew:</th>          <td>-0.630</td> <th>  Prob(JB):          </th> <td>  0.0261</td>\n",
       "</tr>\n",
       "<tr>\n",
       "  <th>Kurtosis:</th>      <td> 3.400</td> <th>  Cond. No.          </th> <td>2.33e+03</td>\n",
       "</tr>\n",
       "</table><br/><br/>Notes:<br/>[1] Standard Errors assume that the covariance matrix of the errors is correctly specified.<br/>[2] The condition number is large, 2.33e+03. This might indicate that there are<br/>strong multicollinearity or other numerical problems."
      ],
      "text/plain": [
       "<class 'statsmodels.iolib.summary.Summary'>\n",
       "\"\"\"\n",
       "                            OLS Regression Results                            \n",
       "==============================================================================\n",
       "Dep. Variable:                  grade   R-squared:                       0.891\n",
       "Model:                            OLS   Adj. R-squared:                  0.890\n",
       "Method:                 Least Squares   F-statistic:                     798.2\n",
       "Date:                Tue, 16 Aug 2022   Prob (F-statistic):           6.78e-49\n",
       "Time:                        13:02:22   Log-Likelihood:                -293.29\n",
       "No. Observations:                 100   AIC:                             590.6\n",
       "Df Residuals:                      98   BIC:                             595.8\n",
       "Df Model:                           1                                         \n",
       "Covariance Type:            nonrobust                                         \n",
       "==============================================================================\n",
       "                 coef    std err          t      P>|t|      [0.025      0.975]\n",
       "------------------------------------------------------------------------------\n",
       "Intercept      9.9467      1.735      5.733      0.000       6.504      13.390\n",
       "hours          0.0794      0.003     28.253      0.000       0.074       0.085\n",
       "==============================================================================\n",
       "Omnibus:                        7.703   Durbin-Watson:                   1.934\n",
       "Prob(Omnibus):                  0.021   Jarque-Bera (JB):                7.289\n",
       "Skew:                          -0.630   Prob(JB):                       0.0261\n",
       "Kurtosis:                       3.400   Cond. No.                     2.33e+03\n",
       "==============================================================================\n",
       "\n",
       "Notes:\n",
       "[1] Standard Errors assume that the covariance matrix of the errors is correctly specified.\n",
       "[2] The condition number is large, 2.33e+03. This might indicate that there are\n",
       "strong multicollinearity or other numerical problems.\n",
       "\"\"\""
      ]
     },
     "execution_count": 722,
     "metadata": {},
     "output_type": "execute_result"
    }
   ],
   "source": [
    "results = smf.ols(\"grade ~ hours\", data = df).fit()\n",
    "results.summary()"
   ]
  },
  {
   "cell_type": "markdown",
   "id": "9cb6310f",
   "metadata": {
    "lang": "en"
   },
   "source": [
    "## OLS Concepts"
   ]
  },
  {
   "cell_type": "markdown",
   "id": "57397238",
   "metadata": {
    "lang": "en"
   },
   "source": [
    "- <b>R2</b> : The coefficient of determination measures how much of the variation of 𝑦 is explained by the model.\n",
    "If the variance of the errors or residuals 𝜎2𝑒 is zero, the model explains 100% of the variable 𝑦. If 𝜎2𝑒 is equal to the variance of 𝑦 the model explains nothing and 𝑅2 is equal to zero.\n",
    "\n",
    "\n",
    "- <b>𝑅¯2 </b> : The adjusted correlation coefficient 𝑅¯2 corrects the value of 𝑅2 by the number of variables 𝑘 (equal to 2 for the analyzed case) and the amount of data 𝑁\n",
    "\n",
    "- <b>P value </b> The p-value for each term tests the null hypothesis that the coefficient is equal to zero (has no effect). A low p-value (< 0.05) indicates that you can reject the null hypothesis. ... Typically p-values ​​are used to determine which terms should be kept in the regression model.\n",
    "\n",
    "\n",
    "Description of the p value:\n",
    "The p-value is a probability value, so it ranges between 0 and 1. The p-value shows us the probability of having obtained the result that we have obtained assuming that the null hypothesis H0 is true. It is often said that high values ​​of p do not allow H0 to be rejected, while low p values ​​do allow H0 to be rejected.\n",
    "\n",
    "In a statistical test, the null hypothesis H0 is rejected if the p-value associated with the observed result is equal to or less than an arbitrarily set $\\alpha$ significance level, conventionally 0.05 or 0.01. In other words, if the result obtained is more unusual than the expected range of results given a true null hypothesis H0 and the chosen significance level $\\alpha$, that is, if p is less than $\\alpha$, we can say that we have a statistically significant result that allows reject H0.\n",
    "\n",
    "It is important to emphasize that a hypothesis test does not allow accepting a hypothesis; he simply rejects it or does not reject it, that is to say, he dismisses it as plausible (which does not necessarily mean that it is true, simply that it is more likely to be) or implausible."
   ]
  },
  {
   "cell_type": "markdown",
   "id": "75a84594",
   "metadata": {
    "lang": "en"
   },
   "source": [
    "## Multiple Linear Regression\n",
    "\n",
    "Of course, the hours one studies are not the only important factor in getting good grades in the real world. We can think of IQ, for example, as another determining factor. In fact, we can generalize a linear model to have as many variables as we want:\n",
    "\n",
    " $$ Y = \\beta_0 + \\beta_1 X_1 + \\beta_2 X_2 + \\dots + \\beta_2 X_m + \\epsilon$$\n",
    " \n",
    " In this case, what we are going to do is add a variable that subtracts from the note, the party hours.\n",
    " Imagine that for every hour that we go out partying, neurons in our brain die and we forget information, therefore, we will lose a grade (remember that we are inventing data)"
   ]
  },
  {
   "cell_type": "code",
   "execution_count": 738,
   "id": "original-pride",
   "metadata": {
    "lang": "es"
   },
   "outputs": [],
   "source": [
    "# We recreate the dataframe with the grades\n",
    "beta_0 = 10 #intercept\n",
    "beta_1 = 0.08 # coefficient_1\n",
    "beta_2 = - 0.03 # coefficient_2\n",
    "num_grades = 100"
   ]
  },
  {
   "cell_type": "code",
   "execution_count": 739,
   "id": "social-making",
   "metadata": {},
   "outputs": [],
   "source": [
    "study_hours = np.random.normal(500,200, num_grades)\n",
    "party_hours = np.random.normal(500,200,num_grades)\n",
    "y = (beta_0) + (beta_1 * study_hours) + (beta_2 * party_hours) + (np.random.normal(loc=0, scale=5, size=num_grades))"
   ]
  },
  {
   "cell_type": "code",
   "execution_count": 740,
   "id": "union-tokyo",
   "metadata": {},
   "outputs": [],
   "source": [
    "data = pd.DataFrame({\"grades\": y, \"study_hours\": study_hours, \"party_hours\":party_hours}).astype(int)"
   ]
  },
  {
   "cell_type": "code",
   "execution_count": 741,
   "id": "alone-tradition",
   "metadata": {},
   "outputs": [
    {
     "data": {
      "text/html": [
       "<div>\n",
       "<style scoped>\n",
       "    .dataframe tbody tr th:only-of-type {\n",
       "        vertical-align: middle;\n",
       "    }\n",
       "\n",
       "    .dataframe tbody tr th {\n",
       "        vertical-align: top;\n",
       "    }\n",
       "\n",
       "    .dataframe thead th {\n",
       "        text-align: right;\n",
       "    }\n",
       "</style>\n",
       "<table border=\"1\" class=\"dataframe\">\n",
       "  <thead>\n",
       "    <tr style=\"text-align: right;\">\n",
       "      <th></th>\n",
       "      <th>grades</th>\n",
       "      <th>study_hours</th>\n",
       "      <th>party_hours</th>\n",
       "    </tr>\n",
       "  </thead>\n",
       "  <tbody>\n",
       "    <tr>\n",
       "      <th>0</th>\n",
       "      <td>52</td>\n",
       "      <td>522</td>\n",
       "      <td>201</td>\n",
       "    </tr>\n",
       "    <tr>\n",
       "      <th>1</th>\n",
       "      <td>-6</td>\n",
       "      <td>70</td>\n",
       "      <td>681</td>\n",
       "    </tr>\n",
       "    <tr>\n",
       "      <th>2</th>\n",
       "      <td>43</td>\n",
       "      <td>656</td>\n",
       "      <td>434</td>\n",
       "    </tr>\n",
       "    <tr>\n",
       "      <th>3</th>\n",
       "      <td>55</td>\n",
       "      <td>577</td>\n",
       "      <td>226</td>\n",
       "    </tr>\n",
       "    <tr>\n",
       "      <th>4</th>\n",
       "      <td>25</td>\n",
       "      <td>599</td>\n",
       "      <td>813</td>\n",
       "    </tr>\n",
       "  </tbody>\n",
       "</table>\n",
       "</div>"
      ],
      "text/plain": [
       "   grades  study_hours  party_hours\n",
       "0      52          522          201\n",
       "1      -6           70          681\n",
       "2      43          656          434\n",
       "3      55          577          226\n",
       "4      25          599          813"
      ]
     },
     "execution_count": 741,
     "metadata": {},
     "output_type": "execute_result"
    }
   ],
   "source": [
    "data.head()"
   ]
  },
  {
   "cell_type": "code",
   "execution_count": 742,
   "id": "hungarian-shower",
   "metadata": {},
   "outputs": [
    {
     "data": {
      "image/png": "[encoded data removed]",
      "text/plain": [
       "<Figure size 540x540 with 12 Axes>"
      ]
     },
     "metadata": {},
     "output_type": "display_data"
    }
   ],
   "source": [
    "sns.pairplot(data); "
   ]
  },
  {
   "cell_type": "markdown",
   "id": "247b3ea8",
   "metadata": {
    "lang": "en"
   },
   "source": [
    "The multiple linear regression coefficients are computed in a similar way to the simple linear regression case: they minimize\n",
    "\n",
    "$$RSS = \\Sigma(y_i - \\hat{y_i})^2$$\n",
    "\n",
    "\n",
    "where:\n",
    "\n",
    " $$ \\hat{y} = \\hat{beta_0} + \\hat{beta_1 X_1} + \\hat{beta_2} X_2 + \\hat + \\hat{\\beta_2} X_m$$"
   ]
  },
  {
   "cell_type": "code",
   "execution_count": 444,
   "id": "a524abd4",
   "metadata": {
    "lang": "en"
   },
   "outputs": [],
   "source": [
    "# We analyze the results with the OLS"
   ]
  },
  {
   "cell_type": "markdown",
   "id": "b5d27de8",
   "metadata": {
    "lang": "en"
   },
   "source": [
    "The coefficient is the number by which we multiply the predictor variable (X) in this case we have two, study hours and party hours.\n",
    "The positive coefficient indicates that the correlation is positive (the more hours I study, the better the grade I get) and the coefficient of party hours is negative, therefore it indicates that if that predictive variable is greater, my target variable decreases."
   ]
  },
  {
   "cell_type": "code",
   "execution_count": 743,
   "id": "f9e841b8",
   "metadata": {},
   "outputs": [],
   "source": [
    "results = smf.ols(\"grades ~ study_hours + party_hours\", data=data).fit()"
   ]
  },
  {
   "cell_type": "code",
   "execution_count": 744,
   "id": "exact-stroke",
   "metadata": {},
   "outputs": [
    {
     "data": {
      "text/html": [
       "<table class=\"simpletable\">\n",
       "<caption>OLS Regression Results</caption>\n",
       "<tr>\n",
       "  <th>Dep. Variable:</th>         <td>grades</td>      <th>  R-squared:         </th> <td>   0.928</td>\n",
       "</tr>\n",
       "<tr>\n",
       "  <th>Model:</th>                   <td>OLS</td>       <th>  Adj. R-squared:    </th> <td>   0.926</td>\n",
       "</tr>\n",
       "<tr>\n",
       "  <th>Method:</th>             <td>Least Squares</td>  <th>  F-statistic:       </th> <td>   622.5</td>\n",
       "</tr>\n",
       "<tr>\n",
       "  <th>Date:</th>             <td>Tue, 16 Aug 2022</td> <th>  Prob (F-statistic):</th> <td>4.58e-56</td>\n",
       "</tr>\n",
       "<tr>\n",
       "  <th>Time:</th>                 <td>13:19:53</td>     <th>  Log-Likelihood:    </th> <td> -303.55</td>\n",
       "</tr>\n",
       "<tr>\n",
       "  <th>No. Observations:</th>      <td>   100</td>      <th>  AIC:               </th> <td>   613.1</td>\n",
       "</tr>\n",
       "<tr>\n",
       "  <th>Df Residuals:</th>          <td>    97</td>      <th>  BIC:               </th> <td>   620.9</td>\n",
       "</tr>\n",
       "<tr>\n",
       "  <th>Df Model:</th>              <td>     2</td>      <th>                     </th>     <td> </td>   \n",
       "</tr>\n",
       "<tr>\n",
       "  <th>Covariance Type:</th>      <td>nonrobust</td>    <th>                     </th>     <td> </td>   \n",
       "</tr>\n",
       "</table>\n",
       "<table class=\"simpletable\">\n",
       "<tr>\n",
       "       <td></td>          <th>coef</th>     <th>std err</th>      <th>t</th>      <th>P>|t|</th>  <th>[0.025</th>    <th>0.975]</th>  \n",
       "</tr>\n",
       "<tr>\n",
       "  <th>Intercept</th>   <td>   13.1100</td> <td>    1.898</td> <td>    6.908</td> <td> 0.000</td> <td>    9.344</td> <td>   16.876</td>\n",
       "</tr>\n",
       "<tr>\n",
       "  <th>study_hours</th> <td>    0.0785</td> <td>    0.002</td> <td>   32.126</td> <td> 0.000</td> <td>    0.074</td> <td>    0.083</td>\n",
       "</tr>\n",
       "<tr>\n",
       "  <th>party_hours</th> <td>   -0.0356</td> <td>    0.003</td> <td>  -13.646</td> <td> 0.000</td> <td>   -0.041</td> <td>   -0.030</td>\n",
       "</tr>\n",
       "</table>\n",
       "<table class=\"simpletable\">\n",
       "<tr>\n",
       "  <th>Omnibus:</th>       <td> 0.419</td> <th>  Durbin-Watson:     </th> <td>   2.141</td>\n",
       "</tr>\n",
       "<tr>\n",
       "  <th>Prob(Omnibus):</th> <td> 0.811</td> <th>  Jarque-Bera (JB):  </th> <td>   0.577</td>\n",
       "</tr>\n",
       "<tr>\n",
       "  <th>Skew:</th>          <td> 0.111</td> <th>  Prob(JB):          </th> <td>   0.749</td>\n",
       "</tr>\n",
       "<tr>\n",
       "  <th>Kurtosis:</th>      <td> 2.701</td> <th>  Cond. No.          </th> <td>2.75e+03</td>\n",
       "</tr>\n",
       "</table><br/><br/>Notes:<br/>[1] Standard Errors assume that the covariance matrix of the errors is correctly specified.<br/>[2] The condition number is large, 2.75e+03. This might indicate that there are<br/>strong multicollinearity or other numerical problems."
      ],
      "text/plain": [
       "<class 'statsmodels.iolib.summary.Summary'>\n",
       "\"\"\"\n",
       "                            OLS Regression Results                            \n",
       "==============================================================================\n",
       "Dep. Variable:                 grades   R-squared:                       0.928\n",
       "Model:                            OLS   Adj. R-squared:                  0.926\n",
       "Method:                 Least Squares   F-statistic:                     622.5\n",
       "Date:                Tue, 16 Aug 2022   Prob (F-statistic):           4.58e-56\n",
       "Time:                        13:19:53   Log-Likelihood:                -303.55\n",
       "No. Observations:                 100   AIC:                             613.1\n",
       "Df Residuals:                      97   BIC:                             620.9\n",
       "Df Model:                           2                                         \n",
       "Covariance Type:            nonrobust                                         \n",
       "===============================================================================\n",
       "                  coef    std err          t      P>|t|      [0.025      0.975]\n",
       "-------------------------------------------------------------------------------\n",
       "Intercept      13.1100      1.898      6.908      0.000       9.344      16.876\n",
       "study_hours     0.0785      0.002     32.126      0.000       0.074       0.083\n",
       "party_hours    -0.0356      0.003    -13.646      0.000      -0.041      -0.030\n",
       "==============================================================================\n",
       "Omnibus:                        0.419   Durbin-Watson:                   2.141\n",
       "Prob(Omnibus):                  0.811   Jarque-Bera (JB):                0.577\n",
       "Skew:                           0.111   Prob(JB):                        0.749\n",
       "Kurtosis:                       2.701   Cond. No.                     2.75e+03\n",
       "==============================================================================\n",
       "\n",
       "Notes:\n",
       "[1] Standard Errors assume that the covariance matrix of the errors is correctly specified.\n",
       "[2] The condition number is large, 2.75e+03. This might indicate that there are\n",
       "strong multicollinearity or other numerical problems.\n",
       "\"\"\""
      ]
     },
     "execution_count": 744,
     "metadata": {},
     "output_type": "execute_result"
    }
   ],
   "source": [
    "results.summary()"
   ]
  },
  {
   "cell_type": "markdown",
   "id": "b31a870d",
   "metadata": {
    "lang": "en"
   },
   "source": [
    "## Categorical variables\n",
    "\n",
    "Very often we are faced with situations where the predictors are *qualitative* in nature. A good example could be the music they listen to which can take the values ​​$rock$ or $indie$."
   ]
  },
  {
   "cell_type": "code",
   "execution_count": 745,
   "id": "recent-presentation",
   "metadata": {},
   "outputs": [],
   "source": [
    "data[\"music\"] = np.random.choice([\"rock\", \"indie\"], num_grades)"
   ]
  },
  {
   "cell_type": "code",
   "execution_count": 746,
   "id": "c36ab30c",
   "metadata": {
    "lang": "en"
   },
   "outputs": [],
   "source": [
    "# We analyze the results with the OLS"
   ]
  },
  {
   "cell_type": "code",
   "execution_count": 747,
   "id": "fifty-collaboration",
   "metadata": {},
   "outputs": [
    {
     "data": {
      "text/html": [
       "<div>\n",
       "<style scoped>\n",
       "    .dataframe tbody tr th:only-of-type {\n",
       "        vertical-align: middle;\n",
       "    }\n",
       "\n",
       "    .dataframe tbody tr th {\n",
       "        vertical-align: top;\n",
       "    }\n",
       "\n",
       "    .dataframe thead th {\n",
       "        text-align: right;\n",
       "    }\n",
       "</style>\n",
       "<table border=\"1\" class=\"dataframe\">\n",
       "  <thead>\n",
       "    <tr style=\"text-align: right;\">\n",
       "      <th></th>\n",
       "      <th>grades</th>\n",
       "      <th>study_hours</th>\n",
       "      <th>party_hours</th>\n",
       "      <th>music</th>\n",
       "    </tr>\n",
       "  </thead>\n",
       "  <tbody>\n",
       "    <tr>\n",
       "      <th>13</th>\n",
       "      <td>51</td>\n",
       "      <td>643</td>\n",
       "      <td>415</td>\n",
       "      <td>rock</td>\n",
       "    </tr>\n",
       "    <tr>\n",
       "      <th>96</th>\n",
       "      <td>51</td>\n",
       "      <td>632</td>\n",
       "      <td>519</td>\n",
       "      <td>rock</td>\n",
       "    </tr>\n",
       "    <tr>\n",
       "      <th>8</th>\n",
       "      <td>22</td>\n",
       "      <td>523</td>\n",
       "      <td>983</td>\n",
       "      <td>indie</td>\n",
       "    </tr>\n",
       "  </tbody>\n",
       "</table>\n",
       "</div>"
      ],
      "text/plain": [
       "    grades  study_hours  party_hours  music\n",
       "13      51          643          415   rock\n",
       "96      51          632          519   rock\n",
       "8       22          523          983  indie"
      ]
     },
     "execution_count": 747,
     "metadata": {},
     "output_type": "execute_result"
    }
   ],
   "source": [
    "data.sample(3)"
   ]
  },
  {
   "cell_type": "code",
   "execution_count": 748,
   "id": "surface-witch",
   "metadata": {},
   "outputs": [
    {
     "name": "stdout",
     "output_type": "stream",
     "text": [
      "<class 'pandas.core.frame.DataFrame'>\n",
      "RangeIndex: 100 entries, 0 to 99\n",
      "Data columns (total 4 columns):\n",
      " #   Column       Non-Null Count  Dtype \n",
      "---  ------       --------------  ----- \n",
      " 0   grades       100 non-null    int64 \n",
      " 1   study_hours  100 non-null    int64 \n",
      " 2   party_hours  100 non-null    int64 \n",
      " 3   music        100 non-null    object\n",
      "dtypes: int64(3), object(1)\n",
      "memory usage: 3.2+ KB\n"
     ]
    }
   ],
   "source": [
    "data.info()"
   ]
  },
  {
   "cell_type": "code",
   "execution_count": 749,
   "id": "2f6f0af2",
   "metadata": {
    "lang": "en"
   },
   "outputs": [],
   "source": [
    "## How do we work with these variables?"
   ]
  },
  {
   "cell_type": "code",
   "execution_count": 750,
   "id": "8c8bfc53",
   "metadata": {},
   "outputs": [
    {
     "data": {
      "text/html": [
       "<div>\n",
       "<style scoped>\n",
       "    .dataframe tbody tr th:only-of-type {\n",
       "        vertical-align: middle;\n",
       "    }\n",
       "\n",
       "    .dataframe tbody tr th {\n",
       "        vertical-align: top;\n",
       "    }\n",
       "\n",
       "    .dataframe thead th {\n",
       "        text-align: right;\n",
       "    }\n",
       "</style>\n",
       "<table border=\"1\" class=\"dataframe\">\n",
       "  <thead>\n",
       "    <tr style=\"text-align: right;\">\n",
       "      <th></th>\n",
       "      <th>grades</th>\n",
       "      <th>study_hours</th>\n",
       "      <th>party_hours</th>\n",
       "      <th>music_indie</th>\n",
       "      <th>music_rock</th>\n",
       "    </tr>\n",
       "  </thead>\n",
       "  <tbody>\n",
       "    <tr>\n",
       "      <th>0</th>\n",
       "      <td>52</td>\n",
       "      <td>522</td>\n",
       "      <td>201</td>\n",
       "      <td>0</td>\n",
       "      <td>1</td>\n",
       "    </tr>\n",
       "    <tr>\n",
       "      <th>1</th>\n",
       "      <td>-6</td>\n",
       "      <td>70</td>\n",
       "      <td>681</td>\n",
       "      <td>0</td>\n",
       "      <td>1</td>\n",
       "    </tr>\n",
       "    <tr>\n",
       "      <th>2</th>\n",
       "      <td>43</td>\n",
       "      <td>656</td>\n",
       "      <td>434</td>\n",
       "      <td>1</td>\n",
       "      <td>0</td>\n",
       "    </tr>\n",
       "    <tr>\n",
       "      <th>3</th>\n",
       "      <td>55</td>\n",
       "      <td>577</td>\n",
       "      <td>226</td>\n",
       "      <td>1</td>\n",
       "      <td>0</td>\n",
       "    </tr>\n",
       "    <tr>\n",
       "      <th>4</th>\n",
       "      <td>25</td>\n",
       "      <td>599</td>\n",
       "      <td>813</td>\n",
       "      <td>1</td>\n",
       "      <td>0</td>\n",
       "    </tr>\n",
       "    <tr>\n",
       "      <th>...</th>\n",
       "      <td>...</td>\n",
       "      <td>...</td>\n",
       "      <td>...</td>\n",
       "      <td>...</td>\n",
       "      <td>...</td>\n",
       "    </tr>\n",
       "    <tr>\n",
       "      <th>95</th>\n",
       "      <td>42</td>\n",
       "      <td>596</td>\n",
       "      <td>610</td>\n",
       "      <td>1</td>\n",
       "      <td>0</td>\n",
       "    </tr>\n",
       "    <tr>\n",
       "      <th>96</th>\n",
       "      <td>51</td>\n",
       "      <td>632</td>\n",
       "      <td>519</td>\n",
       "      <td>0</td>\n",
       "      <td>1</td>\n",
       "    </tr>\n",
       "    <tr>\n",
       "      <th>97</th>\n",
       "      <td>20</td>\n",
       "      <td>444</td>\n",
       "      <td>795</td>\n",
       "      <td>0</td>\n",
       "      <td>1</td>\n",
       "    </tr>\n",
       "    <tr>\n",
       "      <th>98</th>\n",
       "      <td>21</td>\n",
       "      <td>408</td>\n",
       "      <td>352</td>\n",
       "      <td>0</td>\n",
       "      <td>1</td>\n",
       "    </tr>\n",
       "    <tr>\n",
       "      <th>99</th>\n",
       "      <td>4</td>\n",
       "      <td>178</td>\n",
       "      <td>711</td>\n",
       "      <td>0</td>\n",
       "      <td>1</td>\n",
       "    </tr>\n",
       "  </tbody>\n",
       "</table>\n",
       "<p>100 rows × 5 columns</p>\n",
       "</div>"
      ],
      "text/plain": [
       "    grades  study_hours  party_hours  music_indie  music_rock\n",
       "0       52          522          201            0           1\n",
       "1       -6           70          681            0           1\n",
       "2       43          656          434            1           0\n",
       "3       55          577          226            1           0\n",
       "4       25          599          813            1           0\n",
       "..     ...          ...          ...          ...         ...\n",
       "95      42          596          610            1           0\n",
       "96      51          632          519            0           1\n",
       "97      20          444          795            0           1\n",
       "98      21          408          352            0           1\n",
       "99       4          178          711            0           1\n",
       "\n",
       "[100 rows x 5 columns]"
      ]
     },
     "execution_count": 750,
     "metadata": {},
     "output_type": "execute_result"
    }
   ],
   "source": [
    "pd.get_dummies(data)"
   ]
  },
  {
   "cell_type": "code",
   "execution_count": 453,
   "id": "occasional-catalog",
   "metadata": {},
   "outputs": [
    {
     "data": {
      "text/html": [
       "<div>\n",
       "<style scoped>\n",
       "    .dataframe tbody tr th:only-of-type {\n",
       "        vertical-align: middle;\n",
       "    }\n",
       "\n",
       "    .dataframe tbody tr th {\n",
       "        vertical-align: top;\n",
       "    }\n",
       "\n",
       "    .dataframe thead th {\n",
       "        text-align: right;\n",
       "    }\n",
       "</style>\n",
       "<table border=\"1\" class=\"dataframe\">\n",
       "  <thead>\n",
       "    <tr style=\"text-align: right;\">\n",
       "      <th></th>\n",
       "      <th>grades</th>\n",
       "      <th>study_hours</th>\n",
       "      <th>party_hours</th>\n",
       "      <th>music</th>\n",
       "      <th>listens_to_rock</th>\n",
       "    </tr>\n",
       "  </thead>\n",
       "  <tbody>\n",
       "    <tr>\n",
       "      <th>0</th>\n",
       "      <td>54</td>\n",
       "      <td>697</td>\n",
       "      <td>431</td>\n",
       "      <td>indie</td>\n",
       "      <td>0</td>\n",
       "    </tr>\n",
       "    <tr>\n",
       "      <th>1</th>\n",
       "      <td>39</td>\n",
       "      <td>521</td>\n",
       "      <td>565</td>\n",
       "      <td>indie</td>\n",
       "      <td>0</td>\n",
       "    </tr>\n",
       "    <tr>\n",
       "      <th>2</th>\n",
       "      <td>34</td>\n",
       "      <td>441</td>\n",
       "      <td>490</td>\n",
       "      <td>indie</td>\n",
       "      <td>0</td>\n",
       "    </tr>\n",
       "    <tr>\n",
       "      <th>3</th>\n",
       "      <td>35</td>\n",
       "      <td>586</td>\n",
       "      <td>299</td>\n",
       "      <td>indie</td>\n",
       "      <td>0</td>\n",
       "    </tr>\n",
       "    <tr>\n",
       "      <th>4</th>\n",
       "      <td>12</td>\n",
       "      <td>256</td>\n",
       "      <td>498</td>\n",
       "      <td>rock</td>\n",
       "      <td>1</td>\n",
       "    </tr>\n",
       "  </tbody>\n",
       "</table>\n",
       "</div>"
      ],
      "text/plain": [
       "   grades  study_hours  party_hours  music  listens_to_rock\n",
       "0      54          697          431  indie                0\n",
       "1      39          521          565  indie                0\n",
       "2      34          441          490  indie                0\n",
       "3      35          586          299  indie                0\n",
       "4      12          256          498   rock                1"
      ]
     },
     "execution_count": 453,
     "metadata": {},
     "output_type": "execute_result"
    }
   ],
   "source": [
    "data[\"listens_to_rock\"] = data.music.str.get_dummies()[\"rock\"]\n",
    "data.head()"
   ]
  },
  {
   "cell_type": "markdown",
   "id": "22fdb526",
   "metadata": {
    "lang": "en"
   },
   "source": [
    "We include this information in the model through a *dummy* variable:\n",
    "$$\n",
    "x_i= \\left\\{\n",
    "\\begin{array}{ll}\n",
    "      1  \\quad \\text{if listens to rock} \\\\\n",
    "      0  \\quad \\text{if listens to indie} \\\\\n",
    "\\end{array} \n",
    "\\right. \n",
    "$$\n",
    "\n",
    "\n",
    "If this is our only variable, this results in a model:\n",
    "\n",
    "$$y_i = \\beta_0 + \\beta_1 x_i +\\epsilon_i = \\left\\{\n",
    "\\begin{array}{ll}\n",
    "      \\beta_0 + \\beta_1 +\\epsilon_i  \\quad \\text{if listens to rock} \\\\\n",
    "      \\beta_0 + \\epsilon_i  \\quad \\text{if listens to indie} \\\\\n",
    "\\end{array} \n",
    "\\right.  $$\n",
    "\n",
    "In this case, $\\beta_0$ represents the average score of people who listen to rock, and $\\beta_0 + \\beta_1$ the average score of people who listen to indie."
   ]
  },
  {
   "cell_type": "code",
   "execution_count": 454,
   "id": "adverse-scheduling",
   "metadata": {
    "scrolled": true
   },
   "outputs": [
    {
     "data": {
      "text/html": [
       "<table class=\"simpletable\">\n",
       "<caption>OLS Regression Results</caption>\n",
       "<tr>\n",
       "  <th>Dep. Variable:</th>         <td>grades</td>      <th>  R-squared:         </th> <td>   0.912</td>\n",
       "</tr>\n",
       "<tr>\n",
       "  <th>Model:</th>                   <td>OLS</td>       <th>  Adj. R-squared:    </th> <td>   0.909</td>\n",
       "</tr>\n",
       "<tr>\n",
       "  <th>Method:</th>             <td>Least Squares</td>  <th>  F-statistic:       </th> <td>   331.0</td>\n",
       "</tr>\n",
       "<tr>\n",
       "  <th>Date:</th>             <td>Tue, 16 Aug 2022</td> <th>  Prob (F-statistic):</th> <td>1.77e-50</td>\n",
       "</tr>\n",
       "<tr>\n",
       "  <th>Time:</th>                 <td>00:55:18</td>     <th>  Log-Likelihood:    </th> <td> -300.10</td>\n",
       "</tr>\n",
       "<tr>\n",
       "  <th>No. Observations:</th>      <td>   100</td>      <th>  AIC:               </th> <td>   608.2</td>\n",
       "</tr>\n",
       "<tr>\n",
       "  <th>Df Residuals:</th>          <td>    96</td>      <th>  BIC:               </th> <td>   618.6</td>\n",
       "</tr>\n",
       "<tr>\n",
       "  <th>Df Model:</th>              <td>     3</td>      <th>                     </th>     <td> </td>   \n",
       "</tr>\n",
       "<tr>\n",
       "  <th>Covariance Type:</th>      <td>nonrobust</td>    <th>                     </th>     <td> </td>   \n",
       "</tr>\n",
       "</table>\n",
       "<table class=\"simpletable\">\n",
       "<tr>\n",
       "         <td></td>            <th>coef</th>     <th>std err</th>      <th>t</th>      <th>P>|t|</th>  <th>[0.025</th>    <th>0.975]</th>  \n",
       "</tr>\n",
       "<tr>\n",
       "  <th>Intercept</th>       <td>   10.5726</td> <td>    2.029</td> <td>    5.210</td> <td> 0.000</td> <td>    6.544</td> <td>   14.601</td>\n",
       "</tr>\n",
       "<tr>\n",
       "  <th>study_hours</th>     <td>    0.0731</td> <td>    0.002</td> <td>   29.530</td> <td> 0.000</td> <td>    0.068</td> <td>    0.078</td>\n",
       "</tr>\n",
       "<tr>\n",
       "  <th>party_hours</th>     <td>   -0.0258</td> <td>    0.003</td> <td>   -9.925</td> <td> 0.000</td> <td>   -0.031</td> <td>   -0.021</td>\n",
       "</tr>\n",
       "<tr>\n",
       "  <th>listens_to_rock</th> <td>   -0.8732</td> <td>    1.039</td> <td>   -0.840</td> <td> 0.403</td> <td>   -2.936</td> <td>    1.190</td>\n",
       "</tr>\n",
       "</table>\n",
       "<table class=\"simpletable\">\n",
       "<tr>\n",
       "  <th>Omnibus:</th>       <td> 2.340</td> <th>  Durbin-Watson:     </th> <td>   1.831</td>\n",
       "</tr>\n",
       "<tr>\n",
       "  <th>Prob(Omnibus):</th> <td> 0.310</td> <th>  Jarque-Bera (JB):  </th> <td>   2.008</td>\n",
       "</tr>\n",
       "<tr>\n",
       "  <th>Skew:</th>          <td> 0.346</td> <th>  Prob(JB):          </th> <td>   0.366</td>\n",
       "</tr>\n",
       "<tr>\n",
       "  <th>Kurtosis:</th>      <td> 3.046</td> <th>  Cond. No.          </th> <td>3.14e+03</td>\n",
       "</tr>\n",
       "</table><br/><br/>Notes:<br/>[1] Standard Errors assume that the covariance matrix of the errors is correctly specified.<br/>[2] The condition number is large, 3.14e+03. This might indicate that there are<br/>strong multicollinearity or other numerical problems."
      ],
      "text/plain": [
       "<class 'statsmodels.iolib.summary.Summary'>\n",
       "\"\"\"\n",
       "                            OLS Regression Results                            \n",
       "==============================================================================\n",
       "Dep. Variable:                 grades   R-squared:                       0.912\n",
       "Model:                            OLS   Adj. R-squared:                  0.909\n",
       "Method:                 Least Squares   F-statistic:                     331.0\n",
       "Date:                Tue, 16 Aug 2022   Prob (F-statistic):           1.77e-50\n",
       "Time:                        00:55:18   Log-Likelihood:                -300.10\n",
       "No. Observations:                 100   AIC:                             608.2\n",
       "Df Residuals:                      96   BIC:                             618.6\n",
       "Df Model:                           3                                         \n",
       "Covariance Type:            nonrobust                                         \n",
       "===================================================================================\n",
       "                      coef    std err          t      P>|t|      [0.025      0.975]\n",
       "-----------------------------------------------------------------------------------\n",
       "Intercept          10.5726      2.029      5.210      0.000       6.544      14.601\n",
       "study_hours         0.0731      0.002     29.530      0.000       0.068       0.078\n",
       "party_hours        -0.0258      0.003     -9.925      0.000      -0.031      -0.021\n",
       "listens_to_rock    -0.8732      1.039     -0.840      0.403      -2.936       1.190\n",
       "==============================================================================\n",
       "Omnibus:                        2.340   Durbin-Watson:                   1.831\n",
       "Prob(Omnibus):                  0.310   Jarque-Bera (JB):                2.008\n",
       "Skew:                           0.346   Prob(JB):                        0.366\n",
       "Kurtosis:                       3.046   Cond. No.                     3.14e+03\n",
       "==============================================================================\n",
       "\n",
       "Notes:\n",
       "[1] Standard Errors assume that the covariance matrix of the errors is correctly specified.\n",
       "[2] The condition number is large, 3.14e+03. This might indicate that there are\n",
       "strong multicollinearity or other numerical problems.\n",
       "\"\"\""
      ]
     },
     "execution_count": 454,
     "metadata": {},
     "output_type": "execute_result"
    }
   ],
   "source": [
    "results = smf.ols(\"grades ~ study_hours + party_hours + listens_to_rock\", data=data).fit()\n",
    "results.summary()"
   ]
  },
  {
   "cell_type": "markdown",
   "id": "b04fee1f",
   "metadata": {},
   "source": [
    "#### Checkpoint\n",
    "\n",
    "- LR with sklearn & statsmodel (OLS) -> linear regression\n",
    "- sklearn import metrics, metrics.mse\n",
    "- OLS: three tables. We focus on Rsquared, maybe R2 adjusted (number of variables), p value for statistic (Prob (F-statistic):\t1.77e-50), values for intercept + coeffs, p value for every coefficient\n",
    "- Simple or Multiple linear regressions: number of independant variables\n",
    "- We can work with categorical variables: pd.get_dummies() -> boolean. Generates more columns for each possibility of the category"
   ]
  },
  {
   "cell_type": "markdown",
   "id": "888c5380",
   "metadata": {
    "lang": "en"
   },
   "source": [
    "## Linear model extensions\n",
    "\n",
    "There are several assumptions used when fitting a linear model.\n",
    "Linear model assumptions \n",
    "[VIDEO](https://www.youtube.com/watch?v=hVe2F9krrWk)\n",
    "\n",
    "* Errors are normally distributed and have constant variance: luxury items\n",
    "* Errors are not correlated with each other\n",
    "\n",
    "***Additive Assumption** The effect of changes in a predictor $X_j$ on the response $Y$ is independent of the values ​​of the other predictors.\n",
    "\n",
    "***Linear Assumption**The change in the answer for a unit increase in $X_j$ is the same regardless of the value of $X_j$.\n",
    "\n",
    "### Challenging the additive assumption: synergy\n",
    "\n",
    "Sometimes our variables will have natural interactions. For example, we may think that the more our ads are heard on the radio, the more effective our TV ads will be. That is, the effect of both is *greater* (or *lesser*) than the sum of the parts.\n",
    "\n",
    "This is a commonly studied topic in [marketing](https://smallbusiness.chron.com/definition-synergy-marketing-21786.html)"
   ]
  },
  {
   "cell_type": "code",
   "execution_count": 751,
   "id": "hollow-baseline",
   "metadata": {},
   "outputs": [],
   "source": [
    "df_adv = pd.read_csv('../datasets/Advertising.csv')"
   ]
  },
  {
   "cell_type": "markdown",
   "id": "45ece35f",
   "metadata": {
    "lang": "en"
   },
   "source": [
    "## Let's do it\n",
    "* Create three independent simple linear regression models\n",
    "* Interpret the results\n",
    "* Create a multivariate model with the three predictors\n",
    "* Interpret the results"
   ]
  },
  {
   "cell_type": "code",
   "execution_count": 753,
   "id": "laughing-patent",
   "metadata": {},
   "outputs": [
    {
     "data": {
      "text/html": [
       "<div>\n",
       "<style scoped>\n",
       "    .dataframe tbody tr th:only-of-type {\n",
       "        vertical-align: middle;\n",
       "    }\n",
       "\n",
       "    .dataframe tbody tr th {\n",
       "        vertical-align: top;\n",
       "    }\n",
       "\n",
       "    .dataframe thead th {\n",
       "        text-align: right;\n",
       "    }\n",
       "</style>\n",
       "<table border=\"1\" class=\"dataframe\">\n",
       "  <thead>\n",
       "    <tr style=\"text-align: right;\">\n",
       "      <th></th>\n",
       "      <th>TV</th>\n",
       "      <th>Radio</th>\n",
       "      <th>Newspaper</th>\n",
       "      <th>Sales</th>\n",
       "    </tr>\n",
       "  </thead>\n",
       "  <tbody>\n",
       "    <tr>\n",
       "      <th>0</th>\n",
       "      <td>230.1</td>\n",
       "      <td>37.8</td>\n",
       "      <td>69.2</td>\n",
       "      <td>22.1</td>\n",
       "    </tr>\n",
       "    <tr>\n",
       "      <th>1</th>\n",
       "      <td>44.5</td>\n",
       "      <td>39.3</td>\n",
       "      <td>45.1</td>\n",
       "      <td>10.4</td>\n",
       "    </tr>\n",
       "    <tr>\n",
       "      <th>2</th>\n",
       "      <td>17.2</td>\n",
       "      <td>45.9</td>\n",
       "      <td>69.3</td>\n",
       "      <td>9.3</td>\n",
       "    </tr>\n",
       "    <tr>\n",
       "      <th>3</th>\n",
       "      <td>151.5</td>\n",
       "      <td>41.3</td>\n",
       "      <td>58.5</td>\n",
       "      <td>18.5</td>\n",
       "    </tr>\n",
       "    <tr>\n",
       "      <th>4</th>\n",
       "      <td>180.8</td>\n",
       "      <td>10.8</td>\n",
       "      <td>58.4</td>\n",
       "      <td>12.9</td>\n",
       "    </tr>\n",
       "  </tbody>\n",
       "</table>\n",
       "</div>"
      ],
      "text/plain": [
       "      TV  Radio  Newspaper  Sales\n",
       "0  230.1   37.8       69.2   22.1\n",
       "1   44.5   39.3       45.1   10.4\n",
       "2   17.2   45.9       69.3    9.3\n",
       "3  151.5   41.3       58.5   18.5\n",
       "4  180.8   10.8       58.4   12.9"
      ]
     },
     "execution_count": 753,
     "metadata": {},
     "output_type": "execute_result"
    }
   ],
   "source": [
    "df_adv.head()"
   ]
  },
  {
   "cell_type": "code",
   "execution_count": 754,
   "id": "motivated-depth",
   "metadata": {},
   "outputs": [
    {
     "data": {
      "text/plain": [
       "<seaborn.axisgrid.PairGrid at 0x7ffbd1446910>"
      ]
     },
     "execution_count": 754,
     "metadata": {},
     "output_type": "execute_result"
    },
    {
     "data": {
      "image/png": "[encoded data removed]",
      "text/plain": [
       "<Figure size 720x720 with 20 Axes>"
      ]
     },
     "metadata": {},
     "output_type": "display_data"
    }
   ],
   "source": [
    "sns.pairplot(df_adv)"
   ]
  },
  {
   "cell_type": "code",
   "execution_count": 755,
   "id": "arbitrary-lawsuit",
   "metadata": {},
   "outputs": [
    {
     "data": {
      "text/html": [
       "<table class=\"simpletable\">\n",
       "<caption>OLS Regression Results</caption>\n",
       "<tr>\n",
       "  <th>Dep. Variable:</th>          <td>Sales</td>      <th>  R-squared:         </th> <td>   0.897</td>\n",
       "</tr>\n",
       "<tr>\n",
       "  <th>Model:</th>                   <td>OLS</td>       <th>  Adj. R-squared:    </th> <td>   0.896</td>\n",
       "</tr>\n",
       "<tr>\n",
       "  <th>Method:</th>             <td>Least Squares</td>  <th>  F-statistic:       </th> <td>   570.3</td>\n",
       "</tr>\n",
       "<tr>\n",
       "  <th>Date:</th>             <td>Tue, 16 Aug 2022</td> <th>  Prob (F-statistic):</th> <td>1.58e-96</td>\n",
       "</tr>\n",
       "<tr>\n",
       "  <th>Time:</th>                 <td>13:46:59</td>     <th>  Log-Likelihood:    </th> <td> -386.18</td>\n",
       "</tr>\n",
       "<tr>\n",
       "  <th>No. Observations:</th>      <td>   200</td>      <th>  AIC:               </th> <td>   780.4</td>\n",
       "</tr>\n",
       "<tr>\n",
       "  <th>Df Residuals:</th>          <td>   196</td>      <th>  BIC:               </th> <td>   793.6</td>\n",
       "</tr>\n",
       "<tr>\n",
       "  <th>Df Model:</th>              <td>     3</td>      <th>                     </th>     <td> </td>   \n",
       "</tr>\n",
       "<tr>\n",
       "  <th>Covariance Type:</th>      <td>nonrobust</td>    <th>                     </th>     <td> </td>   \n",
       "</tr>\n",
       "</table>\n",
       "<table class=\"simpletable\">\n",
       "<tr>\n",
       "      <td></td>         <th>coef</th>     <th>std err</th>      <th>t</th>      <th>P>|t|</th>  <th>[0.025</th>    <th>0.975]</th>  \n",
       "</tr>\n",
       "<tr>\n",
       "  <th>Intercept</th> <td>    2.9389</td> <td>    0.312</td> <td>    9.422</td> <td> 0.000</td> <td>    2.324</td> <td>    3.554</td>\n",
       "</tr>\n",
       "<tr>\n",
       "  <th>TV</th>        <td>    0.0458</td> <td>    0.001</td> <td>   32.809</td> <td> 0.000</td> <td>    0.043</td> <td>    0.049</td>\n",
       "</tr>\n",
       "<tr>\n",
       "  <th>Radio</th>     <td>    0.1885</td> <td>    0.009</td> <td>   21.893</td> <td> 0.000</td> <td>    0.172</td> <td>    0.206</td>\n",
       "</tr>\n",
       "<tr>\n",
       "  <th>Newspaper</th> <td>   -0.0010</td> <td>    0.006</td> <td>   -0.177</td> <td> 0.860</td> <td>   -0.013</td> <td>    0.011</td>\n",
       "</tr>\n",
       "</table>\n",
       "<table class=\"simpletable\">\n",
       "<tr>\n",
       "  <th>Omnibus:</th>       <td>60.414</td> <th>  Durbin-Watson:     </th> <td>   2.084</td>\n",
       "</tr>\n",
       "<tr>\n",
       "  <th>Prob(Omnibus):</th> <td> 0.000</td> <th>  Jarque-Bera (JB):  </th> <td> 151.241</td>\n",
       "</tr>\n",
       "<tr>\n",
       "  <th>Skew:</th>          <td>-1.327</td> <th>  Prob(JB):          </th> <td>1.44e-33</td>\n",
       "</tr>\n",
       "<tr>\n",
       "  <th>Kurtosis:</th>      <td> 6.332</td> <th>  Cond. No.          </th> <td>    454.</td>\n",
       "</tr>\n",
       "</table><br/><br/>Notes:<br/>[1] Standard Errors assume that the covariance matrix of the errors is correctly specified."
      ],
      "text/plain": [
       "<class 'statsmodels.iolib.summary.Summary'>\n",
       "\"\"\"\n",
       "                            OLS Regression Results                            \n",
       "==============================================================================\n",
       "Dep. Variable:                  Sales   R-squared:                       0.897\n",
       "Model:                            OLS   Adj. R-squared:                  0.896\n",
       "Method:                 Least Squares   F-statistic:                     570.3\n",
       "Date:                Tue, 16 Aug 2022   Prob (F-statistic):           1.58e-96\n",
       "Time:                        13:46:59   Log-Likelihood:                -386.18\n",
       "No. Observations:                 200   AIC:                             780.4\n",
       "Df Residuals:                     196   BIC:                             793.6\n",
       "Df Model:                           3                                         \n",
       "Covariance Type:            nonrobust                                         \n",
       "==============================================================================\n",
       "                 coef    std err          t      P>|t|      [0.025      0.975]\n",
       "------------------------------------------------------------------------------\n",
       "Intercept      2.9389      0.312      9.422      0.000       2.324       3.554\n",
       "TV             0.0458      0.001     32.809      0.000       0.043       0.049\n",
       "Radio          0.1885      0.009     21.893      0.000       0.172       0.206\n",
       "Newspaper     -0.0010      0.006     -0.177      0.860      -0.013       0.011\n",
       "==============================================================================\n",
       "Omnibus:                       60.414   Durbin-Watson:                   2.084\n",
       "Prob(Omnibus):                  0.000   Jarque-Bera (JB):              151.241\n",
       "Skew:                          -1.327   Prob(JB):                     1.44e-33\n",
       "Kurtosis:                       6.332   Cond. No.                         454.\n",
       "==============================================================================\n",
       "\n",
       "Notes:\n",
       "[1] Standard Errors assume that the covariance matrix of the errors is correctly specified.\n",
       "\"\"\""
      ]
     },
     "execution_count": 755,
     "metadata": {},
     "output_type": "execute_result"
    }
   ],
   "source": [
    "results = smf.ols(\"Sales ~ TV + Radio + Newspaper\", data = df_adv).fit()\n",
    "results.summary()"
   ]
  },
  {
   "cell_type": "code",
   "execution_count": 757,
   "id": "dimensional-nature",
   "metadata": {},
   "outputs": [
    {
     "data": {
      "text/html": [
       "<table class=\"simpletable\">\n",
       "<caption>OLS Regression Results</caption>\n",
       "<tr>\n",
       "  <th>Dep. Variable:</th>          <td>Sales</td>      <th>  R-squared:         </th> <td>   0.897</td>\n",
       "</tr>\n",
       "<tr>\n",
       "  <th>Model:</th>                   <td>OLS</td>       <th>  Adj. R-squared:    </th> <td>   0.896</td>\n",
       "</tr>\n",
       "<tr>\n",
       "  <th>Method:</th>             <td>Least Squares</td>  <th>  F-statistic:       </th> <td>   859.6</td>\n",
       "</tr>\n",
       "<tr>\n",
       "  <th>Date:</th>             <td>Tue, 16 Aug 2022</td> <th>  Prob (F-statistic):</th> <td>4.83e-98</td>\n",
       "</tr>\n",
       "<tr>\n",
       "  <th>Time:</th>                 <td>13:47:33</td>     <th>  Log-Likelihood:    </th> <td> -386.20</td>\n",
       "</tr>\n",
       "<tr>\n",
       "  <th>No. Observations:</th>      <td>   200</td>      <th>  AIC:               </th> <td>   778.4</td>\n",
       "</tr>\n",
       "<tr>\n",
       "  <th>Df Residuals:</th>          <td>   197</td>      <th>  BIC:               </th> <td>   788.3</td>\n",
       "</tr>\n",
       "<tr>\n",
       "  <th>Df Model:</th>              <td>     2</td>      <th>                     </th>     <td> </td>   \n",
       "</tr>\n",
       "<tr>\n",
       "  <th>Covariance Type:</th>      <td>nonrobust</td>    <th>                     </th>     <td> </td>   \n",
       "</tr>\n",
       "</table>\n",
       "<table class=\"simpletable\">\n",
       "<tr>\n",
       "      <td></td>         <th>coef</th>     <th>std err</th>      <th>t</th>      <th>P>|t|</th>  <th>[0.025</th>    <th>0.975]</th>  \n",
       "</tr>\n",
       "<tr>\n",
       "  <th>Intercept</th> <td>    2.9211</td> <td>    0.294</td> <td>    9.919</td> <td> 0.000</td> <td>    2.340</td> <td>    3.502</td>\n",
       "</tr>\n",
       "<tr>\n",
       "  <th>TV</th>        <td>    0.0458</td> <td>    0.001</td> <td>   32.909</td> <td> 0.000</td> <td>    0.043</td> <td>    0.048</td>\n",
       "</tr>\n",
       "<tr>\n",
       "  <th>Radio</th>     <td>    0.1880</td> <td>    0.008</td> <td>   23.382</td> <td> 0.000</td> <td>    0.172</td> <td>    0.204</td>\n",
       "</tr>\n",
       "</table>\n",
       "<table class=\"simpletable\">\n",
       "<tr>\n",
       "  <th>Omnibus:</th>       <td>60.022</td> <th>  Durbin-Watson:     </th> <td>   2.081</td>\n",
       "</tr>\n",
       "<tr>\n",
       "  <th>Prob(Omnibus):</th> <td> 0.000</td> <th>  Jarque-Bera (JB):  </th> <td> 148.679</td>\n",
       "</tr>\n",
       "<tr>\n",
       "  <th>Skew:</th>          <td>-1.323</td> <th>  Prob(JB):          </th> <td>5.19e-33</td>\n",
       "</tr>\n",
       "<tr>\n",
       "  <th>Kurtosis:</th>      <td> 6.292</td> <th>  Cond. No.          </th> <td>    425.</td>\n",
       "</tr>\n",
       "</table><br/><br/>Notes:<br/>[1] Standard Errors assume that the covariance matrix of the errors is correctly specified."
      ],
      "text/plain": [
       "<class 'statsmodels.iolib.summary.Summary'>\n",
       "\"\"\"\n",
       "                            OLS Regression Results                            \n",
       "==============================================================================\n",
       "Dep. Variable:                  Sales   R-squared:                       0.897\n",
       "Model:                            OLS   Adj. R-squared:                  0.896\n",
       "Method:                 Least Squares   F-statistic:                     859.6\n",
       "Date:                Tue, 16 Aug 2022   Prob (F-statistic):           4.83e-98\n",
       "Time:                        13:47:33   Log-Likelihood:                -386.20\n",
       "No. Observations:                 200   AIC:                             778.4\n",
       "Df Residuals:                     197   BIC:                             788.3\n",
       "Df Model:                           2                                         \n",
       "Covariance Type:            nonrobust                                         \n",
       "==============================================================================\n",
       "                 coef    std err          t      P>|t|      [0.025      0.975]\n",
       "------------------------------------------------------------------------------\n",
       "Intercept      2.9211      0.294      9.919      0.000       2.340       3.502\n",
       "TV             0.0458      0.001     32.909      0.000       0.043       0.048\n",
       "Radio          0.1880      0.008     23.382      0.000       0.172       0.204\n",
       "==============================================================================\n",
       "Omnibus:                       60.022   Durbin-Watson:                   2.081\n",
       "Prob(Omnibus):                  0.000   Jarque-Bera (JB):              148.679\n",
       "Skew:                          -1.323   Prob(JB):                     5.19e-33\n",
       "Kurtosis:                       6.292   Cond. No.                         425.\n",
       "==============================================================================\n",
       "\n",
       "Notes:\n",
       "[1] Standard Errors assume that the covariance matrix of the errors is correctly specified.\n",
       "\"\"\""
      ]
     },
     "execution_count": 757,
     "metadata": {},
     "output_type": "execute_result"
    }
   ],
   "source": [
    "results = smf.ols(\"Sales ~ TV + Radio\", data = df_adv).fit()\n",
    "results.summary()"
   ]
  },
  {
   "cell_type": "code",
   "execution_count": 759,
   "id": "decent-playlist",
   "metadata": {},
   "outputs": [
    {
     "data": {
      "text/html": [
       "<table class=\"simpletable\">\n",
       "<caption>OLS Regression Results</caption>\n",
       "<tr>\n",
       "  <th>Dep. Variable:</th>          <td>Sales</td>      <th>  R-squared:         </th> <td>   0.968</td> \n",
       "</tr>\n",
       "<tr>\n",
       "  <th>Model:</th>                   <td>OLS</td>       <th>  Adj. R-squared:    </th> <td>   0.967</td> \n",
       "</tr>\n",
       "<tr>\n",
       "  <th>Method:</th>             <td>Least Squares</td>  <th>  F-statistic:       </th> <td>   1963.</td> \n",
       "</tr>\n",
       "<tr>\n",
       "  <th>Date:</th>             <td>Tue, 16 Aug 2022</td> <th>  Prob (F-statistic):</th> <td>6.68e-146</td>\n",
       "</tr>\n",
       "<tr>\n",
       "  <th>Time:</th>                 <td>13:48:28</td>     <th>  Log-Likelihood:    </th> <td> -270.14</td> \n",
       "</tr>\n",
       "<tr>\n",
       "  <th>No. Observations:</th>      <td>   200</td>      <th>  AIC:               </th> <td>   548.3</td> \n",
       "</tr>\n",
       "<tr>\n",
       "  <th>Df Residuals:</th>          <td>   196</td>      <th>  BIC:               </th> <td>   561.5</td> \n",
       "</tr>\n",
       "<tr>\n",
       "  <th>Df Model:</th>              <td>     3</td>      <th>                     </th>     <td> </td>    \n",
       "</tr>\n",
       "<tr>\n",
       "  <th>Covariance Type:</th>      <td>nonrobust</td>    <th>                     </th>     <td> </td>    \n",
       "</tr>\n",
       "</table>\n",
       "<table class=\"simpletable\">\n",
       "<tr>\n",
       "      <td></td>         <th>coef</th>     <th>std err</th>      <th>t</th>      <th>P>|t|</th>  <th>[0.025</th>    <th>0.975]</th>  \n",
       "</tr>\n",
       "<tr>\n",
       "  <th>Intercept</th> <td>    6.7502</td> <td>    0.248</td> <td>   27.233</td> <td> 0.000</td> <td>    6.261</td> <td>    7.239</td>\n",
       "</tr>\n",
       "<tr>\n",
       "  <th>TV</th>        <td>    0.0191</td> <td>    0.002</td> <td>   12.699</td> <td> 0.000</td> <td>    0.016</td> <td>    0.022</td>\n",
       "</tr>\n",
       "<tr>\n",
       "  <th>Radio</th>     <td>    0.0289</td> <td>    0.009</td> <td>    3.241</td> <td> 0.001</td> <td>    0.011</td> <td>    0.046</td>\n",
       "</tr>\n",
       "<tr>\n",
       "  <th>TV:Radio</th>  <td>    0.0011</td> <td> 5.24e-05</td> <td>   20.727</td> <td> 0.000</td> <td>    0.001</td> <td>    0.001</td>\n",
       "</tr>\n",
       "</table>\n",
       "<table class=\"simpletable\">\n",
       "<tr>\n",
       "  <th>Omnibus:</th>       <td>128.132</td> <th>  Durbin-Watson:     </th> <td>   2.224</td> \n",
       "</tr>\n",
       "<tr>\n",
       "  <th>Prob(Omnibus):</th> <td> 0.000</td>  <th>  Jarque-Bera (JB):  </th> <td>1183.719</td> \n",
       "</tr>\n",
       "<tr>\n",
       "  <th>Skew:</th>          <td>-2.323</td>  <th>  Prob(JB):          </th> <td>9.09e-258</td>\n",
       "</tr>\n",
       "<tr>\n",
       "  <th>Kurtosis:</th>      <td>13.975</td>  <th>  Cond. No.          </th> <td>1.80e+04</td> \n",
       "</tr>\n",
       "</table><br/><br/>Notes:<br/>[1] Standard Errors assume that the covariance matrix of the errors is correctly specified.<br/>[2] The condition number is large, 1.8e+04. This might indicate that there are<br/>strong multicollinearity or other numerical problems."
      ],
      "text/plain": [
       "<class 'statsmodels.iolib.summary.Summary'>\n",
       "\"\"\"\n",
       "                            OLS Regression Results                            \n",
       "==============================================================================\n",
       "Dep. Variable:                  Sales   R-squared:                       0.968\n",
       "Model:                            OLS   Adj. R-squared:                  0.967\n",
       "Method:                 Least Squares   F-statistic:                     1963.\n",
       "Date:                Tue, 16 Aug 2022   Prob (F-statistic):          6.68e-146\n",
       "Time:                        13:48:28   Log-Likelihood:                -270.14\n",
       "No. Observations:                 200   AIC:                             548.3\n",
       "Df Residuals:                     196   BIC:                             561.5\n",
       "Df Model:                           3                                         \n",
       "Covariance Type:            nonrobust                                         \n",
       "==============================================================================\n",
       "                 coef    std err          t      P>|t|      [0.025      0.975]\n",
       "------------------------------------------------------------------------------\n",
       "Intercept      6.7502      0.248     27.233      0.000       6.261       7.239\n",
       "TV             0.0191      0.002     12.699      0.000       0.016       0.022\n",
       "Radio          0.0289      0.009      3.241      0.001       0.011       0.046\n",
       "TV:Radio       0.0011   5.24e-05     20.727      0.000       0.001       0.001\n",
       "==============================================================================\n",
       "Omnibus:                      128.132   Durbin-Watson:                   2.224\n",
       "Prob(Omnibus):                  0.000   Jarque-Bera (JB):             1183.719\n",
       "Skew:                          -2.323   Prob(JB):                    9.09e-258\n",
       "Kurtosis:                      13.975   Cond. No.                     1.80e+04\n",
       "==============================================================================\n",
       "\n",
       "Notes:\n",
       "[1] Standard Errors assume that the covariance matrix of the errors is correctly specified.\n",
       "[2] The condition number is large, 1.8e+04. This might indicate that there are\n",
       "strong multicollinearity or other numerical problems.\n",
       "\"\"\""
      ]
     },
     "execution_count": 759,
     "metadata": {},
     "output_type": "execute_result"
    }
   ],
   "source": [
    "results = smf.ols(\"Sales ~  TV + Radio + TV * Radio\", data = df_adv).fit()\n",
    "results.summary()"
   ]
  },
  {
   "cell_type": "code",
   "execution_count": 760,
   "id": "abdebaf9",
   "metadata": {
    "lang": "en",
    "scrolled": true
   },
   "outputs": [
    {
     "data": {
      "text/html": [
       "<div>\n",
       "<style scoped>\n",
       "    .dataframe tbody tr th:only-of-type {\n",
       "        vertical-align: middle;\n",
       "    }\n",
       "\n",
       "    .dataframe tbody tr th {\n",
       "        vertical-align: top;\n",
       "    }\n",
       "\n",
       "    .dataframe thead th {\n",
       "        text-align: right;\n",
       "    }\n",
       "</style>\n",
       "<table border=\"1\" class=\"dataframe\">\n",
       "  <thead>\n",
       "    <tr style=\"text-align: right;\">\n",
       "      <th></th>\n",
       "      <th>TV</th>\n",
       "      <th>Radio</th>\n",
       "      <th>Newspaper</th>\n",
       "      <th>Sales</th>\n",
       "    </tr>\n",
       "  </thead>\n",
       "  <tbody>\n",
       "    <tr>\n",
       "      <th>TV</th>\n",
       "      <td>1.000000</td>\n",
       "      <td>0.054809</td>\n",
       "      <td>0.056648</td>\n",
       "      <td>0.782224</td>\n",
       "    </tr>\n",
       "    <tr>\n",
       "      <th>Radio</th>\n",
       "      <td>0.054809</td>\n",
       "      <td>1.000000</td>\n",
       "      <td>0.354104</td>\n",
       "      <td>0.576223</td>\n",
       "    </tr>\n",
       "    <tr>\n",
       "      <th>Newspaper</th>\n",
       "      <td>0.056648</td>\n",
       "      <td>0.354104</td>\n",
       "      <td>1.000000</td>\n",
       "      <td>0.228299</td>\n",
       "    </tr>\n",
       "    <tr>\n",
       "      <th>Sales</th>\n",
       "      <td>0.782224</td>\n",
       "      <td>0.576223</td>\n",
       "      <td>0.228299</td>\n",
       "      <td>1.000000</td>\n",
       "    </tr>\n",
       "  </tbody>\n",
       "</table>\n",
       "</div>"
      ],
      "text/plain": [
       "                 TV     Radio  Newspaper     Sales\n",
       "TV         1.000000  0.054809   0.056648  0.782224\n",
       "Radio      0.054809  1.000000   0.354104  0.576223\n",
       "Newspaper  0.056648  0.354104   1.000000  0.228299\n",
       "Sales      0.782224  0.576223   0.228299  1.000000"
      ]
     },
     "execution_count": 760,
     "metadata": {},
     "output_type": "execute_result"
    }
   ],
   "source": [
    "# Gift for today's lab\n",
    "df_adv.corr()"
   ]
  },
  {
   "cell_type": "code",
   "execution_count": 762,
   "id": "dense-baghdad",
   "metadata": {},
   "outputs": [
    {
     "data": {
      "text/html": [
       "<table class=\"simpletable\">\n",
       "<caption>OLS Regression Results</caption>\n",
       "<tr>\n",
       "  <th>Dep. Variable:</th>          <td>Sales</td>      <th>  R-squared:         </th> <td>   0.612</td>\n",
       "</tr>\n",
       "<tr>\n",
       "  <th>Model:</th>                   <td>OLS</td>       <th>  Adj. R-squared:    </th> <td>   0.610</td>\n",
       "</tr>\n",
       "<tr>\n",
       "  <th>Method:</th>             <td>Least Squares</td>  <th>  F-statistic:       </th> <td>   312.1</td>\n",
       "</tr>\n",
       "<tr>\n",
       "  <th>Date:</th>             <td>Tue, 16 Aug 2022</td> <th>  Prob (F-statistic):</th> <td>1.47e-42</td>\n",
       "</tr>\n",
       "<tr>\n",
       "  <th>Time:</th>                 <td>13:51:30</td>     <th>  Log-Likelihood:    </th> <td> -519.05</td>\n",
       "</tr>\n",
       "<tr>\n",
       "  <th>No. Observations:</th>      <td>   200</td>      <th>  AIC:               </th> <td>   1042.</td>\n",
       "</tr>\n",
       "<tr>\n",
       "  <th>Df Residuals:</th>          <td>   198</td>      <th>  BIC:               </th> <td>   1049.</td>\n",
       "</tr>\n",
       "<tr>\n",
       "  <th>Df Model:</th>              <td>     1</td>      <th>                     </th>     <td> </td>   \n",
       "</tr>\n",
       "<tr>\n",
       "  <th>Covariance Type:</th>      <td>nonrobust</td>    <th>                     </th>     <td> </td>   \n",
       "</tr>\n",
       "</table>\n",
       "<table class=\"simpletable\">\n",
       "<tr>\n",
       "      <td></td>         <th>coef</th>     <th>std err</th>      <th>t</th>      <th>P>|t|</th>  <th>[0.025</th>    <th>0.975]</th>  \n",
       "</tr>\n",
       "<tr>\n",
       "  <th>Intercept</th> <td>    7.0326</td> <td>    0.458</td> <td>   15.360</td> <td> 0.000</td> <td>    6.130</td> <td>    7.935</td>\n",
       "</tr>\n",
       "<tr>\n",
       "  <th>TV</th>        <td>    0.0475</td> <td>    0.003</td> <td>   17.668</td> <td> 0.000</td> <td>    0.042</td> <td>    0.053</td>\n",
       "</tr>\n",
       "</table>\n",
       "<table class=\"simpletable\">\n",
       "<tr>\n",
       "  <th>Omnibus:</th>       <td> 0.531</td> <th>  Durbin-Watson:     </th> <td>   1.935</td>\n",
       "</tr>\n",
       "<tr>\n",
       "  <th>Prob(Omnibus):</th> <td> 0.767</td> <th>  Jarque-Bera (JB):  </th> <td>   0.669</td>\n",
       "</tr>\n",
       "<tr>\n",
       "  <th>Skew:</th>          <td>-0.089</td> <th>  Prob(JB):          </th> <td>   0.716</td>\n",
       "</tr>\n",
       "<tr>\n",
       "  <th>Kurtosis:</th>      <td> 2.779</td> <th>  Cond. No.          </th> <td>    338.</td>\n",
       "</tr>\n",
       "</table><br/><br/>Notes:<br/>[1] Standard Errors assume that the covariance matrix of the errors is correctly specified."
      ],
      "text/plain": [
       "<class 'statsmodels.iolib.summary.Summary'>\n",
       "\"\"\"\n",
       "                            OLS Regression Results                            \n",
       "==============================================================================\n",
       "Dep. Variable:                  Sales   R-squared:                       0.612\n",
       "Model:                            OLS   Adj. R-squared:                  0.610\n",
       "Method:                 Least Squares   F-statistic:                     312.1\n",
       "Date:                Tue, 16 Aug 2022   Prob (F-statistic):           1.47e-42\n",
       "Time:                        13:51:30   Log-Likelihood:                -519.05\n",
       "No. Observations:                 200   AIC:                             1042.\n",
       "Df Residuals:                     198   BIC:                             1049.\n",
       "Df Model:                           1                                         \n",
       "Covariance Type:            nonrobust                                         \n",
       "==============================================================================\n",
       "                 coef    std err          t      P>|t|      [0.025      0.975]\n",
       "------------------------------------------------------------------------------\n",
       "Intercept      7.0326      0.458     15.360      0.000       6.130       7.935\n",
       "TV             0.0475      0.003     17.668      0.000       0.042       0.053\n",
       "==============================================================================\n",
       "Omnibus:                        0.531   Durbin-Watson:                   1.935\n",
       "Prob(Omnibus):                  0.767   Jarque-Bera (JB):                0.669\n",
       "Skew:                          -0.089   Prob(JB):                        0.716\n",
       "Kurtosis:                       2.779   Cond. No.                         338.\n",
       "==============================================================================\n",
       "\n",
       "Notes:\n",
       "[1] Standard Errors assume that the covariance matrix of the errors is correctly specified.\n",
       "\"\"\""
      ]
     },
     "execution_count": 762,
     "metadata": {},
     "output_type": "execute_result"
    }
   ],
   "source": [
    "results = smf.ols(\"Sales ~ TV\", data = df_adv).fit()\n",
    "results.summary()"
   ]
  },
  {
   "cell_type": "markdown",
   "id": "4bb4540c",
   "metadata": {
    "lang": "en"
   },
   "source": [
    "The difference is that the covariance gives us the direction (positive or negative) between the variables and the correlation gives us this plus the strength of it."
   ]
  },
  {
   "cell_type": "markdown",
   "id": "1fcfd1e4",
   "metadata": {
    "lang": "en"
   },
   "source": [
    "Remember the **hierarchical principle:**\n",
    "\n",
    "\"*If we include an interaction in a model, we must also include the main effects, even if the p-values ​​associated with its coefficients are not significant*\""
   ]
  },
  {
   "cell_type": "markdown",
   "id": "dd1ff73f",
   "metadata": {
    "lang": "en"
   },
   "source": [
    "### $R^2$ Adjusted\n",
    "There is a curious thing with $R^2$. Look what happens when we include *random* variables!"
   ]
  },
  {
   "cell_type": "code",
   "execution_count": 464,
   "id": "injured-tourism",
   "metadata": {
    "lang": "es"
   },
   "outputs": [
    {
     "data": {
      "text/html": [
       "<div>\n",
       "<style scoped>\n",
       "    .dataframe tbody tr th:only-of-type {\n",
       "        vertical-align: middle;\n",
       "    }\n",
       "\n",
       "    .dataframe tbody tr th {\n",
       "        vertical-align: top;\n",
       "    }\n",
       "\n",
       "    .dataframe thead th {\n",
       "        text-align: right;\n",
       "    }\n",
       "</style>\n",
       "<table border=\"1\" class=\"dataframe\">\n",
       "  <thead>\n",
       "    <tr style=\"text-align: right;\">\n",
       "      <th></th>\n",
       "      <th>TV</th>\n",
       "      <th>Radio</th>\n",
       "      <th>Newspaper</th>\n",
       "      <th>Sales</th>\n",
       "    </tr>\n",
       "  </thead>\n",
       "  <tbody>\n",
       "    <tr>\n",
       "      <th>TV</th>\n",
       "      <td>1.000000</td>\n",
       "      <td>0.054809</td>\n",
       "      <td>0.056648</td>\n",
       "      <td>0.782224</td>\n",
       "    </tr>\n",
       "    <tr>\n",
       "      <th>Radio</th>\n",
       "      <td>0.054809</td>\n",
       "      <td>1.000000</td>\n",
       "      <td>0.354104</td>\n",
       "      <td>0.576223</td>\n",
       "    </tr>\n",
       "    <tr>\n",
       "      <th>Newspaper</th>\n",
       "      <td>0.056648</td>\n",
       "      <td>0.354104</td>\n",
       "      <td>1.000000</td>\n",
       "      <td>0.228299</td>\n",
       "    </tr>\n",
       "    <tr>\n",
       "      <th>Sales</th>\n",
       "      <td>0.782224</td>\n",
       "      <td>0.576223</td>\n",
       "      <td>0.228299</td>\n",
       "      <td>1.000000</td>\n",
       "    </tr>\n",
       "  </tbody>\n",
       "</table>\n",
       "</div>"
      ],
      "text/plain": [
       "                 TV     Radio  Newspaper     Sales\n",
       "TV         1.000000  0.054809   0.056648  0.782224\n",
       "Radio      0.054809  1.000000   0.354104  0.576223\n",
       "Newspaper  0.056648  0.354104   1.000000  0.228299\n",
       "Sales      0.782224  0.576223   0.228299  1.000000"
      ]
     },
     "execution_count": 464,
     "metadata": {},
     "output_type": "execute_result"
    }
   ],
   "source": [
    "df_adv.corr()"
   ]
  },
  {
   "cell_type": "code",
   "execution_count": 465,
   "id": "exposed-shepherd",
   "metadata": {},
   "outputs": [],
   "source": [
    "df_adv['rand_1'] = np.random.normal(size=200)\n",
    "df_adv['rand_2'] = np.random.normal(size=200)\n",
    "df_adv['rand_3'] = np.random.normal(size=200)\n",
    "df_adv['rand_4'] = np.random.normal(size=200)\n",
    "df_adv['rand_5'] = np.random.normal(size=200)\n",
    "df_adv['rand_6'] = np.random.normal(size=200)\n",
    "df_adv['rand_7'] = np.random.normal(size=200)\n",
    "df_adv['rand_8'] = np.random.normal(size=200)"
   ]
  },
  {
   "cell_type": "code",
   "execution_count": 466,
   "id": "divided-cannon",
   "metadata": {
    "scrolled": true
   },
   "outputs": [
    {
     "data": {
      "text/html": [
       "<div>\n",
       "<style scoped>\n",
       "    .dataframe tbody tr th:only-of-type {\n",
       "        vertical-align: middle;\n",
       "    }\n",
       "\n",
       "    .dataframe tbody tr th {\n",
       "        vertical-align: top;\n",
       "    }\n",
       "\n",
       "    .dataframe thead th {\n",
       "        text-align: right;\n",
       "    }\n",
       "</style>\n",
       "<table border=\"1\" class=\"dataframe\">\n",
       "  <thead>\n",
       "    <tr style=\"text-align: right;\">\n",
       "      <th></th>\n",
       "      <th>TV</th>\n",
       "      <th>Radio</th>\n",
       "      <th>Newspaper</th>\n",
       "      <th>Sales</th>\n",
       "      <th>rand_1</th>\n",
       "      <th>rand_2</th>\n",
       "      <th>rand_3</th>\n",
       "      <th>rand_4</th>\n",
       "      <th>rand_5</th>\n",
       "      <th>rand_6</th>\n",
       "      <th>rand_7</th>\n",
       "      <th>rand_8</th>\n",
       "    </tr>\n",
       "  </thead>\n",
       "  <tbody>\n",
       "    <tr>\n",
       "      <th>68</th>\n",
       "      <td>237.4</td>\n",
       "      <td>27.5</td>\n",
       "      <td>11.0</td>\n",
       "      <td>18.9</td>\n",
       "      <td>0.046615</td>\n",
       "      <td>0.362252</td>\n",
       "      <td>0.002808</td>\n",
       "      <td>-1.765418</td>\n",
       "      <td>-0.329250</td>\n",
       "      <td>0.254307</td>\n",
       "      <td>0.389633</td>\n",
       "      <td>0.079773</td>\n",
       "    </tr>\n",
       "    <tr>\n",
       "      <th>193</th>\n",
       "      <td>166.8</td>\n",
       "      <td>42.0</td>\n",
       "      <td>3.6</td>\n",
       "      <td>19.6</td>\n",
       "      <td>-1.675570</td>\n",
       "      <td>-1.144320</td>\n",
       "      <td>1.162218</td>\n",
       "      <td>-0.637408</td>\n",
       "      <td>-0.594672</td>\n",
       "      <td>0.014918</td>\n",
       "      <td>-0.358437</td>\n",
       "      <td>0.154792</td>\n",
       "    </tr>\n",
       "    <tr>\n",
       "      <th>17</th>\n",
       "      <td>281.4</td>\n",
       "      <td>39.6</td>\n",
       "      <td>55.8</td>\n",
       "      <td>24.4</td>\n",
       "      <td>-0.343994</td>\n",
       "      <td>-0.344909</td>\n",
       "      <td>-0.981478</td>\n",
       "      <td>-0.728150</td>\n",
       "      <td>-0.169724</td>\n",
       "      <td>-1.578004</td>\n",
       "      <td>0.275235</td>\n",
       "      <td>-1.423301</td>\n",
       "    </tr>\n",
       "    <tr>\n",
       "      <th>151</th>\n",
       "      <td>121.0</td>\n",
       "      <td>8.4</td>\n",
       "      <td>48.7</td>\n",
       "      <td>11.6</td>\n",
       "      <td>0.013071</td>\n",
       "      <td>-0.767217</td>\n",
       "      <td>-0.409712</td>\n",
       "      <td>0.212461</td>\n",
       "      <td>0.771667</td>\n",
       "      <td>-1.099581</td>\n",
       "      <td>-0.320486</td>\n",
       "      <td>-2.130190</td>\n",
       "    </tr>\n",
       "  </tbody>\n",
       "</table>\n",
       "</div>"
      ],
      "text/plain": [
       "        TV  Radio  Newspaper  Sales    rand_1    rand_2    rand_3    rand_4  \\\n",
       "68   237.4   27.5       11.0   18.9  0.046615  0.362252  0.002808 -1.765418   \n",
       "193  166.8   42.0        3.6   19.6 -1.675570 -1.144320  1.162218 -0.637408   \n",
       "17   281.4   39.6       55.8   24.4 -0.343994 -0.344909 -0.981478 -0.728150   \n",
       "151  121.0    8.4       48.7   11.6  0.013071 -0.767217 -0.409712  0.212461   \n",
       "\n",
       "       rand_5    rand_6    rand_7    rand_8  \n",
       "68  -0.329250  0.254307  0.389633  0.079773  \n",
       "193 -0.594672  0.014918 -0.358437  0.154792  \n",
       "17  -0.169724 -1.578004  0.275235 -1.423301  \n",
       "151  0.771667 -1.099581 -0.320486 -2.130190  "
      ]
     },
     "execution_count": 466,
     "metadata": {},
     "output_type": "execute_result"
    }
   ],
   "source": [
    "df_adv.sample(4)"
   ]
  },
  {
   "cell_type": "code",
   "execution_count": 467,
   "id": "streaming-variable",
   "metadata": {},
   "outputs": [
    {
     "data": {
      "text/html": [
       "<table class=\"simpletable\">\n",
       "<caption>OLS Regression Results</caption>\n",
       "<tr>\n",
       "  <th>Dep. Variable:</th>          <td>Sales</td>      <th>  R-squared:         </th> <td>   0.903</td>\n",
       "</tr>\n",
       "<tr>\n",
       "  <th>Model:</th>                   <td>OLS</td>       <th>  Adj. R-squared:    </th> <td>   0.898</td>\n",
       "</tr>\n",
       "<tr>\n",
       "  <th>Method:</th>             <td>Least Squares</td>  <th>  F-statistic:       </th> <td>   176.0</td>\n",
       "</tr>\n",
       "<tr>\n",
       "  <th>Date:</th>             <td>Tue, 16 Aug 2022</td> <th>  Prob (F-statistic):</th> <td>4.35e-90</td>\n",
       "</tr>\n",
       "<tr>\n",
       "  <th>Time:</th>                 <td>00:55:24</td>     <th>  Log-Likelihood:    </th> <td> -380.38</td>\n",
       "</tr>\n",
       "<tr>\n",
       "  <th>No. Observations:</th>      <td>   200</td>      <th>  AIC:               </th> <td>   782.8</td>\n",
       "</tr>\n",
       "<tr>\n",
       "  <th>Df Residuals:</th>          <td>   189</td>      <th>  BIC:               </th> <td>   819.0</td>\n",
       "</tr>\n",
       "<tr>\n",
       "  <th>Df Model:</th>              <td>    10</td>      <th>                     </th>     <td> </td>   \n",
       "</tr>\n",
       "<tr>\n",
       "  <th>Covariance Type:</th>      <td>nonrobust</td>    <th>                     </th>     <td> </td>   \n",
       "</tr>\n",
       "</table>\n",
       "<table class=\"simpletable\">\n",
       "<tr>\n",
       "      <td></td>         <th>coef</th>     <th>std err</th>      <th>t</th>      <th>P>|t|</th>  <th>[0.025</th>    <th>0.975]</th>  \n",
       "</tr>\n",
       "<tr>\n",
       "  <th>Intercept</th> <td>    2.8022</td> <td>    0.297</td> <td>    9.430</td> <td> 0.000</td> <td>    2.216</td> <td>    3.388</td>\n",
       "</tr>\n",
       "<tr>\n",
       "  <th>TV</th>        <td>    0.0459</td> <td>    0.001</td> <td>   32.619</td> <td> 0.000</td> <td>    0.043</td> <td>    0.049</td>\n",
       "</tr>\n",
       "<tr>\n",
       "  <th>Radio</th>     <td>    0.1928</td> <td>    0.008</td> <td>   23.368</td> <td> 0.000</td> <td>    0.177</td> <td>    0.209</td>\n",
       "</tr>\n",
       "<tr>\n",
       "  <th>rand_1</th>    <td>    0.0120</td> <td>    0.115</td> <td>    0.105</td> <td> 0.917</td> <td>   -0.215</td> <td>    0.239</td>\n",
       "</tr>\n",
       "<tr>\n",
       "  <th>rand_2</th>    <td>    0.2073</td> <td>    0.122</td> <td>    1.699</td> <td> 0.091</td> <td>   -0.033</td> <td>    0.448</td>\n",
       "</tr>\n",
       "<tr>\n",
       "  <th>rand_3</th>    <td>   -0.1716</td> <td>    0.134</td> <td>   -1.278</td> <td> 0.203</td> <td>   -0.436</td> <td>    0.093</td>\n",
       "</tr>\n",
       "<tr>\n",
       "  <th>rand_4</th>    <td>   -0.0099</td> <td>    0.132</td> <td>   -0.074</td> <td> 0.941</td> <td>   -0.271</td> <td>    0.251</td>\n",
       "</tr>\n",
       "<tr>\n",
       "  <th>rand_5</th>    <td>    0.1430</td> <td>    0.126</td> <td>    1.132</td> <td> 0.259</td> <td>   -0.106</td> <td>    0.392</td>\n",
       "</tr>\n",
       "<tr>\n",
       "  <th>rand_6</th>    <td>   -0.2152</td> <td>    0.116</td> <td>   -1.853</td> <td> 0.065</td> <td>   -0.444</td> <td>    0.014</td>\n",
       "</tr>\n",
       "<tr>\n",
       "  <th>rand_7</th>    <td>   -0.0879</td> <td>    0.109</td> <td>   -0.805</td> <td> 0.422</td> <td>   -0.303</td> <td>    0.128</td>\n",
       "</tr>\n",
       "<tr>\n",
       "  <th>rand_8</th>    <td>   -0.0114</td> <td>    0.122</td> <td>   -0.093</td> <td> 0.926</td> <td>   -0.253</td> <td>    0.230</td>\n",
       "</tr>\n",
       "</table>\n",
       "<table class=\"simpletable\">\n",
       "<tr>\n",
       "  <th>Omnibus:</th>       <td>44.564</td> <th>  Durbin-Watson:     </th> <td>   2.020</td>\n",
       "</tr>\n",
       "<tr>\n",
       "  <th>Prob(Omnibus):</th> <td> 0.000</td> <th>  Jarque-Bera (JB):  </th> <td>  88.223</td>\n",
       "</tr>\n",
       "<tr>\n",
       "  <th>Skew:</th>          <td>-1.071</td> <th>  Prob(JB):          </th> <td>6.96e-20</td>\n",
       "</tr>\n",
       "<tr>\n",
       "  <th>Kurtosis:</th>      <td> 5.450</td> <th>  Cond. No.          </th> <td>    434.</td>\n",
       "</tr>\n",
       "</table><br/><br/>Notes:<br/>[1] Standard Errors assume that the covariance matrix of the errors is correctly specified."
      ],
      "text/plain": [
       "<class 'statsmodels.iolib.summary.Summary'>\n",
       "\"\"\"\n",
       "                            OLS Regression Results                            \n",
       "==============================================================================\n",
       "Dep. Variable:                  Sales   R-squared:                       0.903\n",
       "Model:                            OLS   Adj. R-squared:                  0.898\n",
       "Method:                 Least Squares   F-statistic:                     176.0\n",
       "Date:                Tue, 16 Aug 2022   Prob (F-statistic):           4.35e-90\n",
       "Time:                        00:55:24   Log-Likelihood:                -380.38\n",
       "No. Observations:                 200   AIC:                             782.8\n",
       "Df Residuals:                     189   BIC:                             819.0\n",
       "Df Model:                          10                                         \n",
       "Covariance Type:            nonrobust                                         \n",
       "==============================================================================\n",
       "                 coef    std err          t      P>|t|      [0.025      0.975]\n",
       "------------------------------------------------------------------------------\n",
       "Intercept      2.8022      0.297      9.430      0.000       2.216       3.388\n",
       "TV             0.0459      0.001     32.619      0.000       0.043       0.049\n",
       "Radio          0.1928      0.008     23.368      0.000       0.177       0.209\n",
       "rand_1         0.0120      0.115      0.105      0.917      -0.215       0.239\n",
       "rand_2         0.2073      0.122      1.699      0.091      -0.033       0.448\n",
       "rand_3        -0.1716      0.134     -1.278      0.203      -0.436       0.093\n",
       "rand_4        -0.0099      0.132     -0.074      0.941      -0.271       0.251\n",
       "rand_5         0.1430      0.126      1.132      0.259      -0.106       0.392\n",
       "rand_6        -0.2152      0.116     -1.853      0.065      -0.444       0.014\n",
       "rand_7        -0.0879      0.109     -0.805      0.422      -0.303       0.128\n",
       "rand_8        -0.0114      0.122     -0.093      0.926      -0.253       0.230\n",
       "==============================================================================\n",
       "Omnibus:                       44.564   Durbin-Watson:                   2.020\n",
       "Prob(Omnibus):                  0.000   Jarque-Bera (JB):               88.223\n",
       "Skew:                          -1.071   Prob(JB):                     6.96e-20\n",
       "Kurtosis:                       5.450   Cond. No.                         434.\n",
       "==============================================================================\n",
       "\n",
       "Notes:\n",
       "[1] Standard Errors assume that the covariance matrix of the errors is correctly specified.\n",
       "\"\"\""
      ]
     },
     "execution_count": 467,
     "metadata": {},
     "output_type": "execute_result"
    }
   ],
   "source": [
    "results = smf.ols(\"Sales ~ TV + Radio  + rand_1 + rand_2 + rand_3 + rand_4 + rand_5 + rand_6 + rand_7 + rand_8\", data = df_adv).fit()\n",
    "results.summary()"
   ]
  },
  {
   "cell_type": "markdown",
   "id": "1311604f",
   "metadata": {
    "lang": "en"
   },
   "source": [
    "The coefficient `Adj. R-squared` is intended to penalize the $R^2$ of a model when *too many* variables are included.\n",
    "$$\\bar R^2 = 1-(1-R^2){n-1 \\ over n-p-1}$$"
   ]
  },
  {
   "cell_type": "markdown",
   "id": "348bd1c0",
   "metadata": {
    "lang": "en"
   },
   "source": [
    "## Potential problems in linear regression\n",
    "\n",
    "The main assumptions of a linear model are:\n",
    "\n",
    "* Data is linear\n",
    "* Errors are not correlated\n",
    "* The variance of the error terms is constant\n",
    "\n",
    "What happens if these assumptions are not met?\n",
    "\n",
    "In addition, our models can suffer from other problems such as:\n",
    "* Outliers\n",
    "* High leverage points\n",
    "* Collinearity\n",
    "* Missing values\n",
    "\n",
    "See this [video](https://www.youtube.com/watch?v=hVe2F9krrWk) for an introduction to the topic."
   ]
  },
  {
   "cell_type": "markdown",
   "id": "2759e222",
   "metadata": {
    "lang": "en"
   },
   "source": [
    "These four data sets are different, but they happen to have the same arithmetic mean and variance of the x and y values, the same correlation, the same correlation coefficient, and the same regression line. some with 2 or 3 decimal places. They are the Anscombe Quartet, named for F.J. Anscombe, a statistical mathematician who published them in 1973. They are often used to teach that in addition to calculating the statistical properties of data, it is convenient to visualize them.\n",
    "\n",
    "In all cases, the representations tell us something more about the data: the first ones seem somewhat random but related, the second ones show a clear but remarkably different pattern; in the third and fourth there are other patterns clouded by some outliers. These values ​​can be errors, real data that is just out of the ordinary, or even artificially produced data to make it all fit together.\n",
    "\n",
    "Moral: don't blindly trust the data and neither the statistics you get from them; also try to set up a visualization to understand them.\n",
    "![anscombe](../images/anscombe.png)"
   ]
  },
  {
   "cell_type": "markdown",
   "id": "f3344eca",
   "metadata": {
    "lang": "en"
   },
   "source": [
    "## Summary"
   ]
  },
  {
   "cell_type": "markdown",
   "id": "124a3766",
   "metadata": {
    "lang": "en"
   },
   "source": [
    "- Multiple linear regression: many variables (X, df) PREDICTING one target variable (y, pd.Series)\n",
    "- What is?: \n",
    "    - Way to describe the distribution of numbers. The closer the line is to the distribution, the better \n",
    "    - at describing its behaviour\n",
    "    - It helps describe the behavior of two or more variables and how one influences the other\n",
    "    - The relationship of **dependancy** of one variable with another\n",
    "    - Regression is turning aorund and walking away\n",
    "    - Regression **is because of math\"** 💯\n",
    "    - Summarize and put into an equation the closest appoximation of the values into a line\n",
    "- WHAT FOR: prediction of a quantitative variable\n",
    "- HOW GOOD: we can evaluate the model by looking at its error\n",
    "- Some useful errors: RMSE (how bad, absolute) & R2 (how good, 0-1, relative)\n",
    "- OLS through statsmodel & scikit learn\n",
    "- p_values to check for the validity of our coefficients and results\n",
    "- get_dummies: encoding categorical variables\n",
    "- PROCESS: **fit, predict, evaluation of my model**\n",
    "- Always **visualize**, as some assumptions might not be met. Eg.: Anscombe Q\n",
    "- \"Stats is fun\" - Juliana\n",
    "\n",
    "- WE CAN PREDICT NEW THINGS 🎉"
   ]
  },
  {
   "cell_type": "markdown",
   "id": "competitive-enough",
   "metadata": {},
   "source": [
    "## Further Materials \n",
    "\n",
    "* One example of [linear regression with the Boston data set](https://towardsdatascience.com/linear-regression-on-boston-housing-dataset-f409b7e4a155)"
   ]
  }
 ],
 "metadata": {
  "kernelspec": {
   "display_name": "ironhack",
   "language": "python",
   "name": "ironhack"
  },
  "language_info": {
   "codemirror_mode": {
    "name": "ipython",
    "version": 3
   },
   "file_extension": ".py",
   "mimetype": "text/x-python",
   "name": "python",
   "nbconvert_exporter": "python",
   "pygments_lexer": "ipython3",
   "version": "3.8.13"
  },
  "nbTranslate": {
   "displayLangs": [
    "en",
    "es"
   ],
   "hotkey": "alt-a",
   "langInMainMenu": true,
   "sourceLang": "es",
   "targetLang": "en",
   "useGoogleTranslate": true
  },
  "toc": {
   "base_numbering": 1,
   "nav_menu": {},
   "number_sections": true,
   "sideBar": true,
   "skip_h1_title": true,
   "title_cell": "Table of Contents",
   "title_sidebar": "Contents",
   "toc_cell": true,
   "toc_position": {
    "height": "calc(100% - 180px)",
    "left": "10px",
    "top": "150px",
    "width": "230.007px"
   },
   "toc_section_display": true,
   "toc_window_display": true
  }
 },
 "nbformat": 4,
 "nbformat_minor": 5
}

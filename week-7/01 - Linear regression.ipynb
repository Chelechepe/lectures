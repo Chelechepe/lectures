{
 "cells": [
  {
   "cell_type": "markdown",
   "id": "190aede4",
   "metadata": {
    "lang": "en"
   },
   "source": [
    "# Linear regression"
   ]
  },
  {
   "cell_type": "markdown",
   "id": "greek-chick",
   "metadata": {
    "toc": true
   },
   "source": [
    "<h1>Table of Contents<span class=\"tocSkip\"></span></h1>\n",
    "<div class=\"toc\"><ul class=\"toc-item\"><li><span><a href=\"#Motivation\" data-toc-modified-id=\"Motivation-1\"><span class=\"toc-item-num\">1&nbsp;&nbsp;</span>Motivation</a></span><ul class=\"toc-item\"><li><span><a href=\"#Exploratory-Analysis\" data-toc-modified-id=\"Exploratory-Analysis-1.1\"><span class=\"toc-item-num\">1.1&nbsp;&nbsp;</span>Exploratory Analysis</a></span></li></ul></li><li><span><a href=\"#Simple-linear-regression\" data-toc-modified-id=\"Simple-linear-regression-2\"><span class=\"toc-item-num\">2&nbsp;&nbsp;</span>Simple linear regression</a></span><ul class=\"toc-item\"><li><span><a href=\"#Let's-do-it-backwards\" data-toc-modified-id=\"Let's-do-it-backwards-2.1\"><span class=\"toc-item-num\">2.1&nbsp;&nbsp;</span>Let's do it backwards</a></span></li></ul></li><li><span><a href=\"#We-generate-data-to-explain-in-an-&quot;inverse&quot;-way-to-what-was-seen-a-moment-ago\" data-toc-modified-id=\"We-generate-data-to-explain-in-an-&quot;inverse&quot;-way-to-what-was-seen-a-moment-ago-3\"><span class=\"toc-item-num\">3&nbsp;&nbsp;</span>We generate data to explain in an \"inverse\" way to what was seen a moment ago</a></span></li><li><span><a href=\"#We-draw-the-regression-line\" data-toc-modified-id=\"We-draw-the-regression-line-4\"><span class=\"toc-item-num\">4&nbsp;&nbsp;</span>We draw the regression line</a></span></li><li><span><a href=\"#How-good-is-our-model?\" data-toc-modified-id=\"How-good-is-our-model?-5\"><span class=\"toc-item-num\">5&nbsp;&nbsp;</span>How good is our model?</a></span></li><li><span><a href=\"#Calculate-the-R2-of-the-model\" data-toc-modified-id=\"Calculate-the-R2-of-the-model-6\"><span class=\"toc-item-num\">6&nbsp;&nbsp;</span>Calculate the R2 of the model</a></span></li><li><span><a href=\"#Linear-regression-with-sklearn\" data-toc-modified-id=\"Linear-regression-with-sklearn-7\"><span class=\"toc-item-num\">7&nbsp;&nbsp;</span>Linear regression with sklearn</a></span></li><li><span><a href=\"#Linear-regression-with-statsmodels\" data-toc-modified-id=\"Linear-regression-with-statsmodels-8\"><span class=\"toc-item-num\">8&nbsp;&nbsp;</span>Linear regression with statsmodels</a></span></li><li><span><a href=\"#OLS-Concepts\" data-toc-modified-id=\"OLS-Concepts-9\"><span class=\"toc-item-num\">9&nbsp;&nbsp;</span>OLS Concepts</a></span></li><li><span><a href=\"#Multiple-Linear-Regression\" data-toc-modified-id=\"Multiple-Linear-Regression-10\"><span class=\"toc-item-num\">10&nbsp;&nbsp;</span>Multiple Linear Regression</a></span></li><li><span><a href=\"#Categorical-variables\" data-toc-modified-id=\"Categorical-variables-11\"><span class=\"toc-item-num\">11&nbsp;&nbsp;</span>Categorical variables</a></span></li><li><span><a href=\"#Linear-model-extensions\" data-toc-modified-id=\"Linear-model-extensions-12\"><span class=\"toc-item-num\">12&nbsp;&nbsp;</span>Linear model extensions</a></span><ul class=\"toc-item\"><li><span><a href=\"#Challenging-the-additive-assumption:-synergy\" data-toc-modified-id=\"Challenging-the-additive-assumption:-synergy-12.1\"><span class=\"toc-item-num\">12.1&nbsp;&nbsp;</span>Challenging the additive assumption: synergy</a></span></li></ul></li><li><span><a href=\"#Let's-do-it\" data-toc-modified-id=\"Let's-do-it-13\"><span class=\"toc-item-num\">13&nbsp;&nbsp;</span>Let's do it</a></span><ul class=\"toc-item\"><li><span><a href=\"#$R^2$-Adjusted\" data-toc-modified-id=\"$R^2$-Adjusted-13.1\"><span class=\"toc-item-num\">13.1&nbsp;&nbsp;</span>$R^2$ Adjusted</a></span></li></ul></li><li><span><a href=\"#Potential-problems-in-linear-regression\" data-toc-modified-id=\"Potential-problems-in-linear-regression-14\"><span class=\"toc-item-num\">14&nbsp;&nbsp;</span>Potential problems in linear regression</a></span></li><li><span><a href=\"#Summary\" data-toc-modified-id=\"Summary-15\"><span class=\"toc-item-num\">15&nbsp;&nbsp;</span>Summary</a></span></li><li><span><a href=\"#Further-Materials\" data-toc-modified-id=\"Further-Materials-16\"><span class=\"toc-item-num\">16&nbsp;&nbsp;</span>Further Materials</a></span></li></ul></div>"
   ]
  },
  {
   "cell_type": "code",
   "execution_count": 585,
   "id": "0de361d5",
   "metadata": {},
   "outputs": [],
   "source": [
    "#!pip install scikit-learn"
   ]
  },
  {
   "cell_type": "code",
   "execution_count": 586,
   "id": "effective-dispute",
   "metadata": {},
   "outputs": [],
   "source": [
    "import pandas as pd\n",
    "import numpy as np\n",
    "\n",
    "# Viz\n",
    "import seaborn as sns\n",
    "from matplotlib import pyplot as plt\n",
    "from matplotlib import cm\n",
    "%matplotlib inline\n",
    "%config Inlinebackend.figure_format = 'retina'\n",
    "sns.set_context(\"poster\")\n",
    "sns.set(rc={\"figure.figsize\": (15.,8.)})\n",
    "sns.set_style(\"whitegrid\")\n",
    "\n",
    "# Modelling libraries\n",
    "import statsmodels.formula.api as smf\n",
    "from sklearn.linear_model import LinearRegression #sci-kit for learning, science-kit, sklearn"
   ]
  },
  {
   "cell_type": "markdown",
   "id": "1a25c2b2",
   "metadata": {
    "lang": "en"
   },
   "source": [
    "## Motivation"
   ]
  },
  {
   "cell_type": "code",
   "execution_count": 587,
   "id": "8e83ee91",
   "metadata": {},
   "outputs": [],
   "source": [
    "data = pd.read_csv(\"../datasets/hours_vs_mark.csv\", index_col=0)"
   ]
  },
  {
   "cell_type": "code",
   "execution_count": 588,
   "id": "12eca1a5",
   "metadata": {},
   "outputs": [
    {
     "data": {
      "text/html": [
       "<div>\n",
       "<style scoped>\n",
       "    .dataframe tbody tr th:only-of-type {\n",
       "        vertical-align: middle;\n",
       "    }\n",
       "\n",
       "    .dataframe tbody tr th {\n",
       "        vertical-align: top;\n",
       "    }\n",
       "\n",
       "    .dataframe thead th {\n",
       "        text-align: right;\n",
       "    }\n",
       "</style>\n",
       "<table border=\"1\" class=\"dataframe\">\n",
       "  <thead>\n",
       "    <tr style=\"text-align: right;\">\n",
       "      <th></th>\n",
       "      <th>hours</th>\n",
       "      <th>mark</th>\n",
       "    </tr>\n",
       "  </thead>\n",
       "  <tbody>\n",
       "    <tr>\n",
       "      <th>0</th>\n",
       "      <td>865</td>\n",
       "      <td>95</td>\n",
       "    </tr>\n",
       "    <tr>\n",
       "      <th>1</th>\n",
       "      <td>4</td>\n",
       "      <td>12</td>\n",
       "    </tr>\n",
       "    <tr>\n",
       "      <th>2</th>\n",
       "      <td>305</td>\n",
       "      <td>35</td>\n",
       "    </tr>\n",
       "    <tr>\n",
       "      <th>3</th>\n",
       "      <td>437</td>\n",
       "      <td>56</td>\n",
       "    </tr>\n",
       "    <tr>\n",
       "      <th>4</th>\n",
       "      <td>682</td>\n",
       "      <td>86</td>\n",
       "    </tr>\n",
       "    <tr>\n",
       "      <th>...</th>\n",
       "      <td>...</td>\n",
       "      <td>...</td>\n",
       "    </tr>\n",
       "    <tr>\n",
       "      <th>95</th>\n",
       "      <td>252</td>\n",
       "      <td>66</td>\n",
       "    </tr>\n",
       "    <tr>\n",
       "      <th>96</th>\n",
       "      <td>49</td>\n",
       "      <td>21</td>\n",
       "    </tr>\n",
       "    <tr>\n",
       "      <th>97</th>\n",
       "      <td>792</td>\n",
       "      <td>97</td>\n",
       "    </tr>\n",
       "    <tr>\n",
       "      <th>98</th>\n",
       "      <td>310</td>\n",
       "      <td>46</td>\n",
       "    </tr>\n",
       "    <tr>\n",
       "      <th>99</th>\n",
       "      <td>934</td>\n",
       "      <td>89</td>\n",
       "    </tr>\n",
       "  </tbody>\n",
       "</table>\n",
       "<p>100 rows × 2 columns</p>\n",
       "</div>"
      ],
      "text/plain": [
       "    hours  mark\n",
       "0     865    95\n",
       "1       4    12\n",
       "2     305    35\n",
       "3     437    56\n",
       "4     682    86\n",
       "..    ...   ...\n",
       "95    252    66\n",
       "96     49    21\n",
       "97    792    97\n",
       "98    310    46\n",
       "99    934    89\n",
       "\n",
       "[100 rows x 2 columns]"
      ]
     },
     "execution_count": 588,
     "metadata": {},
     "output_type": "execute_result"
    }
   ],
   "source": [
    "data"
   ]
  },
  {
   "cell_type": "markdown",
   "id": "10b1235e",
   "metadata": {
    "lang": "en"
   },
   "source": [
    "We have 100 students, and we know:\n",
    " * How many hours they studied for their exam\n",
    " * The grade they have obtained (from 0 to 100)"
   ]
  },
  {
   "cell_type": "markdown",
   "id": "7f05e727",
   "metadata": {
    "lang": "en"
   },
   "source": [
    "### Exploratory Analysis"
   ]
  },
  {
   "cell_type": "code",
   "execution_count": 589,
   "id": "7ff44191",
   "metadata": {},
   "outputs": [
    {
     "name": "stdout",
     "output_type": "stream",
     "text": [
      "<class 'pandas.core.frame.DataFrame'>\n",
      "Int64Index: 100 entries, 0 to 99\n",
      "Data columns (total 2 columns):\n",
      " #   Column  Non-Null Count  Dtype\n",
      "---  ------  --------------  -----\n",
      " 0   hours   100 non-null    int64\n",
      " 1   mark    100 non-null    int64\n",
      "dtypes: int64(2)\n",
      "memory usage: 2.3 KB\n"
     ]
    }
   ],
   "source": [
    "data.info()"
   ]
  },
  {
   "cell_type": "code",
   "execution_count": 590,
   "id": "d885bd9b",
   "metadata": {},
   "outputs": [
    {
     "data": {
      "text/plain": [
       "(100, 2)"
      ]
     },
     "execution_count": 590,
     "metadata": {},
     "output_type": "execute_result"
    }
   ],
   "source": [
    "data.shape"
   ]
  },
  {
   "cell_type": "code",
   "execution_count": 591,
   "id": "6ac3ad5f",
   "metadata": {},
   "outputs": [
    {
     "data": {
      "text/html": [
       "<div>\n",
       "<style scoped>\n",
       "    .dataframe tbody tr th:only-of-type {\n",
       "        vertical-align: middle;\n",
       "    }\n",
       "\n",
       "    .dataframe tbody tr th {\n",
       "        vertical-align: top;\n",
       "    }\n",
       "\n",
       "    .dataframe thead th {\n",
       "        text-align: right;\n",
       "    }\n",
       "</style>\n",
       "<table border=\"1\" class=\"dataframe\">\n",
       "  <thead>\n",
       "    <tr style=\"text-align: right;\">\n",
       "      <th></th>\n",
       "      <th>hours</th>\n",
       "      <th>mark</th>\n",
       "    </tr>\n",
       "  </thead>\n",
       "  <tbody>\n",
       "    <tr>\n",
       "      <th>count</th>\n",
       "      <td>100.000000</td>\n",
       "      <td>100.000000</td>\n",
       "    </tr>\n",
       "    <tr>\n",
       "      <th>mean</th>\n",
       "      <td>428.540000</td>\n",
       "      <td>47.940000</td>\n",
       "    </tr>\n",
       "    <tr>\n",
       "      <th>std</th>\n",
       "      <td>285.241752</td>\n",
       "      <td>27.757907</td>\n",
       "    </tr>\n",
       "    <tr>\n",
       "      <th>min</th>\n",
       "      <td>2.000000</td>\n",
       "      <td>0.000000</td>\n",
       "    </tr>\n",
       "    <tr>\n",
       "      <th>25%</th>\n",
       "      <td>167.250000</td>\n",
       "      <td>29.500000</td>\n",
       "    </tr>\n",
       "    <tr>\n",
       "      <th>50%</th>\n",
       "      <td>424.500000</td>\n",
       "      <td>44.000000</td>\n",
       "    </tr>\n",
       "    <tr>\n",
       "      <th>75%</th>\n",
       "      <td>662.500000</td>\n",
       "      <td>68.000000</td>\n",
       "    </tr>\n",
       "    <tr>\n",
       "      <th>max</th>\n",
       "      <td>986.000000</td>\n",
       "      <td>100.000000</td>\n",
       "    </tr>\n",
       "  </tbody>\n",
       "</table>\n",
       "</div>"
      ],
      "text/plain": [
       "            hours        mark\n",
       "count  100.000000  100.000000\n",
       "mean   428.540000   47.940000\n",
       "std    285.241752   27.757907\n",
       "min      2.000000    0.000000\n",
       "25%    167.250000   29.500000\n",
       "50%    424.500000   44.000000\n",
       "75%    662.500000   68.000000\n",
       "max    986.000000  100.000000"
      ]
     },
     "execution_count": 591,
     "metadata": {},
     "output_type": "execute_result"
    }
   ],
   "source": [
    "data.describe()"
   ]
  },
  {
   "cell_type": "code",
   "execution_count": 592,
   "id": "77df0007",
   "metadata": {},
   "outputs": [
    {
     "data": {
      "image/png": "[encoded data removed]",
      "text/plain": [
       "<Figure size 1080x576 with 1 Axes>"
      ]
     },
     "metadata": {},
     "output_type": "display_data"
    }
   ],
   "source": [
    "sns.histplot(data.hours);"
   ]
  },
  {
   "cell_type": "code",
   "execution_count": 593,
   "id": "cc29030c",
   "metadata": {},
   "outputs": [
    {
     "data": {
      "image/png": "[encoded data removed]",
      "text/plain": [
       "<Figure size 1080x576 with 1 Axes>"
      ]
     },
     "metadata": {},
     "output_type": "display_data"
    }
   ],
   "source": [
    "sns.histplot(data.mark);"
   ]
  },
  {
   "cell_type": "markdown",
   "id": "5dca9195",
   "metadata": {
    "lang": "en"
   },
   "source": [
    "We would like to understand the relationship $$grade = f(hours)$$\n",
    "\n",
    "To be able to **predict the expected grade** that we will obtain when studying a certain number of hours"
   ]
  },
  {
   "cell_type": "code",
   "execution_count": 594,
   "id": "26cbf70e",
   "metadata": {},
   "outputs": [
    {
     "data": {
      "text/html": [
       "<div>\n",
       "<style scoped>\n",
       "    .dataframe tbody tr th:only-of-type {\n",
       "        vertical-align: middle;\n",
       "    }\n",
       "\n",
       "    .dataframe tbody tr th {\n",
       "        vertical-align: top;\n",
       "    }\n",
       "\n",
       "    .dataframe thead th {\n",
       "        text-align: right;\n",
       "    }\n",
       "</style>\n",
       "<table border=\"1\" class=\"dataframe\">\n",
       "  <thead>\n",
       "    <tr style=\"text-align: right;\">\n",
       "      <th></th>\n",
       "      <th>hours</th>\n",
       "      <th>mark</th>\n",
       "    </tr>\n",
       "  </thead>\n",
       "  <tbody>\n",
       "    <tr>\n",
       "      <th>hours</th>\n",
       "      <td>1.000000</td>\n",
       "      <td>0.867072</td>\n",
       "    </tr>\n",
       "    <tr>\n",
       "      <th>mark</th>\n",
       "      <td>0.867072</td>\n",
       "      <td>1.000000</td>\n",
       "    </tr>\n",
       "  </tbody>\n",
       "</table>\n",
       "</div>"
      ],
      "text/plain": [
       "          hours      mark\n",
       "hours  1.000000  0.867072\n",
       "mark   0.867072  1.000000"
      ]
     },
     "execution_count": 594,
     "metadata": {},
     "output_type": "execute_result"
    }
   ],
   "source": [
    "data.corr()"
   ]
  },
  {
   "cell_type": "code",
   "execution_count": 595,
   "id": "f79c7e7a",
   "metadata": {},
   "outputs": [
    {
     "data": {
      "image/png": "[encoded data removed]",
      "text/plain": [
       "<Figure size 1080x576 with 1 Axes>"
      ]
     },
     "metadata": {},
     "output_type": "display_data"
    }
   ],
   "source": [
    "sns.scatterplot(x=data[\"hours\"], y=data[\"mark\"]);"
   ]
  },
  {
   "cell_type": "markdown",
   "id": "179b34b5",
   "metadata": {
    "lang": "en"
   },
   "source": [
    "Let's try a $$Y = m * X + n$$ linear regression\n",
    "$m$ is the slope\n",
    "$n$ is the value of $Y$ when $X=0$\n",
    "And we have to:\n",
    "$$grade = m * hours + n$$\n",
    "We want to find $m$ and $n$ that *best* model our data\n"
   ]
  },
  {
   "cell_type": "code",
   "execution_count": 596,
   "id": "1dd2cc40",
   "metadata": {},
   "outputs": [],
   "source": [
    "data[\"prediction_1\"] = 0.1 * data.hours + 5 # equation of a line\n",
    "data[\"prediction_2\"] = 0.12 * data.hours + 10"
   ]
  },
  {
   "cell_type": "code",
   "execution_count": 597,
   "id": "28b8af17",
   "metadata": {},
   "outputs": [
    {
     "data": {
      "text/html": [
       "<div>\n",
       "<style scoped>\n",
       "    .dataframe tbody tr th:only-of-type {\n",
       "        vertical-align: middle;\n",
       "    }\n",
       "\n",
       "    .dataframe tbody tr th {\n",
       "        vertical-align: top;\n",
       "    }\n",
       "\n",
       "    .dataframe thead th {\n",
       "        text-align: right;\n",
       "    }\n",
       "</style>\n",
       "<table border=\"1\" class=\"dataframe\">\n",
       "  <thead>\n",
       "    <tr style=\"text-align: right;\">\n",
       "      <th></th>\n",
       "      <th>hours</th>\n",
       "      <th>mark</th>\n",
       "      <th>prediction_1</th>\n",
       "      <th>prediction_2</th>\n",
       "    </tr>\n",
       "  </thead>\n",
       "  <tbody>\n",
       "    <tr>\n",
       "      <th>0</th>\n",
       "      <td>865</td>\n",
       "      <td>95</td>\n",
       "      <td>91.5</td>\n",
       "      <td>113.80</td>\n",
       "    </tr>\n",
       "    <tr>\n",
       "      <th>1</th>\n",
       "      <td>4</td>\n",
       "      <td>12</td>\n",
       "      <td>5.4</td>\n",
       "      <td>10.48</td>\n",
       "    </tr>\n",
       "    <tr>\n",
       "      <th>2</th>\n",
       "      <td>305</td>\n",
       "      <td>35</td>\n",
       "      <td>35.5</td>\n",
       "      <td>46.60</td>\n",
       "    </tr>\n",
       "    <tr>\n",
       "      <th>3</th>\n",
       "      <td>437</td>\n",
       "      <td>56</td>\n",
       "      <td>48.7</td>\n",
       "      <td>62.44</td>\n",
       "    </tr>\n",
       "    <tr>\n",
       "      <th>4</th>\n",
       "      <td>682</td>\n",
       "      <td>86</td>\n",
       "      <td>73.2</td>\n",
       "      <td>91.84</td>\n",
       "    </tr>\n",
       "  </tbody>\n",
       "</table>\n",
       "</div>"
      ],
      "text/plain": [
       "   hours  mark  prediction_1  prediction_2\n",
       "0    865    95          91.5        113.80\n",
       "1      4    12           5.4         10.48\n",
       "2    305    35          35.5         46.60\n",
       "3    437    56          48.7         62.44\n",
       "4    682    86          73.2         91.84"
      ]
     },
     "execution_count": 597,
     "metadata": {},
     "output_type": "execute_result"
    }
   ],
   "source": [
    "data.head()"
   ]
  },
  {
   "cell_type": "code",
   "execution_count": 598,
   "id": "6b927ae8",
   "metadata": {},
   "outputs": [],
   "source": [
    "def predict_grade (hours):\n",
    "    return hours * 0.1 + 5"
   ]
  },
  {
   "cell_type": "code",
   "execution_count": 599,
   "id": "e723ecad",
   "metadata": {},
   "outputs": [
    {
     "data": {
      "text/plain": [
       "91.5"
      ]
     },
     "execution_count": 599,
     "metadata": {},
     "output_type": "execute_result"
    }
   ],
   "source": [
    "predict_grade(865)"
   ]
  },
  {
   "cell_type": "markdown",
   "id": "4b0bdb01",
   "metadata": {
    "lang": "en"
   },
   "source": [
    "Which has worked better? How can we measure the error of the models?\n",
    "\n",
    "We can subtract our prediction from the grade to see what we have done wrong in each one and make the average.... we use the absolute value to remove the negative values ​​and then we talk about this error, which has a name and it is MAE (mean absolutely error)"
   ]
  },
  {
   "cell_type": "code",
   "execution_count": 600,
   "id": "ca2d3b2a",
   "metadata": {},
   "outputs": [],
   "source": [
    "data[\"error_1\"] = (data.mark - data[\"prediction_1\"]).abs()\n",
    "data[\"error_2\"] = (data.mark - data[\"prediction_2\"]).abs()"
   ]
  },
  {
   "cell_type": "code",
   "execution_count": 601,
   "id": "54e46851",
   "metadata": {},
   "outputs": [
    {
     "data": {
      "text/html": [
       "<div>\n",
       "<style scoped>\n",
       "    .dataframe tbody tr th:only-of-type {\n",
       "        vertical-align: middle;\n",
       "    }\n",
       "\n",
       "    .dataframe tbody tr th {\n",
       "        vertical-align: top;\n",
       "    }\n",
       "\n",
       "    .dataframe thead th {\n",
       "        text-align: right;\n",
       "    }\n",
       "</style>\n",
       "<table border=\"1\" class=\"dataframe\">\n",
       "  <thead>\n",
       "    <tr style=\"text-align: right;\">\n",
       "      <th></th>\n",
       "      <th>hours</th>\n",
       "      <th>mark</th>\n",
       "      <th>prediction_1</th>\n",
       "      <th>prediction_2</th>\n",
       "      <th>error_1</th>\n",
       "      <th>error_2</th>\n",
       "    </tr>\n",
       "  </thead>\n",
       "  <tbody>\n",
       "    <tr>\n",
       "      <th>0</th>\n",
       "      <td>865</td>\n",
       "      <td>95</td>\n",
       "      <td>91.5</td>\n",
       "      <td>113.80</td>\n",
       "      <td>3.5</td>\n",
       "      <td>18.80</td>\n",
       "    </tr>\n",
       "    <tr>\n",
       "      <th>1</th>\n",
       "      <td>4</td>\n",
       "      <td>12</td>\n",
       "      <td>5.4</td>\n",
       "      <td>10.48</td>\n",
       "      <td>6.6</td>\n",
       "      <td>1.52</td>\n",
       "    </tr>\n",
       "    <tr>\n",
       "      <th>2</th>\n",
       "      <td>305</td>\n",
       "      <td>35</td>\n",
       "      <td>35.5</td>\n",
       "      <td>46.60</td>\n",
       "      <td>0.5</td>\n",
       "      <td>11.60</td>\n",
       "    </tr>\n",
       "    <tr>\n",
       "      <th>3</th>\n",
       "      <td>437</td>\n",
       "      <td>56</td>\n",
       "      <td>48.7</td>\n",
       "      <td>62.44</td>\n",
       "      <td>7.3</td>\n",
       "      <td>6.44</td>\n",
       "    </tr>\n",
       "    <tr>\n",
       "      <th>4</th>\n",
       "      <td>682</td>\n",
       "      <td>86</td>\n",
       "      <td>73.2</td>\n",
       "      <td>91.84</td>\n",
       "      <td>12.8</td>\n",
       "      <td>5.84</td>\n",
       "    </tr>\n",
       "  </tbody>\n",
       "</table>\n",
       "</div>"
      ],
      "text/plain": [
       "   hours  mark  prediction_1  prediction_2  error_1  error_2\n",
       "0    865    95          91.5        113.80      3.5    18.80\n",
       "1      4    12           5.4         10.48      6.6     1.52\n",
       "2    305    35          35.5         46.60      0.5    11.60\n",
       "3    437    56          48.7         62.44      7.3     6.44\n",
       "4    682    86          73.2         91.84     12.8     5.84"
      ]
     },
     "execution_count": 601,
     "metadata": {},
     "output_type": "execute_result"
    }
   ],
   "source": [
    "data.head()"
   ]
  },
  {
   "cell_type": "code",
   "execution_count": 602,
   "id": "6c99513c",
   "metadata": {},
   "outputs": [
    {
     "data": {
      "text/plain": [
       "12.008"
      ]
     },
     "execution_count": 602,
     "metadata": {},
     "output_type": "execute_result"
    }
   ],
   "source": [
    "data.error_1.mean()"
   ]
  },
  {
   "cell_type": "code",
   "execution_count": 603,
   "id": "a292dcf1",
   "metadata": {},
   "outputs": [
    {
     "data": {
      "text/plain": [
       "18.073599999999995"
      ]
     },
     "execution_count": 603,
     "metadata": {},
     "output_type": "execute_result"
    }
   ],
   "source": [
    "data.error_2.mean()"
   ]
  },
  {
   "cell_type": "markdown",
   "id": "5fbd1f9f",
   "metadata": {
    "lang": "en"
   },
   "source": [
    "What is going to be our goal? Python and its libraries do this for us, it calculates the slope and the intercept to be able to make \"predictions\" of unknown data from data that we already have."
   ]
  },
  {
   "cell_type": "code",
   "execution_count": 604,
   "id": "31ce550b",
   "metadata": {},
   "outputs": [
    {
     "data": {
      "image/png": "[encoded data removed]",
      "text/plain": [
       "<Figure size 1080x576 with 1 Axes>"
      ]
     },
     "metadata": {},
     "output_type": "display_data"
    }
   ],
   "source": [
    "sns.scatterplot(x=data[\"hours\"], y=data[\"mark\"])\n",
    "plt.plot(data.hours, data[\"prediction_2\"], color='r', label='worse') # greater Mean Average Error\n",
    "plt.plot(data.hours, data[\"prediction_1\"], color='g', label='better')\n",
    "plt.legend();"
   ]
  },
  {
   "cell_type": "markdown",
   "id": "cc3ad931",
   "metadata": {
    "lang": "en"
   },
   "source": [
    "## Simple linear regression\n",
    "\n",
    "Simple linear regression a statistical model that assumes a linear relationship between a predictor and a target variable. Mathematically, it can be expressed as:"
   ]
  },
  {
   "cell_type": "markdown",
   "id": "trying-monthly",
   "metadata": {},
   "source": [
    "![formula](../images/formula.png)"
   ]
  },
  {
   "cell_type": "markdown",
   "id": "05109428",
   "metadata": {
    "lang": "en"
   },
   "source": [
    "If we dig a little deeper, we can find this other expression:\n",
    "\n",
    " $$ Y = \\beta_0 +  \\beta_1 X + \\epsilon$$\n",
    "\n",
    "Where:\n",
    "* $X$ = predictor variable\n",
    "* $Y$ = target variable\n",
    "* $\\beta_0$ = intercept\n",
    "* $\\beta_1$ = slope / slope\n",
    "* $\\epsilon$ = noise (gaussian)\n",
    "\n",
    "\n",
    "The above equation is known as the *population regression line*.\n",
    "The simple linear regression line usually has the form shown in the formula above, where β0 and β1 are unknown constants, representing the intercept and slope of the regression line, respectively.\n",
    "\n",
    "The intercept is the value of the dependent variable (Y) when the independent variable (X) has a value of zero (0). The slope is a measure of the rate at which the dependent variable (Y) changes when the independent variable (X) changes by one (1). The unknown constants are called the coefficients or parameters of the model. This form of the regression line is sometimes known as a population regression line and, as a probabilistic model, it roughly fits the data set hence the use of the symbol (≈) in the image. The model is called probabilistic because it does not model all the variability of the dependent variable (Y)"
   ]
  },
  {
   "cell_type": "markdown",
   "id": "f768d2b6",
   "metadata": {
    "lang": "en"
   },
   "source": [
    "### Let's do it backwards\n",
    "![upsidedown](https://media.giphy.com/media/q2liPHzYo82zK9Tb0X/giphy.gif)"
   ]
  },
  {
   "cell_type": "markdown",
   "id": "cd822250",
   "metadata": {
    "lang": "en"
   },
   "source": [
    "## We generate data to explain in an \"inverse\" way to what was seen a moment ago"
   ]
  },
  {
   "cell_type": "code",
   "execution_count": 605,
   "id": "imperial-gauge",
   "metadata": {},
   "outputs": [],
   "source": [
    "# From the previous example\n",
    "beta_0 = 10 # n, intercept\n",
    "beta_1 = 0.08 # slope\n",
    "num_grades = 100"
   ]
  },
  {
   "cell_type": "markdown",
   "id": "bde2fd91",
   "metadata": {
    "lang": "en"
   },
   "source": [
    "np.random normal documentation --> https://numpy.org/doc/stable/reference/random/generated/numpy.random.normal.html\n",
    "Parameters:\n",
    "- Mean\n",
    "- Standard deviation\n",
    "- Sample size"
   ]
  },
  {
   "cell_type": "markdown",
   "id": "979400d1",
   "metadata": {
    "lang": "en"
   },
   "source": [
    "[Documentation](https://numpy.org/doc/stable/reference/random/generated/numpy.random.normal.html) random normal"
   ]
  },
  {
   "cell_type": "code",
   "execution_count": 606,
   "id": "a628605c",
   "metadata": {
    "lang": "en"
   },
   "outputs": [],
   "source": [
    "# We generate the hours of study\n",
    "X = np.random.normal(600, 150, size=100)"
   ]
  },
  {
   "cell_type": "code",
   "execution_count": 607,
   "id": "5f62c4fa",
   "metadata": {},
   "outputs": [
    {
     "data": {
      "text/plain": [
       "array([637.62384752, 644.942865  , 825.70628949, 561.29975989,\n",
       "       720.49590739, 497.69113691, 701.06659379, 638.35026718,\n",
       "       741.28748015, 945.55870358, 828.84837451, 725.21495212,\n",
       "       491.33129886, 639.1695693 , 587.22632612, 482.53144231,\n",
       "       701.46035258, 630.25173456, 471.75226101, 703.84129546,\n",
       "       452.55930979, 436.71469259, 586.89854767, 239.9927877 ,\n",
       "       947.69036842, 614.91151205, 646.99095879, 747.8938542 ,\n",
       "       480.42419201, 665.3280894 , 336.39053737, 681.27557241,\n",
       "       384.11701823, 546.89186198, 662.55815854, 542.79968285,\n",
       "       689.4606265 , 435.49930861, 732.67351328, 483.0192492 ,\n",
       "       437.34613862, 517.9644701 , 706.23472614, 569.38364251,\n",
       "       703.69430441, 863.25912092, 586.45689522, 769.89081634,\n",
       "       485.5231375 , 940.81348604, 434.01267628, 545.03182721,\n",
       "       300.3942235 , 653.31731103, 545.14057535, 407.44986363,\n",
       "       946.29926084, 694.44423862, 741.54284003, 489.57331615,\n",
       "       667.58515012, 407.93520273, 438.14724809, 853.26171821,\n",
       "       697.67381782, 678.16480395, 553.52982324, 685.92399585,\n",
       "       429.20886349, 564.1271095 , 605.21917523, 473.19040425,\n",
       "       763.4039959 , 641.75702338, 639.46193425, 739.10198039,\n",
       "       583.36854113, 449.21959344, 659.67509527, 526.80788314,\n",
       "       703.05213452, 454.46001662, 611.14175476, 453.87991261,\n",
       "       519.96553955, 700.92870472, 754.41454443, 707.33461127,\n",
       "       561.70925349, 755.77942785, 650.3086762 , 751.97025826,\n",
       "       621.32117363, 648.44552655, 719.50176196, 842.25370611,\n",
       "       521.48522774, 755.25766182, 763.65342082, 683.79794772])"
      ]
     },
     "execution_count": 607,
     "metadata": {},
     "output_type": "execute_result"
    }
   ],
   "source": [
    "X"
   ]
  },
  {
   "cell_type": "markdown",
   "id": "bd7de7e9",
   "metadata": {
    "lang": "en"
   },
   "source": [
    "When generating the grades we enter that np.random.normal which is going to be a random number for each note that is going to make the note vary. It's a random error. We put it because we are inventing the data and if we do it simply through the formula of a straight line, obviously, we will have data that fit a regression PERFECTLY and that is not real."
   ]
  },
  {
   "cell_type": "code",
   "execution_count": 608,
   "id": "classified-visibility",
   "metadata": {},
   "outputs": [],
   "source": [
    "# Generating the grades\n",
    "y = beta_0 + (beta_1 * X) + np.random.normal(loc=0, scale=5, size=num_grades)"
   ]
  },
  {
   "cell_type": "code",
   "execution_count": 609,
   "id": "27ebdf55",
   "metadata": {},
   "outputs": [
    {
     "data": {
      "text/plain": [
       "array([53.21538935, 62.84983694, 81.94410098, 52.19671774, 73.35024118,\n",
       "       55.54720259, 65.69190644, 59.66347207, 62.57890064, 89.40448854,\n",
       "       74.76387058, 63.08636286, 55.2391261 , 61.61491873, 53.16685256,\n",
       "       48.26014943, 68.69690994, 58.31446167, 45.82044444, 58.42503999,\n",
       "       51.89108361, 46.46617627, 57.60134554, 22.60367749, 81.64095948,\n",
       "       61.67812894, 72.55462149, 78.51742971, 44.85108542, 57.52712643,\n",
       "       38.54566212, 64.97801321, 44.43022768, 54.64040176, 62.94367343,\n",
       "       57.7286044 , 62.51303952, 45.07611727, 70.23416282, 49.20014314,\n",
       "       42.88955123, 44.62658854, 69.65352669, 54.48741903, 63.23342252,\n",
       "       81.01777761, 60.68973719, 70.01621165, 42.38938984, 79.65512364,\n",
       "       46.0088789 , 51.599537  , 27.62722988, 57.23890594, 46.56869631,\n",
       "       46.30346736, 88.67058575, 65.36089552, 73.64117794, 51.79644885,\n",
       "       61.3291604 , 36.53663261, 42.67320869, 84.06056196, 69.53043925,\n",
       "       62.26100314, 63.91612491, 64.67913982, 44.6312689 , 62.51948278,\n",
       "       62.38383671, 50.7258723 , 68.94650851, 60.98635223, 56.81078132,\n",
       "       62.53524882, 56.44531313, 45.7098774 , 63.46442659, 48.86763854,\n",
       "       63.52222845, 39.17854057, 65.41545159, 42.44419368, 54.88788483,\n",
       "       68.22045983, 74.67523148, 66.11987682, 54.14603087, 67.26444004,\n",
       "       63.8573695 , 72.10321717, 66.12030666, 60.53660674, 74.67014693,\n",
       "       78.35283621, 54.2610784 , 74.14811657, 68.41031987, 59.84462529])"
      ]
     },
     "execution_count": 609,
     "metadata": {},
     "output_type": "execute_result"
    }
   ],
   "source": [
    "y"
   ]
  },
  {
   "cell_type": "code",
   "execution_count": 610,
   "id": "british-absolute",
   "metadata": {},
   "outputs": [],
   "source": [
    "# Generating the dataframe\n",
    "df = pd.DataFrame({\"hours\": X, \"grade\": y}).round().astype(int)"
   ]
  },
  {
   "cell_type": "code",
   "execution_count": 611,
   "id": "accomplished-industry",
   "metadata": {},
   "outputs": [
    {
     "data": {
      "text/html": [
       "<div>\n",
       "<style scoped>\n",
       "    .dataframe tbody tr th:only-of-type {\n",
       "        vertical-align: middle;\n",
       "    }\n",
       "\n",
       "    .dataframe tbody tr th {\n",
       "        vertical-align: top;\n",
       "    }\n",
       "\n",
       "    .dataframe thead th {\n",
       "        text-align: right;\n",
       "    }\n",
       "</style>\n",
       "<table border=\"1\" class=\"dataframe\">\n",
       "  <thead>\n",
       "    <tr style=\"text-align: right;\">\n",
       "      <th></th>\n",
       "      <th>hours</th>\n",
       "      <th>grade</th>\n",
       "    </tr>\n",
       "  </thead>\n",
       "  <tbody>\n",
       "    <tr>\n",
       "      <th>0</th>\n",
       "      <td>638</td>\n",
       "      <td>53</td>\n",
       "    </tr>\n",
       "    <tr>\n",
       "      <th>1</th>\n",
       "      <td>645</td>\n",
       "      <td>63</td>\n",
       "    </tr>\n",
       "    <tr>\n",
       "      <th>2</th>\n",
       "      <td>826</td>\n",
       "      <td>82</td>\n",
       "    </tr>\n",
       "    <tr>\n",
       "      <th>3</th>\n",
       "      <td>561</td>\n",
       "      <td>52</td>\n",
       "    </tr>\n",
       "    <tr>\n",
       "      <th>4</th>\n",
       "      <td>720</td>\n",
       "      <td>73</td>\n",
       "    </tr>\n",
       "  </tbody>\n",
       "</table>\n",
       "</div>"
      ],
      "text/plain": [
       "   hours  grade\n",
       "0    638     53\n",
       "1    645     63\n",
       "2    826     82\n",
       "3    561     52\n",
       "4    720     73"
      ]
     },
     "execution_count": 611,
     "metadata": {},
     "output_type": "execute_result"
    }
   ],
   "source": [
    "df.head()"
   ]
  },
  {
   "cell_type": "markdown",
   "id": "56e6b841",
   "metadata": {
    "lang": "en"
   },
   "source": [
    "## We draw the regression line"
   ]
  },
  {
   "cell_type": "code",
   "execution_count": 612,
   "id": "dramatic-simulation",
   "metadata": {},
   "outputs": [
    {
     "data": {
      "image/png": "[encoded data removed]",
      "text/plain": [
       "<Figure size 1080x576 with 1 Axes>"
      ]
     },
     "metadata": {},
     "output_type": "display_data"
    }
   ],
   "source": [
    "sns.regplot(x=\"hours\", y=\"grade\", data=df);"
   ]
  },
  {
   "cell_type": "code",
   "execution_count": 613,
   "id": "9c811cf2",
   "metadata": {
    "lang": "en"
   },
   "outputs": [],
   "source": [
    "### We draw an example of the data WITHOUT RANDOM ERROR"
   ]
  },
  {
   "cell_type": "code",
   "execution_count": 614,
   "id": "8a9e7c60",
   "metadata": {
    "lang": "es"
   },
   "outputs": [],
   "source": [
    "y_not_real = beta_0 + (beta_1 * X)  # the y is simply the equation of the line\n",
    "df_not_real = pd.DataFrame({\"hours\": X, \"grade\": y_not_real}).round().astype(int)"
   ]
  },
  {
   "cell_type": "code",
   "execution_count": 615,
   "id": "2553a556",
   "metadata": {},
   "outputs": [],
   "source": [
    "# Not a perfect match: I'm rounding numbers"
   ]
  },
  {
   "cell_type": "code",
   "execution_count": 616,
   "id": "e71956fc",
   "metadata": {
    "scrolled": true
   },
   "outputs": [
    {
     "data": {
      "image/png": "[encoded data removed]",
      "text/plain": [
       "<Figure size 1080x576 with 1 Axes>"
      ]
     },
     "metadata": {},
     "output_type": "display_data"
    }
   ],
   "source": [
    "sns.regplot(x=\"hours\", y=\"grade\", data=df_not_real);"
   ]
  },
  {
   "cell_type": "markdown",
   "id": "b0863a78",
   "metadata": {},
   "source": [
    "# RECAP\n",
    "\n",
    "- Some data: two quantitative variables: hours & marks/grades\n",
    "- We want to understnd the relationship between these two: \n",
    "    - correlation\n",
    "    - distribution each (histograms)\n",
    "    - distribution of both (scatterplot)\n",
    "- Linear regression: \n",
    "    - Edgard: Description of behavior of two variables through drawing one line\n",
    "    - Juliana: Estimation of proportion of variance between two variables. One line that estimates the propotion\n",
    "- Goals of linear regression, WHY:\n",
    "    - SEE relationship\n",
    "    - PREDICT: generate new values (target/outcome variable) DEPENDING on the value of predictor (X)\n",
    "    \n",
    "- Dependant & independant variable: \"the hours will predict the grade\"\n",
    "    - Hours: independant variable, predictor\n",
    "    - Grades: dependant variable, outcome, target\n",
    "    \n",
    "- WHAT we get:\n",
    "\n",
    "    - Equation: Y ≈ \n",
    "    - Predictions: the value of Y\n",
    "    - Errors: actual value - predicted value\n",
    "        - MAE: mean absolute error: \"get the distance from each point to the line and do the average for all of them\"\n",
    "        - If I can see the error, I can say what models are best for my data"
   ]
  },
  {
   "cell_type": "markdown",
   "id": "bdab58a6",
   "metadata": {
    "lang": "es"
   },
   "source": [
    "Of course, in real life we ​​don't know the true parameters of the model, nor if the model is real!!! Today we are going to learn a [valuable lesson](https://en.wikipedia.org/wiki/All_models_are_wrong):\n",
    "\n",
    "\n",
    "<center> <b>\"All the models are wrong, but some are useful\"</b> </center>\n",
    "\n",
    "\n",
    "In practice, what we do is, after seeing a scatter plot like the one above, we try to infer the model parameters $\\beta_0$ and the slope, $\\beta_1$. Once estimated, the estimated fit becomes $$ \\hat{Y} = \\hat{beta_0} + \\hat{beta_1} X$$"
   ]
  },
  {
   "cell_type": "code",
   "execution_count": 617,
   "id": "thermal-arrest",
   "metadata": {},
   "outputs": [],
   "source": [
    "lr = LinearRegression()"
   ]
  },
  {
   "cell_type": "markdown",
   "id": "e2ac7e82",
   "metadata": {
    "lang": "en"
   },
   "source": [
    "We are going to train a regression model that removes the coefficients with sklearn and we do it with the first model that we have generated that had NOISE/ERROR"
   ]
  },
  {
   "cell_type": "code",
   "execution_count": 630,
   "id": "1938500c",
   "metadata": {
    "lang": "en",
    "scrolled": false
   },
   "outputs": [
    {
     "data": {
      "text/html": [
       "<style>#sk-container-id-22 {color: black;background-color: white;}#sk-container-id-22 pre{padding: 0;}#sk-container-id-22 div.sk-toggleable {background-color: white;}#sk-container-id-22 label.sk-toggleable__label {cursor: pointer;display: block;width: 100%;margin-bottom: 0;padding: 0.3em;box-sizing: border-box;text-align: center;}#sk-container-id-22 label.sk-toggleable__label-arrow:before {content: \"▸\";float: left;margin-right: 0.25em;color: #696969;}#sk-container-id-22 label.sk-toggleable__label-arrow:hover:before {color: black;}#sk-container-id-22 div.sk-estimator:hover label.sk-toggleable__label-arrow:before {color: black;}#sk-container-id-22 div.sk-toggleable__content {max-height: 0;max-width: 0;overflow: hidden;text-align: left;background-color: #f0f8ff;}#sk-container-id-22 div.sk-toggleable__content pre {margin: 0.2em;color: black;border-radius: 0.25em;background-color: #f0f8ff;}#sk-container-id-22 input.sk-toggleable__control:checked~div.sk-toggleable__content {max-height: 200px;max-width: 100%;overflow: auto;}#sk-container-id-22 input.sk-toggleable__control:checked~label.sk-toggleable__label-arrow:before {content: \"▾\";}#sk-container-id-22 div.sk-estimator input.sk-toggleable__control:checked~label.sk-toggleable__label {background-color: #d4ebff;}#sk-container-id-22 div.sk-label input.sk-toggleable__control:checked~label.sk-toggleable__label {background-color: #d4ebff;}#sk-container-id-22 input.sk-hidden--visually {border: 0;clip: rect(1px 1px 1px 1px);clip: rect(1px, 1px, 1px, 1px);height: 1px;margin: -1px;overflow: hidden;padding: 0;position: absolute;width: 1px;}#sk-container-id-22 div.sk-estimator {font-family: monospace;background-color: #f0f8ff;border: 1px dotted black;border-radius: 0.25em;box-sizing: border-box;margin-bottom: 0.5em;}#sk-container-id-22 div.sk-estimator:hover {background-color: #d4ebff;}#sk-container-id-22 div.sk-parallel-item::after {content: \"\";width: 100%;border-bottom: 1px solid gray;flex-grow: 1;}#sk-container-id-22 div.sk-label:hover label.sk-toggleable__label {background-color: #d4ebff;}#sk-container-id-22 div.sk-serial::before {content: \"\";position: absolute;border-left: 1px solid gray;box-sizing: border-box;top: 0;bottom: 0;left: 50%;z-index: 0;}#sk-container-id-22 div.sk-serial {display: flex;flex-direction: column;align-items: center;background-color: white;padding-right: 0.2em;padding-left: 0.2em;position: relative;}#sk-container-id-22 div.sk-item {position: relative;z-index: 1;}#sk-container-id-22 div.sk-parallel {display: flex;align-items: stretch;justify-content: center;background-color: white;position: relative;}#sk-container-id-22 div.sk-item::before, #sk-container-id-22 div.sk-parallel-item::before {content: \"\";position: absolute;border-left: 1px solid gray;box-sizing: border-box;top: 0;bottom: 0;left: 50%;z-index: -1;}#sk-container-id-22 div.sk-parallel-item {display: flex;flex-direction: column;z-index: 1;position: relative;background-color: white;}#sk-container-id-22 div.sk-parallel-item:first-child::after {align-self: flex-end;width: 50%;}#sk-container-id-22 div.sk-parallel-item:last-child::after {align-self: flex-start;width: 50%;}#sk-container-id-22 div.sk-parallel-item:only-child::after {width: 0;}#sk-container-id-22 div.sk-dashed-wrapped {border: 1px dashed gray;margin: 0 0.4em 0.5em 0.4em;box-sizing: border-box;padding-bottom: 0.4em;background-color: white;}#sk-container-id-22 div.sk-label label {font-family: monospace;font-weight: bold;display: inline-block;line-height: 1.2em;}#sk-container-id-22 div.sk-label-container {text-align: center;}#sk-container-id-22 div.sk-container {/* jupyter's `normalize.less` sets `[hidden] { display: none; }` but bootstrap.min.css set `[hidden] { display: none !important; }` so we also need the `!important` here to be able to override the default hidden behavior on the sphinx rendered scikit-learn.org. See: https://github.com/scikit-learn/scikit-learn/issues/21755 */display: inline-block !important;position: relative;}#sk-container-id-22 div.sk-text-repr-fallback {display: none;}</style><div id=\"sk-container-id-22\" class=\"sk-top-container\"><div class=\"sk-text-repr-fallback\"><pre>LinearRegression()</pre><b>In a Jupyter environment, please rerun this cell to show the HTML representation or trust the notebook. <br />On GitHub, the HTML representation is unable to render, please try loading this page with nbviewer.org.</b></div><div class=\"sk-container\" hidden><div class=\"sk-item\"><div class=\"sk-estimator sk-toggleable\"><input class=\"sk-toggleable__control sk-hidden--visually\" id=\"sk-estimator-id-22\" type=\"checkbox\" checked><label for=\"sk-estimator-id-22\" class=\"sk-toggleable__label sk-toggleable__label-arrow\">LinearRegression</label><div class=\"sk-toggleable__content\"><pre>LinearRegression()</pre></div></div></div></div></div>"
      ],
      "text/plain": [
       "LinearRegression()"
      ]
     },
     "execution_count": 630,
     "metadata": {},
     "output_type": "execute_result"
    }
   ],
   "source": [
    "lr.fit(\n",
    "    X = df[[\"hours\"]], #is always a dataframe that's why I put double brackets\n",
    "    y = df[\"grade\"] #is a pandas series\n",
    ")"
   ]
  },
  {
   "cell_type": "code",
   "execution_count": 619,
   "id": "daa7301b",
   "metadata": {},
   "outputs": [
    {
     "data": {
      "text/plain": [
       "'__abstractmethods__'"
      ]
     },
     "execution_count": 619,
     "metadata": {},
     "output_type": "execute_result"
    }
   ],
   "source": [
    "[element for element in dir(lr)][0]"
   ]
  },
  {
   "cell_type": "code",
   "execution_count": 620,
   "id": "ceacefef",
   "metadata": {
    "scrolled": true
   },
   "outputs": [
    {
     "data": {
      "text/plain": [
       "8.46094868801881"
      ]
     },
     "execution_count": 620,
     "metadata": {},
     "output_type": "execute_result"
    }
   ],
   "source": [
    "lr.intercept_"
   ]
  },
  {
   "cell_type": "code",
   "execution_count": 621,
   "id": "f098c318",
   "metadata": {},
   "outputs": [
    {
     "data": {
      "text/plain": [
       "0.08266041139539347"
      ]
     },
     "execution_count": 621,
     "metadata": {},
     "output_type": "execute_result"
    }
   ],
   "source": [
    "lr.coef_[0]"
   ]
  },
  {
   "cell_type": "code",
   "execution_count": 624,
   "id": "f467d53e",
   "metadata": {
    "scrolled": true
   },
   "outputs": [
    {
     "name": "stdout",
     "output_type": "stream",
     "text": [
      "beta_0: 8.46094868801881, which is the intercept\n",
      "beta_1: 0.08266041139539347, which is the slope or coef_[0]\n"
     ]
    }
   ],
   "source": [
    "beta_1 = lr.coef_[0]\n",
    "beta_0 = lr.intercept_\n",
    "print(f\"beta_0: {beta_0}, which is the intercept\\nbeta_1: {beta_1}, which is the slope or coef_[0]\")"
   ]
  },
  {
   "cell_type": "markdown",
   "id": "d1ca23ca",
   "metadata": {
    "lang": "en"
   },
   "source": [
    "`coef_` It will be a list of coefficients of all the predictor variables, in this case we only have one, the hours we have studied"
   ]
  },
  {
   "cell_type": "code",
   "execution_count": 631,
   "id": "919c0e16",
   "metadata": {},
   "outputs": [
    {
     "data": {
      "text/html": [
       "<div>\n",
       "<style scoped>\n",
       "    .dataframe tbody tr th:only-of-type {\n",
       "        vertical-align: middle;\n",
       "    }\n",
       "\n",
       "    .dataframe tbody tr th {\n",
       "        vertical-align: top;\n",
       "    }\n",
       "\n",
       "    .dataframe thead th {\n",
       "        text-align: right;\n",
       "    }\n",
       "</style>\n",
       "<table border=\"1\" class=\"dataframe\">\n",
       "  <thead>\n",
       "    <tr style=\"text-align: right;\">\n",
       "      <th></th>\n",
       "      <th>hours</th>\n",
       "      <th>grade</th>\n",
       "    </tr>\n",
       "  </thead>\n",
       "  <tbody>\n",
       "    <tr>\n",
       "      <th>0</th>\n",
       "      <td>638</td>\n",
       "      <td>53</td>\n",
       "    </tr>\n",
       "    <tr>\n",
       "      <th>1</th>\n",
       "      <td>645</td>\n",
       "      <td>63</td>\n",
       "    </tr>\n",
       "    <tr>\n",
       "      <th>2</th>\n",
       "      <td>826</td>\n",
       "      <td>82</td>\n",
       "    </tr>\n",
       "    <tr>\n",
       "      <th>3</th>\n",
       "      <td>561</td>\n",
       "      <td>52</td>\n",
       "    </tr>\n",
       "    <tr>\n",
       "      <th>4</th>\n",
       "      <td>720</td>\n",
       "      <td>73</td>\n",
       "    </tr>\n",
       "  </tbody>\n",
       "</table>\n",
       "</div>"
      ],
      "text/plain": [
       "   hours  grade\n",
       "0    638     53\n",
       "1    645     63\n",
       "2    826     82\n",
       "3    561     52\n",
       "4    720     73"
      ]
     },
     "execution_count": 631,
     "metadata": {},
     "output_type": "execute_result"
    }
   ],
   "source": [
    "df.head()"
   ]
  },
  {
   "cell_type": "code",
   "execution_count": 632,
   "id": "f0bca89d",
   "metadata": {},
   "outputs": [],
   "source": [
    "df[\"predict\"] = (df.hours * lr.coef_[0]) + lr.intercept_"
   ]
  },
  {
   "cell_type": "code",
   "execution_count": 633,
   "id": "6da7fd1a",
   "metadata": {},
   "outputs": [
    {
     "data": {
      "text/html": [
       "<div>\n",
       "<style scoped>\n",
       "    .dataframe tbody tr th:only-of-type {\n",
       "        vertical-align: middle;\n",
       "    }\n",
       "\n",
       "    .dataframe tbody tr th {\n",
       "        vertical-align: top;\n",
       "    }\n",
       "\n",
       "    .dataframe thead th {\n",
       "        text-align: right;\n",
       "    }\n",
       "</style>\n",
       "<table border=\"1\" class=\"dataframe\">\n",
       "  <thead>\n",
       "    <tr style=\"text-align: right;\">\n",
       "      <th></th>\n",
       "      <th>hours</th>\n",
       "      <th>grade</th>\n",
       "      <th>predict</th>\n",
       "    </tr>\n",
       "  </thead>\n",
       "  <tbody>\n",
       "    <tr>\n",
       "      <th>0</th>\n",
       "      <td>638</td>\n",
       "      <td>53</td>\n",
       "      <td>61.198291</td>\n",
       "    </tr>\n",
       "    <tr>\n",
       "      <th>1</th>\n",
       "      <td>645</td>\n",
       "      <td>63</td>\n",
       "      <td>61.776914</td>\n",
       "    </tr>\n",
       "    <tr>\n",
       "      <th>2</th>\n",
       "      <td>826</td>\n",
       "      <td>82</td>\n",
       "      <td>76.738449</td>\n",
       "    </tr>\n",
       "    <tr>\n",
       "      <th>3</th>\n",
       "      <td>561</td>\n",
       "      <td>52</td>\n",
       "      <td>54.833439</td>\n",
       "    </tr>\n",
       "    <tr>\n",
       "      <th>4</th>\n",
       "      <td>720</td>\n",
       "      <td>73</td>\n",
       "      <td>67.976445</td>\n",
       "    </tr>\n",
       "  </tbody>\n",
       "</table>\n",
       "</div>"
      ],
      "text/plain": [
       "   hours  grade    predict\n",
       "0    638     53  61.198291\n",
       "1    645     63  61.776914\n",
       "2    826     82  76.738449\n",
       "3    561     52  54.833439\n",
       "4    720     73  67.976445"
      ]
     },
     "execution_count": 633,
     "metadata": {},
     "output_type": "execute_result"
    }
   ],
   "source": [
    "df.head()"
   ]
  },
  {
   "cell_type": "markdown",
   "id": "41da5e7d",
   "metadata": {
    "lang": "en"
   },
   "source": [
    "Reminder for the syntax life of an ML model\n",
    "\n",
    "```python\n",
    "SYNTAX = MODEL.FIT (X,y)\n",
    "```"
   ]
  },
  {
   "cell_type": "code",
   "execution_count": 634,
   "id": "sticky-african",
   "metadata": {},
   "outputs": [
    {
     "data": {
      "text/html": [
       "<div>\n",
       "<style scoped>\n",
       "    .dataframe tbody tr th:only-of-type {\n",
       "        vertical-align: middle;\n",
       "    }\n",
       "\n",
       "    .dataframe tbody tr th {\n",
       "        vertical-align: top;\n",
       "    }\n",
       "\n",
       "    .dataframe thead th {\n",
       "        text-align: right;\n",
       "    }\n",
       "</style>\n",
       "<table border=\"1\" class=\"dataframe\">\n",
       "  <thead>\n",
       "    <tr style=\"text-align: right;\">\n",
       "      <th></th>\n",
       "      <th>hours</th>\n",
       "      <th>grade</th>\n",
       "      <th>predict</th>\n",
       "    </tr>\n",
       "  </thead>\n",
       "  <tbody>\n",
       "    <tr>\n",
       "      <th>0</th>\n",
       "      <td>638</td>\n",
       "      <td>53</td>\n",
       "      <td>61.198291</td>\n",
       "    </tr>\n",
       "    <tr>\n",
       "      <th>1</th>\n",
       "      <td>645</td>\n",
       "      <td>63</td>\n",
       "      <td>61.776914</td>\n",
       "    </tr>\n",
       "    <tr>\n",
       "      <th>2</th>\n",
       "      <td>826</td>\n",
       "      <td>82</td>\n",
       "      <td>76.738449</td>\n",
       "    </tr>\n",
       "    <tr>\n",
       "      <th>3</th>\n",
       "      <td>561</td>\n",
       "      <td>52</td>\n",
       "      <td>54.833439</td>\n",
       "    </tr>\n",
       "    <tr>\n",
       "      <th>4</th>\n",
       "      <td>720</td>\n",
       "      <td>73</td>\n",
       "      <td>67.976445</td>\n",
       "    </tr>\n",
       "  </tbody>\n",
       "</table>\n",
       "</div>"
      ],
      "text/plain": [
       "   hours  grade    predict\n",
       "0    638     53  61.198291\n",
       "1    645     63  61.776914\n",
       "2    826     82  76.738449\n",
       "3    561     52  54.833439\n",
       "4    720     73  67.976445"
      ]
     },
     "execution_count": 634,
     "metadata": {},
     "output_type": "execute_result"
    }
   ],
   "source": [
    "df.head()"
   ]
  },
  {
   "cell_type": "code",
   "execution_count": 413,
   "id": "df06fca0",
   "metadata": {
    "lang": "en"
   },
   "outputs": [],
   "source": [
    "# Now we do it with the data THAT DOES NOT CARRY NOISE"
   ]
  },
  {
   "cell_type": "code",
   "execution_count": 636,
   "id": "a05079fc",
   "metadata": {},
   "outputs": [],
   "source": [
    "lr2 = LinearRegression()"
   ]
  },
  {
   "cell_type": "code",
   "execution_count": 637,
   "id": "coordinated-headquarters",
   "metadata": {},
   "outputs": [
    {
     "data": {
      "text/html": [
       "<style>#sk-container-id-24 {color: black;background-color: white;}#sk-container-id-24 pre{padding: 0;}#sk-container-id-24 div.sk-toggleable {background-color: white;}#sk-container-id-24 label.sk-toggleable__label {cursor: pointer;display: block;width: 100%;margin-bottom: 0;padding: 0.3em;box-sizing: border-box;text-align: center;}#sk-container-id-24 label.sk-toggleable__label-arrow:before {content: \"▸\";float: left;margin-right: 0.25em;color: #696969;}#sk-container-id-24 label.sk-toggleable__label-arrow:hover:before {color: black;}#sk-container-id-24 div.sk-estimator:hover label.sk-toggleable__label-arrow:before {color: black;}#sk-container-id-24 div.sk-toggleable__content {max-height: 0;max-width: 0;overflow: hidden;text-align: left;background-color: #f0f8ff;}#sk-container-id-24 div.sk-toggleable__content pre {margin: 0.2em;color: black;border-radius: 0.25em;background-color: #f0f8ff;}#sk-container-id-24 input.sk-toggleable__control:checked~div.sk-toggleable__content {max-height: 200px;max-width: 100%;overflow: auto;}#sk-container-id-24 input.sk-toggleable__control:checked~label.sk-toggleable__label-arrow:before {content: \"▾\";}#sk-container-id-24 div.sk-estimator input.sk-toggleable__control:checked~label.sk-toggleable__label {background-color: #d4ebff;}#sk-container-id-24 div.sk-label input.sk-toggleable__control:checked~label.sk-toggleable__label {background-color: #d4ebff;}#sk-container-id-24 input.sk-hidden--visually {border: 0;clip: rect(1px 1px 1px 1px);clip: rect(1px, 1px, 1px, 1px);height: 1px;margin: -1px;overflow: hidden;padding: 0;position: absolute;width: 1px;}#sk-container-id-24 div.sk-estimator {font-family: monospace;background-color: #f0f8ff;border: 1px dotted black;border-radius: 0.25em;box-sizing: border-box;margin-bottom: 0.5em;}#sk-container-id-24 div.sk-estimator:hover {background-color: #d4ebff;}#sk-container-id-24 div.sk-parallel-item::after {content: \"\";width: 100%;border-bottom: 1px solid gray;flex-grow: 1;}#sk-container-id-24 div.sk-label:hover label.sk-toggleable__label {background-color: #d4ebff;}#sk-container-id-24 div.sk-serial::before {content: \"\";position: absolute;border-left: 1px solid gray;box-sizing: border-box;top: 0;bottom: 0;left: 50%;z-index: 0;}#sk-container-id-24 div.sk-serial {display: flex;flex-direction: column;align-items: center;background-color: white;padding-right: 0.2em;padding-left: 0.2em;position: relative;}#sk-container-id-24 div.sk-item {position: relative;z-index: 1;}#sk-container-id-24 div.sk-parallel {display: flex;align-items: stretch;justify-content: center;background-color: white;position: relative;}#sk-container-id-24 div.sk-item::before, #sk-container-id-24 div.sk-parallel-item::before {content: \"\";position: absolute;border-left: 1px solid gray;box-sizing: border-box;top: 0;bottom: 0;left: 50%;z-index: -1;}#sk-container-id-24 div.sk-parallel-item {display: flex;flex-direction: column;z-index: 1;position: relative;background-color: white;}#sk-container-id-24 div.sk-parallel-item:first-child::after {align-self: flex-end;width: 50%;}#sk-container-id-24 div.sk-parallel-item:last-child::after {align-self: flex-start;width: 50%;}#sk-container-id-24 div.sk-parallel-item:only-child::after {width: 0;}#sk-container-id-24 div.sk-dashed-wrapped {border: 1px dashed gray;margin: 0 0.4em 0.5em 0.4em;box-sizing: border-box;padding-bottom: 0.4em;background-color: white;}#sk-container-id-24 div.sk-label label {font-family: monospace;font-weight: bold;display: inline-block;line-height: 1.2em;}#sk-container-id-24 div.sk-label-container {text-align: center;}#sk-container-id-24 div.sk-container {/* jupyter's `normalize.less` sets `[hidden] { display: none; }` but bootstrap.min.css set `[hidden] { display: none !important; }` so we also need the `!important` here to be able to override the default hidden behavior on the sphinx rendered scikit-learn.org. See: https://github.com/scikit-learn/scikit-learn/issues/21755 */display: inline-block !important;position: relative;}#sk-container-id-24 div.sk-text-repr-fallback {display: none;}</style><div id=\"sk-container-id-24\" class=\"sk-top-container\"><div class=\"sk-text-repr-fallback\"><pre>LinearRegression()</pre><b>In a Jupyter environment, please rerun this cell to show the HTML representation or trust the notebook. <br />On GitHub, the HTML representation is unable to render, please try loading this page with nbviewer.org.</b></div><div class=\"sk-container\" hidden><div class=\"sk-item\"><div class=\"sk-estimator sk-toggleable\"><input class=\"sk-toggleable__control sk-hidden--visually\" id=\"sk-estimator-id-24\" type=\"checkbox\" checked><label for=\"sk-estimator-id-24\" class=\"sk-toggleable__label sk-toggleable__label-arrow\">LinearRegression</label><div class=\"sk-toggleable__content\"><pre>LinearRegression()</pre></div></div></div></div></div>"
      ],
      "text/plain": [
       "LinearRegression()"
      ]
     },
     "execution_count": 637,
     "metadata": {},
     "output_type": "execute_result"
    }
   ],
   "source": [
    "lr2.fit(\n",
    "    X = df_not_real[[\"hours\"]],\n",
    "    y = df_not_real.grade\n",
    ")"
   ]
  },
  {
   "cell_type": "code",
   "execution_count": 638,
   "id": "ideal-confirmation",
   "metadata": {},
   "outputs": [],
   "source": [
    "beta_1_not_real = lr2.coef_[0]\n",
    "beta_0_not_real = lr2.intercept_"
   ]
  },
  {
   "cell_type": "code",
   "execution_count": 639,
   "id": "color-withdrawal",
   "metadata": {},
   "outputs": [
    {
     "name": "stdout",
     "output_type": "stream",
     "text": [
      "beta_1_not_real:  0.07978391471075863\n",
      "beta_0_not_real:  10.136102530503194\n"
     ]
    }
   ],
   "source": [
    "print(\"beta_1_not_real: \", beta_1_not_real)\n",
    "print(\"beta_0_not_real: \", beta_0_not_real)"
   ]
  },
  {
   "cell_type": "code",
   "execution_count": 640,
   "id": "c9c1ec31",
   "metadata": {
    "scrolled": true
   },
   "outputs": [
    {
     "data": {
      "text/plain": [
       "False"
      ]
     },
     "execution_count": 640,
     "metadata": {},
     "output_type": "execute_result"
    }
   ],
   "source": [
    "beta_1 == beta_1_not_real"
   ]
  },
  {
   "cell_type": "code",
   "execution_count": 641,
   "id": "11fb4fed",
   "metadata": {},
   "outputs": [
    {
     "data": {
      "text/html": [
       "<div>\n",
       "<style scoped>\n",
       "    .dataframe tbody tr th:only-of-type {\n",
       "        vertical-align: middle;\n",
       "    }\n",
       "\n",
       "    .dataframe tbody tr th {\n",
       "        vertical-align: top;\n",
       "    }\n",
       "\n",
       "    .dataframe thead th {\n",
       "        text-align: right;\n",
       "    }\n",
       "</style>\n",
       "<table border=\"1\" class=\"dataframe\">\n",
       "  <thead>\n",
       "    <tr style=\"text-align: right;\">\n",
       "      <th></th>\n",
       "      <th>hours</th>\n",
       "      <th>grade</th>\n",
       "    </tr>\n",
       "  </thead>\n",
       "  <tbody>\n",
       "    <tr>\n",
       "      <th>0</th>\n",
       "      <td>638</td>\n",
       "      <td>61</td>\n",
       "    </tr>\n",
       "    <tr>\n",
       "      <th>1</th>\n",
       "      <td>645</td>\n",
       "      <td>62</td>\n",
       "    </tr>\n",
       "    <tr>\n",
       "      <th>2</th>\n",
       "      <td>826</td>\n",
       "      <td>76</td>\n",
       "    </tr>\n",
       "    <tr>\n",
       "      <th>3</th>\n",
       "      <td>561</td>\n",
       "      <td>55</td>\n",
       "    </tr>\n",
       "    <tr>\n",
       "      <th>4</th>\n",
       "      <td>720</td>\n",
       "      <td>68</td>\n",
       "    </tr>\n",
       "  </tbody>\n",
       "</table>\n",
       "</div>"
      ],
      "text/plain": [
       "   hours  grade\n",
       "0    638     61\n",
       "1    645     62\n",
       "2    826     76\n",
       "3    561     55\n",
       "4    720     68"
      ]
     },
     "execution_count": 641,
     "metadata": {},
     "output_type": "execute_result"
    }
   ],
   "source": [
    "df_not_real.head()"
   ]
  },
  {
   "cell_type": "markdown",
   "id": "e3169269",
   "metadata": {},
   "source": [
    "- Two variables: quantitative\n",
    "- Create a model to predict:\n",
    "    - `model.fit(X, y)`\n",
    "    - `model.predict()` "
   ]
  },
  {
   "cell_type": "markdown",
   "id": "e26bfe20",
   "metadata": {
    "lang": "en"
   },
   "source": [
    "## How good is our model?"
   ]
  },
  {
   "cell_type": "markdown",
   "id": "4854b3bf",
   "metadata": {
    "lang": "en"
   },
   "source": [
    "The numerical difference between the *least squares regression line* and the actual value is called the *residual* , and it represents the error in the estimate: $e = y_i - \\hat{y}$.\n",
    "The regression line minimized the **Residual Sum of Squares** (RSS)\n",
    "\n",
    "The residual sum of squares measures the amount of error remaining between the regression function and the data set. a smaller residual sum of squares represents a regression function. The residual sum of squares, also known as the sum of squared residuals, essentially determines how well a regression model explains or represents the data in the model.\n",
    "\n",
    "$$RSS = e_1^2 + e_2^2 + \\dots + e_n ^2$$"
   ]
  },
  {
   "cell_type": "markdown",
   "id": "a34f686d",
   "metadata": {
    "lang": "en"
   },
   "source": [
    "If we only used the mean as the predicted value for each prediction, the error we would make is (**total sum of squares**)\n",
    "\n",
    "$$TSS=\\Sigma(y_i - \\bar{y}_i)^2$$\n",
    "Let's consider this our starting point, make a prediction and plot it"
   ]
  },
  {
   "cell_type": "code",
   "execution_count": 420,
   "id": "89b4f868",
   "metadata": {
    "lang": "en"
   },
   "outputs": [],
   "source": [
    "# Let's put it in a dataframe to see it more clearly"
   ]
  },
  {
   "cell_type": "code",
   "execution_count": 421,
   "id": "romantic-objective",
   "metadata": {
    "scrolled": true
   },
   "outputs": [
    {
     "data": {
      "text/html": [
       "<div>\n",
       "<style scoped>\n",
       "    .dataframe tbody tr th:only-of-type {\n",
       "        vertical-align: middle;\n",
       "    }\n",
       "\n",
       "    .dataframe tbody tr th {\n",
       "        vertical-align: top;\n",
       "    }\n",
       "\n",
       "    .dataframe thead th {\n",
       "        text-align: right;\n",
       "    }\n",
       "</style>\n",
       "<table border=\"1\" class=\"dataframe\">\n",
       "  <thead>\n",
       "    <tr style=\"text-align: right;\">\n",
       "      <th></th>\n",
       "      <th>hours</th>\n",
       "      <th>grade</th>\n",
       "      <th>predict</th>\n",
       "      <th>avg</th>\n",
       "    </tr>\n",
       "  </thead>\n",
       "  <tbody>\n",
       "    <tr>\n",
       "      <th>0</th>\n",
       "      <td>568</td>\n",
       "      <td>50</td>\n",
       "      <td>54.996149</td>\n",
       "      <td>56.39</td>\n",
       "    </tr>\n",
       "    <tr>\n",
       "      <th>1</th>\n",
       "      <td>739</td>\n",
       "      <td>67</td>\n",
       "      <td>68.577261</td>\n",
       "      <td>56.39</td>\n",
       "    </tr>\n",
       "    <tr>\n",
       "      <th>2</th>\n",
       "      <td>499</td>\n",
       "      <td>41</td>\n",
       "      <td>49.516051</td>\n",
       "      <td>56.39</td>\n",
       "    </tr>\n",
       "    <tr>\n",
       "      <th>3</th>\n",
       "      <td>577</td>\n",
       "      <td>49</td>\n",
       "      <td>55.710944</td>\n",
       "      <td>56.39</td>\n",
       "    </tr>\n",
       "    <tr>\n",
       "      <th>4</th>\n",
       "      <td>378</td>\n",
       "      <td>36</td>\n",
       "      <td>39.906025</td>\n",
       "      <td>56.39</td>\n",
       "    </tr>\n",
       "  </tbody>\n",
       "</table>\n",
       "</div>"
      ],
      "text/plain": [
       "   hours  grade    predict    avg\n",
       "0    568     50  54.996149  56.39\n",
       "1    739     67  68.577261  56.39\n",
       "2    499     41  49.516051  56.39\n",
       "3    577     49  55.710944  56.39\n",
       "4    378     36  39.906025  56.39"
      ]
     },
     "execution_count": 421,
     "metadata": {},
     "output_type": "execute_result"
    }
   ],
   "source": [
    "df[\"avg\"] = df.grade.mean()\n",
    "df.head()"
   ]
  },
  {
   "cell_type": "code",
   "execution_count": 422,
   "id": "fewer-massage",
   "metadata": {},
   "outputs": [
    {
     "data": {
      "text/plain": [
       "<matplotlib.collections.LineCollection at 0x7ffbcf4019a0>"
      ]
     },
     "execution_count": 422,
     "metadata": {},
     "output_type": "execute_result"
    },
    {
     "data": {
      "image/png": "[encoded data removed]",
      "text/plain": [
       "<Figure size 1080x576 with 1 Axes>"
      ]
     },
     "metadata": {},
     "output_type": "display_data"
    }
   ],
   "source": [
    "#grades = [df.grade.mean()] * num_grades\n",
    "plt.scatter(X,y)\n",
    "plt.plot(X, df.avg, lw=3)\n",
    "plt.vlines(X, df.avg, y, lw=0.4)"
   ]
  },
  {
   "cell_type": "code",
   "execution_count": 423,
   "id": "04698e86",
   "metadata": {
    "lang": "en"
   },
   "outputs": [
    {
     "data": {
      "text/plain": [
       "17099.789999999997"
      ]
     },
     "execution_count": 423,
     "metadata": {},
     "output_type": "execute_result"
    }
   ],
   "source": [
    "# Calculate TSS for the above model\n",
    "TSS = ((df.grade - df.avg) ** 2).sum()\n",
    "TSS"
   ]
  },
  {
   "cell_type": "markdown",
   "id": "c20aee76",
   "metadata": {
    "lang": "en"
   },
   "source": [
    "Recall that linear regression coefficients minimize the $RSS=Sigma(y_i - \\hat{y_i})^2$, that is, the amount of variability that remains unexplained after running the regression. The [coefficient of determination](https://en.wikipedia.org/wiki/Coefficient_of_determination):\n",
    "\n",
    "$$R^2 = \\frac{TSS -RSS}{TSS} = 1-\\frac{RSS}{TSS}$$\n",
    "\n",
    "measures the \"*proportion of variability in Y that can be explained by X*\". It is a measure of the linear relationship that exists between $X$ and $y$.\n",
    "\n",
    "**Note:** in the case of simple linear regression, the $R^2$ coefficient is nothing more than the square of the *Pearson* correlation coefficient that we already know."
   ]
  },
  {
   "cell_type": "code",
   "execution_count": 424,
   "id": "abe24e6d",
   "metadata": {},
   "outputs": [
    {
     "data": {
      "text/html": [
       "<div>\n",
       "<style scoped>\n",
       "    .dataframe tbody tr th:only-of-type {\n",
       "        vertical-align: middle;\n",
       "    }\n",
       "\n",
       "    .dataframe tbody tr th {\n",
       "        vertical-align: top;\n",
       "    }\n",
       "\n",
       "    .dataframe thead th {\n",
       "        text-align: right;\n",
       "    }\n",
       "</style>\n",
       "<table border=\"1\" class=\"dataframe\">\n",
       "  <thead>\n",
       "    <tr style=\"text-align: right;\">\n",
       "      <th></th>\n",
       "      <th>hours</th>\n",
       "      <th>grade</th>\n",
       "      <th>predict</th>\n",
       "      <th>avg</th>\n",
       "    </tr>\n",
       "  </thead>\n",
       "  <tbody>\n",
       "    <tr>\n",
       "      <th>0</th>\n",
       "      <td>568</td>\n",
       "      <td>50</td>\n",
       "      <td>54.996149</td>\n",
       "      <td>56.39</td>\n",
       "    </tr>\n",
       "    <tr>\n",
       "      <th>1</th>\n",
       "      <td>739</td>\n",
       "      <td>67</td>\n",
       "      <td>68.577261</td>\n",
       "      <td>56.39</td>\n",
       "    </tr>\n",
       "    <tr>\n",
       "      <th>2</th>\n",
       "      <td>499</td>\n",
       "      <td>41</td>\n",
       "      <td>49.516051</td>\n",
       "      <td>56.39</td>\n",
       "    </tr>\n",
       "    <tr>\n",
       "      <th>3</th>\n",
       "      <td>577</td>\n",
       "      <td>49</td>\n",
       "      <td>55.710944</td>\n",
       "      <td>56.39</td>\n",
       "    </tr>\n",
       "    <tr>\n",
       "      <th>4</th>\n",
       "      <td>378</td>\n",
       "      <td>36</td>\n",
       "      <td>39.906025</td>\n",
       "      <td>56.39</td>\n",
       "    </tr>\n",
       "  </tbody>\n",
       "</table>\n",
       "</div>"
      ],
      "text/plain": [
       "   hours  grade    predict    avg\n",
       "0    568     50  54.996149  56.39\n",
       "1    739     67  68.577261  56.39\n",
       "2    499     41  49.516051  56.39\n",
       "3    577     49  55.710944  56.39\n",
       "4    378     36  39.906025  56.39"
      ]
     },
     "execution_count": 424,
     "metadata": {},
     "output_type": "execute_result"
    }
   ],
   "source": [
    "df.head()"
   ]
  },
  {
   "cell_type": "code",
   "execution_count": 425,
   "id": "50b6600b",
   "metadata": {},
   "outputs": [
    {
     "data": {
      "text/html": [
       "<div>\n",
       "<style scoped>\n",
       "    .dataframe tbody tr th:only-of-type {\n",
       "        vertical-align: middle;\n",
       "    }\n",
       "\n",
       "    .dataframe tbody tr th {\n",
       "        vertical-align: top;\n",
       "    }\n",
       "\n",
       "    .dataframe thead th {\n",
       "        text-align: right;\n",
       "    }\n",
       "</style>\n",
       "<table border=\"1\" class=\"dataframe\">\n",
       "  <thead>\n",
       "    <tr style=\"text-align: right;\">\n",
       "      <th></th>\n",
       "      <th>hours</th>\n",
       "      <th>grade</th>\n",
       "      <th>predict</th>\n",
       "      <th>avg</th>\n",
       "    </tr>\n",
       "  </thead>\n",
       "  <tbody>\n",
       "    <tr>\n",
       "      <th>0</th>\n",
       "      <td>568</td>\n",
       "      <td>50</td>\n",
       "      <td>54.996149</td>\n",
       "      <td>56.39</td>\n",
       "    </tr>\n",
       "    <tr>\n",
       "      <th>1</th>\n",
       "      <td>739</td>\n",
       "      <td>67</td>\n",
       "      <td>68.577261</td>\n",
       "      <td>56.39</td>\n",
       "    </tr>\n",
       "    <tr>\n",
       "      <th>2</th>\n",
       "      <td>499</td>\n",
       "      <td>41</td>\n",
       "      <td>49.516051</td>\n",
       "      <td>56.39</td>\n",
       "    </tr>\n",
       "    <tr>\n",
       "      <th>3</th>\n",
       "      <td>577</td>\n",
       "      <td>49</td>\n",
       "      <td>55.710944</td>\n",
       "      <td>56.39</td>\n",
       "    </tr>\n",
       "    <tr>\n",
       "      <th>4</th>\n",
       "      <td>378</td>\n",
       "      <td>36</td>\n",
       "      <td>39.906025</td>\n",
       "      <td>56.39</td>\n",
       "    </tr>\n",
       "  </tbody>\n",
       "</table>\n",
       "</div>"
      ],
      "text/plain": [
       "   hours  grade    predict    avg\n",
       "0    568     50  54.996149  56.39\n",
       "1    739     67  68.577261  56.39\n",
       "2    499     41  49.516051  56.39\n",
       "3    577     49  55.710944  56.39\n",
       "4    378     36  39.906025  56.39"
      ]
     },
     "execution_count": 425,
     "metadata": {},
     "output_type": "execute_result"
    }
   ],
   "source": [
    "df.head()"
   ]
  },
  {
   "cell_type": "markdown",
   "id": "4816a59c",
   "metadata": {
    "lang": "en"
   },
   "source": [
    "## Calculate the R2 of the model"
   ]
  },
  {
   "cell_type": "code",
   "execution_count": 426,
   "id": "alone-premiere",
   "metadata": {},
   "outputs": [
    {
     "data": {
      "text/plain": [
       "3048.299423053982"
      ]
     },
     "execution_count": 426,
     "metadata": {},
     "output_type": "execute_result"
    }
   ],
   "source": [
    "RSS = ((df.grade - df[\"predict\"]) ** 2).sum()\n",
    "RSS"
   ]
  },
  {
   "cell_type": "code",
   "execution_count": 427,
   "id": "dietary-boxing",
   "metadata": {
    "lang": "es"
   },
   "outputs": [
    {
     "data": {
      "text/plain": [
       "17099.789999999997"
      ]
     },
     "execution_count": 427,
     "metadata": {},
     "output_type": "execute_result"
    }
   ],
   "source": [
    "# Calculate TSS for the above model\n",
    "TSS = ((df.grade - df.avg) ** 2).sum()\n",
    "TSS"
   ]
  },
  {
   "cell_type": "code",
   "execution_count": 428,
   "id": "adjustable-rogers",
   "metadata": {},
   "outputs": [],
   "source": [
    "r2 = 1-(RSS/TSS)"
   ]
  },
  {
   "cell_type": "code",
   "execution_count": 429,
   "id": "medieval-lancaster",
   "metadata": {},
   "outputs": [
    {
     "data": {
      "text/plain": [
       "0.8217346866216496"
      ]
     },
     "execution_count": 429,
     "metadata": {},
     "output_type": "execute_result"
    }
   ],
   "source": [
    "r2"
   ]
  },
  {
   "cell_type": "code",
   "execution_count": 430,
   "id": "surface-constant",
   "metadata": {},
   "outputs": [
    {
     "data": {
      "image/png": "[encoded data removed]",
      "text/plain": [
       "<Figure size 1080x576 with 1 Axes>"
      ]
     },
     "metadata": {},
     "output_type": "display_data"
    }
   ],
   "source": [
    "line = beta_0 + beta_1 * X\n",
    "plt.scatter(X,y)\n",
    "plt.plot(X,line, lw=2)\n",
    "plt.vlines(X,line,y, lw=0.4)\n",
    "plt.xlabel(\"Hours\")\n",
    "plt.ylabel(\"Grades\");"
   ]
  },
  {
   "cell_type": "markdown",
   "id": "107c1a48",
   "metadata": {
    "lang": "en"
   },
   "source": [
    "$R^2$ measures how good our regression model is. The bigger the better. It is a value between 0 and 1\n",
    "\n",
    "**NOTE**: it is computable for any model, it does not matter if it is linear or not. Only the actual and predicted values ​​are needed."
   ]
  },
  {
   "cell_type": "markdown",
   "id": "73807966",
   "metadata": {
    "lang": "en"
   },
   "source": [
    "## Linear regression with sklearn"
   ]
  },
  {
   "cell_type": "code",
   "execution_count": 431,
   "id": "urban-egyptian",
   "metadata": {},
   "outputs": [
    {
     "data": {
      "text/html": [
       "<div>\n",
       "<style scoped>\n",
       "    .dataframe tbody tr th:only-of-type {\n",
       "        vertical-align: middle;\n",
       "    }\n",
       "\n",
       "    .dataframe tbody tr th {\n",
       "        vertical-align: top;\n",
       "    }\n",
       "\n",
       "    .dataframe thead th {\n",
       "        text-align: right;\n",
       "    }\n",
       "</style>\n",
       "<table border=\"1\" class=\"dataframe\">\n",
       "  <thead>\n",
       "    <tr style=\"text-align: right;\">\n",
       "      <th></th>\n",
       "      <th>hours</th>\n",
       "      <th>grade</th>\n",
       "      <th>predict</th>\n",
       "      <th>avg</th>\n",
       "    </tr>\n",
       "  </thead>\n",
       "  <tbody>\n",
       "    <tr>\n",
       "      <th>0</th>\n",
       "      <td>568</td>\n",
       "      <td>50</td>\n",
       "      <td>54.996149</td>\n",
       "      <td>56.39</td>\n",
       "    </tr>\n",
       "    <tr>\n",
       "      <th>1</th>\n",
       "      <td>739</td>\n",
       "      <td>67</td>\n",
       "      <td>68.577261</td>\n",
       "      <td>56.39</td>\n",
       "    </tr>\n",
       "    <tr>\n",
       "      <th>2</th>\n",
       "      <td>499</td>\n",
       "      <td>41</td>\n",
       "      <td>49.516051</td>\n",
       "      <td>56.39</td>\n",
       "    </tr>\n",
       "    <tr>\n",
       "      <th>3</th>\n",
       "      <td>577</td>\n",
       "      <td>49</td>\n",
       "      <td>55.710944</td>\n",
       "      <td>56.39</td>\n",
       "    </tr>\n",
       "    <tr>\n",
       "      <th>4</th>\n",
       "      <td>378</td>\n",
       "      <td>36</td>\n",
       "      <td>39.906025</td>\n",
       "      <td>56.39</td>\n",
       "    </tr>\n",
       "  </tbody>\n",
       "</table>\n",
       "</div>"
      ],
      "text/plain": [
       "   hours  grade    predict    avg\n",
       "0    568     50  54.996149  56.39\n",
       "1    739     67  68.577261  56.39\n",
       "2    499     41  49.516051  56.39\n",
       "3    577     49  55.710944  56.39\n",
       "4    378     36  39.906025  56.39"
      ]
     },
     "execution_count": 431,
     "metadata": {},
     "output_type": "execute_result"
    }
   ],
   "source": [
    "df.head()"
   ]
  },
  {
   "cell_type": "code",
   "execution_count": 432,
   "id": "super-stuff",
   "metadata": {
    "lang": "es"
   },
   "outputs": [],
   "source": [
    "# Save the variables x,y\n",
    "X = df[[\"hours\"]]\n",
    "y = df.grade"
   ]
  },
  {
   "cell_type": "code",
   "execution_count": 433,
   "id": "5505c958",
   "metadata": {
    "lang": "en"
   },
   "outputs": [
    {
     "data": {
      "text/html": [
       "<style>#sk-container-id-17 {color: black;background-color: white;}#sk-container-id-17 pre{padding: 0;}#sk-container-id-17 div.sk-toggleable {background-color: white;}#sk-container-id-17 label.sk-toggleable__label {cursor: pointer;display: block;width: 100%;margin-bottom: 0;padding: 0.3em;box-sizing: border-box;text-align: center;}#sk-container-id-17 label.sk-toggleable__label-arrow:before {content: \"▸\";float: left;margin-right: 0.25em;color: #696969;}#sk-container-id-17 label.sk-toggleable__label-arrow:hover:before {color: black;}#sk-container-id-17 div.sk-estimator:hover label.sk-toggleable__label-arrow:before {color: black;}#sk-container-id-17 div.sk-toggleable__content {max-height: 0;max-width: 0;overflow: hidden;text-align: left;background-color: #f0f8ff;}#sk-container-id-17 div.sk-toggleable__content pre {margin: 0.2em;color: black;border-radius: 0.25em;background-color: #f0f8ff;}#sk-container-id-17 input.sk-toggleable__control:checked~div.sk-toggleable__content {max-height: 200px;max-width: 100%;overflow: auto;}#sk-container-id-17 input.sk-toggleable__control:checked~label.sk-toggleable__label-arrow:before {content: \"▾\";}#sk-container-id-17 div.sk-estimator input.sk-toggleable__control:checked~label.sk-toggleable__label {background-color: #d4ebff;}#sk-container-id-17 div.sk-label input.sk-toggleable__control:checked~label.sk-toggleable__label {background-color: #d4ebff;}#sk-container-id-17 input.sk-hidden--visually {border: 0;clip: rect(1px 1px 1px 1px);clip: rect(1px, 1px, 1px, 1px);height: 1px;margin: -1px;overflow: hidden;padding: 0;position: absolute;width: 1px;}#sk-container-id-17 div.sk-estimator {font-family: monospace;background-color: #f0f8ff;border: 1px dotted black;border-radius: 0.25em;box-sizing: border-box;margin-bottom: 0.5em;}#sk-container-id-17 div.sk-estimator:hover {background-color: #d4ebff;}#sk-container-id-17 div.sk-parallel-item::after {content: \"\";width: 100%;border-bottom: 1px solid gray;flex-grow: 1;}#sk-container-id-17 div.sk-label:hover label.sk-toggleable__label {background-color: #d4ebff;}#sk-container-id-17 div.sk-serial::before {content: \"\";position: absolute;border-left: 1px solid gray;box-sizing: border-box;top: 0;bottom: 0;left: 50%;z-index: 0;}#sk-container-id-17 div.sk-serial {display: flex;flex-direction: column;align-items: center;background-color: white;padding-right: 0.2em;padding-left: 0.2em;position: relative;}#sk-container-id-17 div.sk-item {position: relative;z-index: 1;}#sk-container-id-17 div.sk-parallel {display: flex;align-items: stretch;justify-content: center;background-color: white;position: relative;}#sk-container-id-17 div.sk-item::before, #sk-container-id-17 div.sk-parallel-item::before {content: \"\";position: absolute;border-left: 1px solid gray;box-sizing: border-box;top: 0;bottom: 0;left: 50%;z-index: -1;}#sk-container-id-17 div.sk-parallel-item {display: flex;flex-direction: column;z-index: 1;position: relative;background-color: white;}#sk-container-id-17 div.sk-parallel-item:first-child::after {align-self: flex-end;width: 50%;}#sk-container-id-17 div.sk-parallel-item:last-child::after {align-self: flex-start;width: 50%;}#sk-container-id-17 div.sk-parallel-item:only-child::after {width: 0;}#sk-container-id-17 div.sk-dashed-wrapped {border: 1px dashed gray;margin: 0 0.4em 0.5em 0.4em;box-sizing: border-box;padding-bottom: 0.4em;background-color: white;}#sk-container-id-17 div.sk-label label {font-family: monospace;font-weight: bold;display: inline-block;line-height: 1.2em;}#sk-container-id-17 div.sk-label-container {text-align: center;}#sk-container-id-17 div.sk-container {/* jupyter's `normalize.less` sets `[hidden] { display: none; }` but bootstrap.min.css set `[hidden] { display: none !important; }` so we also need the `!important` here to be able to override the default hidden behavior on the sphinx rendered scikit-learn.org. See: https://github.com/scikit-learn/scikit-learn/issues/21755 */display: inline-block !important;position: relative;}#sk-container-id-17 div.sk-text-repr-fallback {display: none;}</style><div id=\"sk-container-id-17\" class=\"sk-top-container\"><div class=\"sk-text-repr-fallback\"><pre>LinearRegression()</pre><b>In a Jupyter environment, please rerun this cell to show the HTML representation or trust the notebook. <br />On GitHub, the HTML representation is unable to render, please try loading this page with nbviewer.org.</b></div><div class=\"sk-container\" hidden><div class=\"sk-item\"><div class=\"sk-estimator sk-toggleable\"><input class=\"sk-toggleable__control sk-hidden--visually\" id=\"sk-estimator-id-17\" type=\"checkbox\" checked><label for=\"sk-estimator-id-17\" class=\"sk-toggleable__label sk-toggleable__label-arrow\">LinearRegression</label><div class=\"sk-toggleable__content\"><pre>LinearRegression()</pre></div></div></div></div></div>"
      ],
      "text/plain": [
       "LinearRegression()"
      ]
     },
     "execution_count": 433,
     "metadata": {},
     "output_type": "execute_result"
    }
   ],
   "source": [
    "# train the algorithm\n",
    "lr.fit(X,y)"
   ]
  },
  {
   "cell_type": "code",
   "execution_count": 434,
   "id": "unique-flight",
   "metadata": {},
   "outputs": [],
   "source": [
    "df[\"predict_algorithm\"] = lr.predict(X)"
   ]
  },
  {
   "cell_type": "code",
   "execution_count": 435,
   "id": "broke-updating",
   "metadata": {},
   "outputs": [
    {
     "data": {
      "text/html": [
       "<div>\n",
       "<style scoped>\n",
       "    .dataframe tbody tr th:only-of-type {\n",
       "        vertical-align: middle;\n",
       "    }\n",
       "\n",
       "    .dataframe tbody tr th {\n",
       "        vertical-align: top;\n",
       "    }\n",
       "\n",
       "    .dataframe thead th {\n",
       "        text-align: right;\n",
       "    }\n",
       "</style>\n",
       "<table border=\"1\" class=\"dataframe\">\n",
       "  <thead>\n",
       "    <tr style=\"text-align: right;\">\n",
       "      <th></th>\n",
       "      <th>hours</th>\n",
       "      <th>grade</th>\n",
       "      <th>predict</th>\n",
       "      <th>avg</th>\n",
       "      <th>predict_algorithm</th>\n",
       "    </tr>\n",
       "  </thead>\n",
       "  <tbody>\n",
       "    <tr>\n",
       "      <th>0</th>\n",
       "      <td>568</td>\n",
       "      <td>50</td>\n",
       "      <td>54.996149</td>\n",
       "      <td>56.39</td>\n",
       "      <td>54.996149</td>\n",
       "    </tr>\n",
       "    <tr>\n",
       "      <th>1</th>\n",
       "      <td>739</td>\n",
       "      <td>67</td>\n",
       "      <td>68.577261</td>\n",
       "      <td>56.39</td>\n",
       "      <td>68.577261</td>\n",
       "    </tr>\n",
       "    <tr>\n",
       "      <th>2</th>\n",
       "      <td>499</td>\n",
       "      <td>41</td>\n",
       "      <td>49.516051</td>\n",
       "      <td>56.39</td>\n",
       "      <td>49.516051</td>\n",
       "    </tr>\n",
       "    <tr>\n",
       "      <th>3</th>\n",
       "      <td>577</td>\n",
       "      <td>49</td>\n",
       "      <td>55.710944</td>\n",
       "      <td>56.39</td>\n",
       "      <td>55.710944</td>\n",
       "    </tr>\n",
       "    <tr>\n",
       "      <th>4</th>\n",
       "      <td>378</td>\n",
       "      <td>36</td>\n",
       "      <td>39.906025</td>\n",
       "      <td>56.39</td>\n",
       "      <td>39.906025</td>\n",
       "    </tr>\n",
       "  </tbody>\n",
       "</table>\n",
       "</div>"
      ],
      "text/plain": [
       "   hours  grade    predict    avg  predict_algorithm\n",
       "0    568     50  54.996149  56.39          54.996149\n",
       "1    739     67  68.577261  56.39          68.577261\n",
       "2    499     41  49.516051  56.39          49.516051\n",
       "3    577     49  55.710944  56.39          55.710944\n",
       "4    378     36  39.906025  56.39          39.906025"
      ]
     },
     "execution_count": 435,
     "metadata": {},
     "output_type": "execute_result"
    }
   ],
   "source": [
    "df.head()"
   ]
  },
  {
   "cell_type": "code",
   "execution_count": 436,
   "id": "similar-planner",
   "metadata": {},
   "outputs": [],
   "source": [
    "from sklearn import metrics"
   ]
  },
  {
   "cell_type": "markdown",
   "id": "de20e9cc",
   "metadata": {
    "lang": "en"
   },
   "source": [
    "**Calculation of the absolute mean error, the mean square error and the mean square error\n",
    "\n",
    "- **MAE** is the easiest to understand, because it is the mean error.\n",
    "- **The MSE** is more popular than the MAE, because the MSE accounts for larger errors, which is often useful in the real world.\n",
    "- **RMSE** is even more popular than MSE, it is the square root of the MSE and measures the standard deviation of the residuals.\n",
    "\n",
    "These are all **loss functions**: we want to minimize them."
   ]
  },
  {
   "cell_type": "code",
   "execution_count": 437,
   "id": "744774cb",
   "metadata": {},
   "outputs": [
    {
     "name": "stdout",
     "output_type": "stream",
     "text": [
      "MAE:  4.251999397118403\n",
      "MSE:  30.48299423053982\n",
      "RMSE:  5.521140663897254\n",
      "R2:  0.8217346866216496\n"
     ]
    }
   ],
   "source": [
    "print(f\"MAE: \", metrics.mean_absolute_error(df.grade, df.predict_algorithm))\n",
    "print(f\"MSE: \", metrics.mean_squared_error(df.grade, df.predict_algorithm))\n",
    "print(f\"RMSE: \", np.sqrt(metrics.mean_squared_error(df.grade, df.predict_algorithm)))\n",
    "print(f\"R2: \", metrics.r2_score(df.grade, df.predict_algorithm))"
   ]
  },
  {
   "cell_type": "markdown",
   "id": "characteristic-spanking",
   "metadata": {
    "lang": "es"
   },
   "source": [
    "Read more about MAE, MSE, RMSE AND R2 [here](http://medium.com/analytics-vidhya/mae-mse-rmse-coefficient-of-determination-adjusted-r-squared-which-metric-is-better-cd0326a5697e)"
   ]
  },
  {
   "cell_type": "markdown",
   "id": "beb9bf74",
   "metadata": {
    "lang": "en"
   },
   "source": [
    "## Linear regression with statsmodels"
   ]
  },
  {
   "cell_type": "markdown",
   "id": "be450c43",
   "metadata": {
    "lang": "en"
   },
   "source": [
    "A bit of [documentation](https://www.statsmodels.org/stable/generated/statsmodels.regression.linear_model.OLS.html)\n",
    "\n",
    "And [this article](https://jyotiyadav99111.medium.com/statistics-how-should-i-interpret-results-of-ols-3bde1ebeec01) that summarizes how to interpret OLS summary information"
   ]
  },
  {
   "cell_type": "code",
   "execution_count": 438,
   "id": "gross-tongue",
   "metadata": {},
   "outputs": [
    {
     "data": {
      "text/html": [
       "<table class=\"simpletable\">\n",
       "<caption>OLS Regression Results</caption>\n",
       "<tr>\n",
       "  <th>Dep. Variable:</th>          <td>grade</td>      <th>  R-squared:         </th> <td>   0.822</td>\n",
       "</tr>\n",
       "<tr>\n",
       "  <th>Model:</th>                   <td>OLS</td>       <th>  Adj. R-squared:    </th> <td>   0.820</td>\n",
       "</tr>\n",
       "<tr>\n",
       "  <th>Method:</th>             <td>Least Squares</td>  <th>  F-statistic:       </th> <td>   451.7</td>\n",
       "</tr>\n",
       "<tr>\n",
       "  <th>Date:</th>             <td>Tue, 16 Aug 2022</td> <th>  Prob (F-statistic):</th> <td>1.77e-38</td>\n",
       "</tr>\n",
       "<tr>\n",
       "  <th>Time:</th>                 <td>00:55:15</td>     <th>  Log-Likelihood:    </th> <td> -312.75</td>\n",
       "</tr>\n",
       "<tr>\n",
       "  <th>No. Observations:</th>      <td>   100</td>      <th>  AIC:               </th> <td>   629.5</td>\n",
       "</tr>\n",
       "<tr>\n",
       "  <th>Df Residuals:</th>          <td>    98</td>      <th>  BIC:               </th> <td>   634.7</td>\n",
       "</tr>\n",
       "<tr>\n",
       "  <th>Df Model:</th>              <td>     1</td>      <th>                     </th>     <td> </td>   \n",
       "</tr>\n",
       "<tr>\n",
       "  <th>Covariance Type:</th>      <td>nonrobust</td>    <th>                     </th>     <td> </td>   \n",
       "</tr>\n",
       "</table>\n",
       "<table class=\"simpletable\">\n",
       "<tr>\n",
       "      <td></td>         <th>coef</th>     <th>std err</th>      <th>t</th>      <th>P>|t|</th>  <th>[0.025</th>    <th>0.975]</th>  \n",
       "</tr>\n",
       "<tr>\n",
       "  <th>Intercept</th> <td>    9.8846</td> <td>    2.258</td> <td>    4.378</td> <td> 0.000</td> <td>    5.404</td> <td>   14.366</td>\n",
       "</tr>\n",
       "<tr>\n",
       "  <th>hours</th>     <td>    0.0794</td> <td>    0.004</td> <td>   21.254</td> <td> 0.000</td> <td>    0.072</td> <td>    0.087</td>\n",
       "</tr>\n",
       "</table>\n",
       "<table class=\"simpletable\">\n",
       "<tr>\n",
       "  <th>Omnibus:</th>       <td> 8.423</td> <th>  Durbin-Watson:     </th> <td>   1.563</td>\n",
       "</tr>\n",
       "<tr>\n",
       "  <th>Prob(Omnibus):</th> <td> 0.015</td> <th>  Jarque-Bera (JB):  </th> <td>   8.174</td>\n",
       "</tr>\n",
       "<tr>\n",
       "  <th>Skew:</th>          <td> 0.677</td> <th>  Prob(JB):          </th> <td>  0.0168</td>\n",
       "</tr>\n",
       "<tr>\n",
       "  <th>Kurtosis:</th>      <td> 3.355</td> <th>  Cond. No.          </th> <td>2.45e+03</td>\n",
       "</tr>\n",
       "</table><br/><br/>Notes:<br/>[1] Standard Errors assume that the covariance matrix of the errors is correctly specified.<br/>[2] The condition number is large, 2.45e+03. This might indicate that there are<br/>strong multicollinearity or other numerical problems."
      ],
      "text/plain": [
       "<class 'statsmodels.iolib.summary.Summary'>\n",
       "\"\"\"\n",
       "                            OLS Regression Results                            \n",
       "==============================================================================\n",
       "Dep. Variable:                  grade   R-squared:                       0.822\n",
       "Model:                            OLS   Adj. R-squared:                  0.820\n",
       "Method:                 Least Squares   F-statistic:                     451.7\n",
       "Date:                Tue, 16 Aug 2022   Prob (F-statistic):           1.77e-38\n",
       "Time:                        00:55:15   Log-Likelihood:                -312.75\n",
       "No. Observations:                 100   AIC:                             629.5\n",
       "Df Residuals:                      98   BIC:                             634.7\n",
       "Df Model:                           1                                         \n",
       "Covariance Type:            nonrobust                                         \n",
       "==============================================================================\n",
       "                 coef    std err          t      P>|t|      [0.025      0.975]\n",
       "------------------------------------------------------------------------------\n",
       "Intercept      9.8846      2.258      4.378      0.000       5.404      14.366\n",
       "hours          0.0794      0.004     21.254      0.000       0.072       0.087\n",
       "==============================================================================\n",
       "Omnibus:                        8.423   Durbin-Watson:                   1.563\n",
       "Prob(Omnibus):                  0.015   Jarque-Bera (JB):                8.174\n",
       "Skew:                           0.677   Prob(JB):                       0.0168\n",
       "Kurtosis:                       3.355   Cond. No.                     2.45e+03\n",
       "==============================================================================\n",
       "\n",
       "Notes:\n",
       "[1] Standard Errors assume that the covariance matrix of the errors is correctly specified.\n",
       "[2] The condition number is large, 2.45e+03. This might indicate that there are\n",
       "strong multicollinearity or other numerical problems.\n",
       "\"\"\""
      ]
     },
     "execution_count": 438,
     "metadata": {},
     "output_type": "execute_result"
    }
   ],
   "source": [
    "results = smf.ols(\"grade ~ hours\", data = df).fit()\n",
    "results.summary()"
   ]
  },
  {
   "cell_type": "markdown",
   "id": "9cb6310f",
   "metadata": {
    "lang": "en"
   },
   "source": [
    "## OLS Concepts"
   ]
  },
  {
   "cell_type": "markdown",
   "id": "57397238",
   "metadata": {
    "lang": "en"
   },
   "source": [
    "- <b>R2</b> : The coefficient of determination measures how much of the variation of 𝑦 is explained by the model.\n",
    "If the variance of the errors or residuals 𝜎2𝑒 is zero, the model explains 100% of the variable 𝑦. If 𝜎2𝑒 is equal to the variance of 𝑦 the model explains nothing and 𝑅2 is equal to zero.\n",
    "\n",
    "\n",
    "- <b>𝑅¯2 </b> : The adjusted correlation coefficient 𝑅¯2 corrects the value of 𝑅2 by the number of variables 𝑘 (equal to 2 for the analyzed case) and the amount of data 𝑁\n",
    "\n",
    "- <b>P value </b> The p-value for each term tests the null hypothesis that the coefficient is equal to zero (has no effect). A low p-value (< 0.05) indicates that you can reject the null hypothesis. ... Typically p-values ​​are used to determine which terms should be kept in the regression model.\n",
    "\n",
    "\n",
    "Description of the p value:\n",
    "The p-value is a probability value, so it ranges between 0 and 1. The p-value shows us the probability of having obtained the result that we have obtained assuming that the null hypothesis H0 is true. It is often said that high values ​​of p do not allow H0 to be rejected, while low p values ​​do allow H0 to be rejected.\n",
    "\n",
    "In a statistical test, the null hypothesis H0 is rejected if the p-value associated with the observed result is equal to or less than an arbitrarily set $\\alpha$ significance level, conventionally 0.05 or 0.01. In other words, if the result obtained is more unusual than the expected range of results given a true null hypothesis H0 and the chosen significance level $\\alpha$, that is, if p is less than $\\alpha$, we can say that we have a statistically significant result that allows reject H0.\n",
    "\n",
    "It is important to emphasize that a hypothesis test does not allow accepting a hypothesis; he simply rejects it or does not reject it, that is to say, he dismisses it as plausible (which does not necessarily mean that it is true, simply that it is more likely to be) or implausible."
   ]
  },
  {
   "cell_type": "markdown",
   "id": "75a84594",
   "metadata": {
    "lang": "en"
   },
   "source": [
    "## Multiple Linear Regression\n",
    "\n",
    "Of course, the hours one studies are not the only important factor in getting good grades in the real world. We can think of IQ, for example, as another determining factor. In fact, we can generalize a linear model to have as many variables as we want:\n",
    "\n",
    " $$ Y = \\beta_0 + \\beta_1 X_1 + \\beta_2 X_2 + \\dots + \\beta_2 X_m + \\epsilon$$\n",
    " \n",
    " In this case, what we are going to do is add a variable that subtracts from the note, the party hours.\n",
    " Imagine that for every hour that we go out partying, neurons in our brain die and we forget information, therefore, we will lose a grade (remember that we are inventing data)"
   ]
  },
  {
   "cell_type": "code",
   "execution_count": 439,
   "id": "original-pride",
   "metadata": {
    "lang": "es"
   },
   "outputs": [],
   "source": [
    "# We recreate the dataframe with the grades\n",
    "beta_0 = 10\n",
    "beta_1 = 0.08\n",
    "beta_2 = -0.03\n",
    "num_grades = 100"
   ]
  },
  {
   "cell_type": "code",
   "execution_count": 440,
   "id": "social-making",
   "metadata": {},
   "outputs": [],
   "source": [
    "study_hours = np.random.normal(500,200, num_grades)\n",
    "party_hours = np.random.normal(500,200,num_grades)\n",
    "y = (beta_0) + (beta_1 * study_hours) + (beta_2 * party_hours) + (np.random.normal(loc=0, scale=5, size=num_grades))"
   ]
  },
  {
   "cell_type": "code",
   "execution_count": 441,
   "id": "union-tokyo",
   "metadata": {},
   "outputs": [],
   "source": [
    "data = pd.DataFrame({\"grades\": y, \"study_hours\": study_hours, \"party_hours\":party_hours}).astype(int)"
   ]
  },
  {
   "cell_type": "code",
   "execution_count": 442,
   "id": "alone-tradition",
   "metadata": {},
   "outputs": [
    {
     "data": {
      "text/html": [
       "<div>\n",
       "<style scoped>\n",
       "    .dataframe tbody tr th:only-of-type {\n",
       "        vertical-align: middle;\n",
       "    }\n",
       "\n",
       "    .dataframe tbody tr th {\n",
       "        vertical-align: top;\n",
       "    }\n",
       "\n",
       "    .dataframe thead th {\n",
       "        text-align: right;\n",
       "    }\n",
       "</style>\n",
       "<table border=\"1\" class=\"dataframe\">\n",
       "  <thead>\n",
       "    <tr style=\"text-align: right;\">\n",
       "      <th></th>\n",
       "      <th>grades</th>\n",
       "      <th>study_hours</th>\n",
       "      <th>party_hours</th>\n",
       "    </tr>\n",
       "  </thead>\n",
       "  <tbody>\n",
       "    <tr>\n",
       "      <th>0</th>\n",
       "      <td>54</td>\n",
       "      <td>697</td>\n",
       "      <td>431</td>\n",
       "    </tr>\n",
       "    <tr>\n",
       "      <th>1</th>\n",
       "      <td>39</td>\n",
       "      <td>521</td>\n",
       "      <td>565</td>\n",
       "    </tr>\n",
       "    <tr>\n",
       "      <th>2</th>\n",
       "      <td>34</td>\n",
       "      <td>441</td>\n",
       "      <td>490</td>\n",
       "    </tr>\n",
       "    <tr>\n",
       "      <th>3</th>\n",
       "      <td>35</td>\n",
       "      <td>586</td>\n",
       "      <td>299</td>\n",
       "    </tr>\n",
       "    <tr>\n",
       "      <th>4</th>\n",
       "      <td>12</td>\n",
       "      <td>256</td>\n",
       "      <td>498</td>\n",
       "    </tr>\n",
       "  </tbody>\n",
       "</table>\n",
       "</div>"
      ],
      "text/plain": [
       "   grades  study_hours  party_hours\n",
       "0      54          697          431\n",
       "1      39          521          565\n",
       "2      34          441          490\n",
       "3      35          586          299\n",
       "4      12          256          498"
      ]
     },
     "execution_count": 442,
     "metadata": {},
     "output_type": "execute_result"
    }
   ],
   "source": [
    "data.head()"
   ]
  },
  {
   "cell_type": "code",
   "execution_count": 443,
   "id": "hungarian-shower",
   "metadata": {},
   "outputs": [
    {
     "data": {
      "image/png": "[encoded data removed]",
      "text/plain": [
       "<Figure size 540x540 with 12 Axes>"
      ]
     },
     "metadata": {},
     "output_type": "display_data"
    }
   ],
   "source": [
    "sns.pairplot(data); "
   ]
  },
  {
   "cell_type": "markdown",
   "id": "247b3ea8",
   "metadata": {
    "lang": "en"
   },
   "source": [
    "The multiple linear regression coefficients are computed in a similar way to the simple linear regression case: they minimize\n",
    "\n",
    "$$RSS = \\Sigma(y_i - \\hat{y_i})^2$$\n",
    "\n",
    "\n",
    "where:\n",
    "\n",
    " $$ \\hat{y} = \\hat{beta_0} + \\hat{beta_1 X_1} + \\hat{beta_2} X_2 + \\hat + \\hat{\\beta_2} X_m$$"
   ]
  },
  {
   "cell_type": "code",
   "execution_count": 444,
   "id": "a524abd4",
   "metadata": {
    "lang": "en"
   },
   "outputs": [],
   "source": [
    "# We analyze the results with the OLS"
   ]
  },
  {
   "cell_type": "markdown",
   "id": "b5d27de8",
   "metadata": {
    "lang": "en"
   },
   "source": [
    "The coefficient is the number by which we multiply the predictor variable (X) in this case we have two, study hours and party hours.\n",
    "The positive coefficient indicates that the correlation is positive (the more hours I study, the better the grade I get) and the coefficient of party hours is negative, therefore it indicates that if that predictive variable is greater, my target variable decreases."
   ]
  },
  {
   "cell_type": "code",
   "execution_count": 445,
   "id": "f9e841b8",
   "metadata": {},
   "outputs": [],
   "source": [
    "results = smf.ols(\"grades ~ study_hours + party_hours\", data=data).fit()"
   ]
  },
  {
   "cell_type": "code",
   "execution_count": 446,
   "id": "exact-stroke",
   "metadata": {},
   "outputs": [
    {
     "data": {
      "text/html": [
       "<table class=\"simpletable\">\n",
       "<caption>OLS Regression Results</caption>\n",
       "<tr>\n",
       "  <th>Dep. Variable:</th>         <td>grades</td>      <th>  R-squared:         </th> <td>   0.911</td>\n",
       "</tr>\n",
       "<tr>\n",
       "  <th>Model:</th>                   <td>OLS</td>       <th>  Adj. R-squared:    </th> <td>   0.909</td>\n",
       "</tr>\n",
       "<tr>\n",
       "  <th>Method:</th>             <td>Least Squares</td>  <th>  F-statistic:       </th> <td>   497.7</td>\n",
       "</tr>\n",
       "<tr>\n",
       "  <th>Date:</th>             <td>Tue, 16 Aug 2022</td> <th>  Prob (F-statistic):</th> <td>9.96e-52</td>\n",
       "</tr>\n",
       "<tr>\n",
       "  <th>Time:</th>                 <td>00:55:18</td>     <th>  Log-Likelihood:    </th> <td> -300.47</td>\n",
       "</tr>\n",
       "<tr>\n",
       "  <th>No. Observations:</th>      <td>   100</td>      <th>  AIC:               </th> <td>   606.9</td>\n",
       "</tr>\n",
       "<tr>\n",
       "  <th>Df Residuals:</th>          <td>    97</td>      <th>  BIC:               </th> <td>   614.8</td>\n",
       "</tr>\n",
       "<tr>\n",
       "  <th>Df Model:</th>              <td>     2</td>      <th>                     </th>     <td> </td>   \n",
       "</tr>\n",
       "<tr>\n",
       "  <th>Covariance Type:</th>      <td>nonrobust</td>    <th>                     </th>     <td> </td>   \n",
       "</tr>\n",
       "</table>\n",
       "<table class=\"simpletable\">\n",
       "<tr>\n",
       "       <td></td>          <th>coef</th>     <th>std err</th>      <th>t</th>      <th>P>|t|</th>  <th>[0.025</th>    <th>0.975]</th>  \n",
       "</tr>\n",
       "<tr>\n",
       "  <th>Intercept</th>   <td>    9.8330</td> <td>    1.826</td> <td>    5.385</td> <td> 0.000</td> <td>    6.209</td> <td>   13.457</td>\n",
       "</tr>\n",
       "<tr>\n",
       "  <th>study_hours</th> <td>    0.0735</td> <td>    0.002</td> <td>   30.356</td> <td> 0.000</td> <td>    0.069</td> <td>    0.078</td>\n",
       "</tr>\n",
       "<tr>\n",
       "  <th>party_hours</th> <td>   -0.0255</td> <td>    0.003</td> <td>   -9.925</td> <td> 0.000</td> <td>   -0.031</td> <td>   -0.020</td>\n",
       "</tr>\n",
       "</table>\n",
       "<table class=\"simpletable\">\n",
       "<tr>\n",
       "  <th>Omnibus:</th>       <td> 2.380</td> <th>  Durbin-Watson:     </th> <td>   1.873</td>\n",
       "</tr>\n",
       "<tr>\n",
       "  <th>Prob(Omnibus):</th> <td> 0.304</td> <th>  Jarque-Bera (JB):  </th> <td>   2.301</td>\n",
       "</tr>\n",
       "<tr>\n",
       "  <th>Skew:</th>          <td> 0.364</td> <th>  Prob(JB):          </th> <td>   0.316</td>\n",
       "</tr>\n",
       "<tr>\n",
       "  <th>Kurtosis:</th>      <td> 2.852</td> <th>  Cond. No.          </th> <td>2.75e+03</td>\n",
       "</tr>\n",
       "</table><br/><br/>Notes:<br/>[1] Standard Errors assume that the covariance matrix of the errors is correctly specified.<br/>[2] The condition number is large, 2.75e+03. This might indicate that there are<br/>strong multicollinearity or other numerical problems."
      ],
      "text/plain": [
       "<class 'statsmodels.iolib.summary.Summary'>\n",
       "\"\"\"\n",
       "                            OLS Regression Results                            \n",
       "==============================================================================\n",
       "Dep. Variable:                 grades   R-squared:                       0.911\n",
       "Model:                            OLS   Adj. R-squared:                  0.909\n",
       "Method:                 Least Squares   F-statistic:                     497.7\n",
       "Date:                Tue, 16 Aug 2022   Prob (F-statistic):           9.96e-52\n",
       "Time:                        00:55:18   Log-Likelihood:                -300.47\n",
       "No. Observations:                 100   AIC:                             606.9\n",
       "Df Residuals:                      97   BIC:                             614.8\n",
       "Df Model:                           2                                         \n",
       "Covariance Type:            nonrobust                                         \n",
       "===============================================================================\n",
       "                  coef    std err          t      P>|t|      [0.025      0.975]\n",
       "-------------------------------------------------------------------------------\n",
       "Intercept       9.8330      1.826      5.385      0.000       6.209      13.457\n",
       "study_hours     0.0735      0.002     30.356      0.000       0.069       0.078\n",
       "party_hours    -0.0255      0.003     -9.925      0.000      -0.031      -0.020\n",
       "==============================================================================\n",
       "Omnibus:                        2.380   Durbin-Watson:                   1.873\n",
       "Prob(Omnibus):                  0.304   Jarque-Bera (JB):                2.301\n",
       "Skew:                           0.364   Prob(JB):                        0.316\n",
       "Kurtosis:                       2.852   Cond. No.                     2.75e+03\n",
       "==============================================================================\n",
       "\n",
       "Notes:\n",
       "[1] Standard Errors assume that the covariance matrix of the errors is correctly specified.\n",
       "[2] The condition number is large, 2.75e+03. This might indicate that there are\n",
       "strong multicollinearity or other numerical problems.\n",
       "\"\"\""
      ]
     },
     "execution_count": 446,
     "metadata": {},
     "output_type": "execute_result"
    }
   ],
   "source": [
    "results.summary()"
   ]
  },
  {
   "cell_type": "markdown",
   "id": "b31a870d",
   "metadata": {
    "lang": "en"
   },
   "source": [
    "## Categorical variables\n",
    "\n",
    "Very often we are faced with situations where the predictors are *qualitative* in nature. A good example could be the music they listen to which can take the values ​​$rock$ or $indie$."
   ]
  },
  {
   "cell_type": "code",
   "execution_count": 447,
   "id": "recent-presentation",
   "metadata": {},
   "outputs": [],
   "source": [
    "data[\"music\"] = np.random.choice([\"rock\", \"indie\"], num_grades)"
   ]
  },
  {
   "cell_type": "code",
   "execution_count": 448,
   "id": "c36ab30c",
   "metadata": {
    "lang": "en"
   },
   "outputs": [],
   "source": [
    "# We analyze the results with the OLS"
   ]
  },
  {
   "cell_type": "code",
   "execution_count": 449,
   "id": "fifty-collaboration",
   "metadata": {},
   "outputs": [
    {
     "data": {
      "text/html": [
       "<div>\n",
       "<style scoped>\n",
       "    .dataframe tbody tr th:only-of-type {\n",
       "        vertical-align: middle;\n",
       "    }\n",
       "\n",
       "    .dataframe tbody tr th {\n",
       "        vertical-align: top;\n",
       "    }\n",
       "\n",
       "    .dataframe thead th {\n",
       "        text-align: right;\n",
       "    }\n",
       "</style>\n",
       "<table border=\"1\" class=\"dataframe\">\n",
       "  <thead>\n",
       "    <tr style=\"text-align: right;\">\n",
       "      <th></th>\n",
       "      <th>grades</th>\n",
       "      <th>study_hours</th>\n",
       "      <th>party_hours</th>\n",
       "      <th>music</th>\n",
       "    </tr>\n",
       "  </thead>\n",
       "  <tbody>\n",
       "    <tr>\n",
       "      <th>52</th>\n",
       "      <td>41</td>\n",
       "      <td>760</td>\n",
       "      <td>872</td>\n",
       "      <td>rock</td>\n",
       "    </tr>\n",
       "    <tr>\n",
       "      <th>29</th>\n",
       "      <td>13</td>\n",
       "      <td>256</td>\n",
       "      <td>449</td>\n",
       "      <td>rock</td>\n",
       "    </tr>\n",
       "    <tr>\n",
       "      <th>95</th>\n",
       "      <td>15</td>\n",
       "      <td>235</td>\n",
       "      <td>490</td>\n",
       "      <td>indie</td>\n",
       "    </tr>\n",
       "  </tbody>\n",
       "</table>\n",
       "</div>"
      ],
      "text/plain": [
       "    grades  study_hours  party_hours  music\n",
       "52      41          760          872   rock\n",
       "29      13          256          449   rock\n",
       "95      15          235          490  indie"
      ]
     },
     "execution_count": 449,
     "metadata": {},
     "output_type": "execute_result"
    }
   ],
   "source": [
    "data.sample(3)"
   ]
  },
  {
   "cell_type": "code",
   "execution_count": 450,
   "id": "surface-witch",
   "metadata": {},
   "outputs": [
    {
     "name": "stdout",
     "output_type": "stream",
     "text": [
      "<class 'pandas.core.frame.DataFrame'>\n",
      "RangeIndex: 100 entries, 0 to 99\n",
      "Data columns (total 4 columns):\n",
      " #   Column       Non-Null Count  Dtype \n",
      "---  ------       --------------  ----- \n",
      " 0   grades       100 non-null    int64 \n",
      " 1   study_hours  100 non-null    int64 \n",
      " 2   party_hours  100 non-null    int64 \n",
      " 3   music        100 non-null    object\n",
      "dtypes: int64(3), object(1)\n",
      "memory usage: 3.2+ KB\n"
     ]
    }
   ],
   "source": [
    "data.info()"
   ]
  },
  {
   "cell_type": "code",
   "execution_count": 451,
   "id": "2f6f0af2",
   "metadata": {
    "lang": "en"
   },
   "outputs": [],
   "source": [
    "## How do we work with these variables?"
   ]
  },
  {
   "cell_type": "code",
   "execution_count": 452,
   "id": "8c8bfc53",
   "metadata": {},
   "outputs": [
    {
     "data": {
      "text/html": [
       "<div>\n",
       "<style scoped>\n",
       "    .dataframe tbody tr th:only-of-type {\n",
       "        vertical-align: middle;\n",
       "    }\n",
       "\n",
       "    .dataframe tbody tr th {\n",
       "        vertical-align: top;\n",
       "    }\n",
       "\n",
       "    .dataframe thead th {\n",
       "        text-align: right;\n",
       "    }\n",
       "</style>\n",
       "<table border=\"1\" class=\"dataframe\">\n",
       "  <thead>\n",
       "    <tr style=\"text-align: right;\">\n",
       "      <th></th>\n",
       "      <th>grades</th>\n",
       "      <th>study_hours</th>\n",
       "      <th>party_hours</th>\n",
       "      <th>music_indie</th>\n",
       "      <th>music_rock</th>\n",
       "    </tr>\n",
       "  </thead>\n",
       "  <tbody>\n",
       "    <tr>\n",
       "      <th>0</th>\n",
       "      <td>54</td>\n",
       "      <td>697</td>\n",
       "      <td>431</td>\n",
       "      <td>1</td>\n",
       "      <td>0</td>\n",
       "    </tr>\n",
       "    <tr>\n",
       "      <th>1</th>\n",
       "      <td>39</td>\n",
       "      <td>521</td>\n",
       "      <td>565</td>\n",
       "      <td>1</td>\n",
       "      <td>0</td>\n",
       "    </tr>\n",
       "    <tr>\n",
       "      <th>2</th>\n",
       "      <td>34</td>\n",
       "      <td>441</td>\n",
       "      <td>490</td>\n",
       "      <td>1</td>\n",
       "      <td>0</td>\n",
       "    </tr>\n",
       "    <tr>\n",
       "      <th>3</th>\n",
       "      <td>35</td>\n",
       "      <td>586</td>\n",
       "      <td>299</td>\n",
       "      <td>1</td>\n",
       "      <td>0</td>\n",
       "    </tr>\n",
       "    <tr>\n",
       "      <th>4</th>\n",
       "      <td>12</td>\n",
       "      <td>256</td>\n",
       "      <td>498</td>\n",
       "      <td>0</td>\n",
       "      <td>1</td>\n",
       "    </tr>\n",
       "    <tr>\n",
       "      <th>...</th>\n",
       "      <td>...</td>\n",
       "      <td>...</td>\n",
       "      <td>...</td>\n",
       "      <td>...</td>\n",
       "      <td>...</td>\n",
       "    </tr>\n",
       "    <tr>\n",
       "      <th>95</th>\n",
       "      <td>15</td>\n",
       "      <td>235</td>\n",
       "      <td>490</td>\n",
       "      <td>1</td>\n",
       "      <td>0</td>\n",
       "    </tr>\n",
       "    <tr>\n",
       "      <th>96</th>\n",
       "      <td>13</td>\n",
       "      <td>209</td>\n",
       "      <td>471</td>\n",
       "      <td>0</td>\n",
       "      <td>1</td>\n",
       "    </tr>\n",
       "    <tr>\n",
       "      <th>97</th>\n",
       "      <td>12</td>\n",
       "      <td>318</td>\n",
       "      <td>846</td>\n",
       "      <td>1</td>\n",
       "      <td>0</td>\n",
       "    </tr>\n",
       "    <tr>\n",
       "      <th>98</th>\n",
       "      <td>54</td>\n",
       "      <td>637</td>\n",
       "      <td>435</td>\n",
       "      <td>1</td>\n",
       "      <td>0</td>\n",
       "    </tr>\n",
       "    <tr>\n",
       "      <th>99</th>\n",
       "      <td>47</td>\n",
       "      <td>588</td>\n",
       "      <td>434</td>\n",
       "      <td>1</td>\n",
       "      <td>0</td>\n",
       "    </tr>\n",
       "  </tbody>\n",
       "</table>\n",
       "<p>100 rows × 5 columns</p>\n",
       "</div>"
      ],
      "text/plain": [
       "    grades  study_hours  party_hours  music_indie  music_rock\n",
       "0       54          697          431            1           0\n",
       "1       39          521          565            1           0\n",
       "2       34          441          490            1           0\n",
       "3       35          586          299            1           0\n",
       "4       12          256          498            0           1\n",
       "..     ...          ...          ...          ...         ...\n",
       "95      15          235          490            1           0\n",
       "96      13          209          471            0           1\n",
       "97      12          318          846            1           0\n",
       "98      54          637          435            1           0\n",
       "99      47          588          434            1           0\n",
       "\n",
       "[100 rows x 5 columns]"
      ]
     },
     "execution_count": 452,
     "metadata": {},
     "output_type": "execute_result"
    }
   ],
   "source": [
    "pd.get_dummies(data)"
   ]
  },
  {
   "cell_type": "code",
   "execution_count": 453,
   "id": "occasional-catalog",
   "metadata": {},
   "outputs": [
    {
     "data": {
      "text/html": [
       "<div>\n",
       "<style scoped>\n",
       "    .dataframe tbody tr th:only-of-type {\n",
       "        vertical-align: middle;\n",
       "    }\n",
       "\n",
       "    .dataframe tbody tr th {\n",
       "        vertical-align: top;\n",
       "    }\n",
       "\n",
       "    .dataframe thead th {\n",
       "        text-align: right;\n",
       "    }\n",
       "</style>\n",
       "<table border=\"1\" class=\"dataframe\">\n",
       "  <thead>\n",
       "    <tr style=\"text-align: right;\">\n",
       "      <th></th>\n",
       "      <th>grades</th>\n",
       "      <th>study_hours</th>\n",
       "      <th>party_hours</th>\n",
       "      <th>music</th>\n",
       "      <th>listens_to_rock</th>\n",
       "    </tr>\n",
       "  </thead>\n",
       "  <tbody>\n",
       "    <tr>\n",
       "      <th>0</th>\n",
       "      <td>54</td>\n",
       "      <td>697</td>\n",
       "      <td>431</td>\n",
       "      <td>indie</td>\n",
       "      <td>0</td>\n",
       "    </tr>\n",
       "    <tr>\n",
       "      <th>1</th>\n",
       "      <td>39</td>\n",
       "      <td>521</td>\n",
       "      <td>565</td>\n",
       "      <td>indie</td>\n",
       "      <td>0</td>\n",
       "    </tr>\n",
       "    <tr>\n",
       "      <th>2</th>\n",
       "      <td>34</td>\n",
       "      <td>441</td>\n",
       "      <td>490</td>\n",
       "      <td>indie</td>\n",
       "      <td>0</td>\n",
       "    </tr>\n",
       "    <tr>\n",
       "      <th>3</th>\n",
       "      <td>35</td>\n",
       "      <td>586</td>\n",
       "      <td>299</td>\n",
       "      <td>indie</td>\n",
       "      <td>0</td>\n",
       "    </tr>\n",
       "    <tr>\n",
       "      <th>4</th>\n",
       "      <td>12</td>\n",
       "      <td>256</td>\n",
       "      <td>498</td>\n",
       "      <td>rock</td>\n",
       "      <td>1</td>\n",
       "    </tr>\n",
       "  </tbody>\n",
       "</table>\n",
       "</div>"
      ],
      "text/plain": [
       "   grades  study_hours  party_hours  music  listens_to_rock\n",
       "0      54          697          431  indie                0\n",
       "1      39          521          565  indie                0\n",
       "2      34          441          490  indie                0\n",
       "3      35          586          299  indie                0\n",
       "4      12          256          498   rock                1"
      ]
     },
     "execution_count": 453,
     "metadata": {},
     "output_type": "execute_result"
    }
   ],
   "source": [
    "data[\"listens_to_rock\"] = data.music.str.get_dummies()[\"rock\"]\n",
    "data.head()"
   ]
  },
  {
   "cell_type": "markdown",
   "id": "22fdb526",
   "metadata": {
    "lang": "en"
   },
   "source": [
    "We include this information in the model through a *dummy* variable:\n",
    "$$\n",
    "x_i= \\left\\{\n",
    "\\begin{array}{ll}\n",
    "      1  \\quad \\text{if listens to rock} \\\\\n",
    "      0  \\quad \\text{if listens to indie} \\\\\n",
    "\\end{array} \n",
    "\\right. \n",
    "$$\n",
    "\n",
    "\n",
    "If this is our only variable, this results in a model:\n",
    "\n",
    "$$y_i = \\beta_0 + \\beta_1 x_i +\\epsilon_i = \\left\\{\n",
    "\\begin{array}{ll}\n",
    "      \\beta_0 + \\beta_1 +\\epsilon_i  \\quad \\text{if listens to rock} \\\\\n",
    "      \\beta_0 + \\epsilon_i  \\quad \\text{if listens to indie} \\\\\n",
    "\\end{array} \n",
    "\\right.  $$\n",
    "\n",
    "In this case, $\\beta_0$ represents the average score of people who listen to rock, and $\\beta_0 + \\beta_1$ the average score of people who listen to indie."
   ]
  },
  {
   "cell_type": "code",
   "execution_count": 454,
   "id": "adverse-scheduling",
   "metadata": {},
   "outputs": [
    {
     "data": {
      "text/html": [
       "<table class=\"simpletable\">\n",
       "<caption>OLS Regression Results</caption>\n",
       "<tr>\n",
       "  <th>Dep. Variable:</th>         <td>grades</td>      <th>  R-squared:         </th> <td>   0.912</td>\n",
       "</tr>\n",
       "<tr>\n",
       "  <th>Model:</th>                   <td>OLS</td>       <th>  Adj. R-squared:    </th> <td>   0.909</td>\n",
       "</tr>\n",
       "<tr>\n",
       "  <th>Method:</th>             <td>Least Squares</td>  <th>  F-statistic:       </th> <td>   331.0</td>\n",
       "</tr>\n",
       "<tr>\n",
       "  <th>Date:</th>             <td>Tue, 16 Aug 2022</td> <th>  Prob (F-statistic):</th> <td>1.77e-50</td>\n",
       "</tr>\n",
       "<tr>\n",
       "  <th>Time:</th>                 <td>00:55:18</td>     <th>  Log-Likelihood:    </th> <td> -300.10</td>\n",
       "</tr>\n",
       "<tr>\n",
       "  <th>No. Observations:</th>      <td>   100</td>      <th>  AIC:               </th> <td>   608.2</td>\n",
       "</tr>\n",
       "<tr>\n",
       "  <th>Df Residuals:</th>          <td>    96</td>      <th>  BIC:               </th> <td>   618.6</td>\n",
       "</tr>\n",
       "<tr>\n",
       "  <th>Df Model:</th>              <td>     3</td>      <th>                     </th>     <td> </td>   \n",
       "</tr>\n",
       "<tr>\n",
       "  <th>Covariance Type:</th>      <td>nonrobust</td>    <th>                     </th>     <td> </td>   \n",
       "</tr>\n",
       "</table>\n",
       "<table class=\"simpletable\">\n",
       "<tr>\n",
       "         <td></td>            <th>coef</th>     <th>std err</th>      <th>t</th>      <th>P>|t|</th>  <th>[0.025</th>    <th>0.975]</th>  \n",
       "</tr>\n",
       "<tr>\n",
       "  <th>Intercept</th>       <td>   10.5726</td> <td>    2.029</td> <td>    5.210</td> <td> 0.000</td> <td>    6.544</td> <td>   14.601</td>\n",
       "</tr>\n",
       "<tr>\n",
       "  <th>study_hours</th>     <td>    0.0731</td> <td>    0.002</td> <td>   29.530</td> <td> 0.000</td> <td>    0.068</td> <td>    0.078</td>\n",
       "</tr>\n",
       "<tr>\n",
       "  <th>party_hours</th>     <td>   -0.0258</td> <td>    0.003</td> <td>   -9.925</td> <td> 0.000</td> <td>   -0.031</td> <td>   -0.021</td>\n",
       "</tr>\n",
       "<tr>\n",
       "  <th>listens_to_rock</th> <td>   -0.8732</td> <td>    1.039</td> <td>   -0.840</td> <td> 0.403</td> <td>   -2.936</td> <td>    1.190</td>\n",
       "</tr>\n",
       "</table>\n",
       "<table class=\"simpletable\">\n",
       "<tr>\n",
       "  <th>Omnibus:</th>       <td> 2.340</td> <th>  Durbin-Watson:     </th> <td>   1.831</td>\n",
       "</tr>\n",
       "<tr>\n",
       "  <th>Prob(Omnibus):</th> <td> 0.310</td> <th>  Jarque-Bera (JB):  </th> <td>   2.008</td>\n",
       "</tr>\n",
       "<tr>\n",
       "  <th>Skew:</th>          <td> 0.346</td> <th>  Prob(JB):          </th> <td>   0.366</td>\n",
       "</tr>\n",
       "<tr>\n",
       "  <th>Kurtosis:</th>      <td> 3.046</td> <th>  Cond. No.          </th> <td>3.14e+03</td>\n",
       "</tr>\n",
       "</table><br/><br/>Notes:<br/>[1] Standard Errors assume that the covariance matrix of the errors is correctly specified.<br/>[2] The condition number is large, 3.14e+03. This might indicate that there are<br/>strong multicollinearity or other numerical problems."
      ],
      "text/plain": [
       "<class 'statsmodels.iolib.summary.Summary'>\n",
       "\"\"\"\n",
       "                            OLS Regression Results                            \n",
       "==============================================================================\n",
       "Dep. Variable:                 grades   R-squared:                       0.912\n",
       "Model:                            OLS   Adj. R-squared:                  0.909\n",
       "Method:                 Least Squares   F-statistic:                     331.0\n",
       "Date:                Tue, 16 Aug 2022   Prob (F-statistic):           1.77e-50\n",
       "Time:                        00:55:18   Log-Likelihood:                -300.10\n",
       "No. Observations:                 100   AIC:                             608.2\n",
       "Df Residuals:                      96   BIC:                             618.6\n",
       "Df Model:                           3                                         \n",
       "Covariance Type:            nonrobust                                         \n",
       "===================================================================================\n",
       "                      coef    std err          t      P>|t|      [0.025      0.975]\n",
       "-----------------------------------------------------------------------------------\n",
       "Intercept          10.5726      2.029      5.210      0.000       6.544      14.601\n",
       "study_hours         0.0731      0.002     29.530      0.000       0.068       0.078\n",
       "party_hours        -0.0258      0.003     -9.925      0.000      -0.031      -0.021\n",
       "listens_to_rock    -0.8732      1.039     -0.840      0.403      -2.936       1.190\n",
       "==============================================================================\n",
       "Omnibus:                        2.340   Durbin-Watson:                   1.831\n",
       "Prob(Omnibus):                  0.310   Jarque-Bera (JB):                2.008\n",
       "Skew:                           0.346   Prob(JB):                        0.366\n",
       "Kurtosis:                       3.046   Cond. No.                     3.14e+03\n",
       "==============================================================================\n",
       "\n",
       "Notes:\n",
       "[1] Standard Errors assume that the covariance matrix of the errors is correctly specified.\n",
       "[2] The condition number is large, 3.14e+03. This might indicate that there are\n",
       "strong multicollinearity or other numerical problems.\n",
       "\"\"\""
      ]
     },
     "execution_count": 454,
     "metadata": {},
     "output_type": "execute_result"
    }
   ],
   "source": [
    "results = smf.ols(\"grades ~ study_hours + party_hours + listens_to_rock\", data=data).fit()\n",
    "results.summary()"
   ]
  },
  {
   "cell_type": "markdown",
   "id": "888c5380",
   "metadata": {
    "lang": "en"
   },
   "source": [
    "## Linear model extensions\n",
    "\n",
    "There are several assumptions used when fitting a linear model.\n",
    "Linear model assumptions \n",
    "[VIDEO](https://www.youtube.com/watch?v=hVe2F9krrWk)\n",
    "\n",
    "* Errors are normally distributed and have constant variance\n",
    "* Errors are not correlated with each other\n",
    "\n",
    "***Additive Assumption** The effect of changes in a predictor $X_j$ on the response $Y$ is independent of the values ​​of the other predictors.\n",
    "\n",
    "***Linear Assumption**The change in the answer for a unit increase in $X_j$ is the same regardless of the value of $X_j$.\n",
    "\n",
    "### Challenging the additive assumption: synergy\n",
    "\n",
    "Sometimes our variables will have natural interactions. For example, we may think that the more our ads are heard on the radio, the more effective our TV ads will be. That is, the effect of both is *greater* (or *lesser*) than the sum of the parts.\n",
    "\n",
    "This is a commonly studied topic in [marketing](https://smallbusiness.chron.com/definition-synergy-marketing-21786.html)"
   ]
  },
  {
   "cell_type": "code",
   "execution_count": 455,
   "id": "hollow-baseline",
   "metadata": {},
   "outputs": [],
   "source": [
    "df_adv = pd.read_csv('../datasets/Advertising.csv')"
   ]
  },
  {
   "cell_type": "markdown",
   "id": "45ece35f",
   "metadata": {
    "lang": "en"
   },
   "source": [
    "## Let's do it\n",
    "* Create three independent simple linear regression models\n",
    "* Interpret the results\n",
    "* Create a multivariate model with the three predictors\n",
    "* Interpret the results"
   ]
  },
  {
   "cell_type": "code",
   "execution_count": 456,
   "id": "laughing-patent",
   "metadata": {},
   "outputs": [
    {
     "data": {
      "text/html": [
       "<div>\n",
       "<style scoped>\n",
       "    .dataframe tbody tr th:only-of-type {\n",
       "        vertical-align: middle;\n",
       "    }\n",
       "\n",
       "    .dataframe tbody tr th {\n",
       "        vertical-align: top;\n",
       "    }\n",
       "\n",
       "    .dataframe thead th {\n",
       "        text-align: right;\n",
       "    }\n",
       "</style>\n",
       "<table border=\"1\" class=\"dataframe\">\n",
       "  <thead>\n",
       "    <tr style=\"text-align: right;\">\n",
       "      <th></th>\n",
       "      <th>TV</th>\n",
       "      <th>Radio</th>\n",
       "      <th>Newspaper</th>\n",
       "      <th>Sales</th>\n",
       "    </tr>\n",
       "  </thead>\n",
       "  <tbody>\n",
       "    <tr>\n",
       "      <th>0</th>\n",
       "      <td>230.1</td>\n",
       "      <td>37.8</td>\n",
       "      <td>69.2</td>\n",
       "      <td>22.1</td>\n",
       "    </tr>\n",
       "    <tr>\n",
       "      <th>1</th>\n",
       "      <td>44.5</td>\n",
       "      <td>39.3</td>\n",
       "      <td>45.1</td>\n",
       "      <td>10.4</td>\n",
       "    </tr>\n",
       "    <tr>\n",
       "      <th>2</th>\n",
       "      <td>17.2</td>\n",
       "      <td>45.9</td>\n",
       "      <td>69.3</td>\n",
       "      <td>9.3</td>\n",
       "    </tr>\n",
       "    <tr>\n",
       "      <th>3</th>\n",
       "      <td>151.5</td>\n",
       "      <td>41.3</td>\n",
       "      <td>58.5</td>\n",
       "      <td>18.5</td>\n",
       "    </tr>\n",
       "    <tr>\n",
       "      <th>4</th>\n",
       "      <td>180.8</td>\n",
       "      <td>10.8</td>\n",
       "      <td>58.4</td>\n",
       "      <td>12.9</td>\n",
       "    </tr>\n",
       "  </tbody>\n",
       "</table>\n",
       "</div>"
      ],
      "text/plain": [
       "      TV  Radio  Newspaper  Sales\n",
       "0  230.1   37.8       69.2   22.1\n",
       "1   44.5   39.3       45.1   10.4\n",
       "2   17.2   45.9       69.3    9.3\n",
       "3  151.5   41.3       58.5   18.5\n",
       "4  180.8   10.8       58.4   12.9"
      ]
     },
     "execution_count": 456,
     "metadata": {},
     "output_type": "execute_result"
    }
   ],
   "source": [
    "df_adv.head()"
   ]
  },
  {
   "cell_type": "code",
   "execution_count": 457,
   "id": "motivated-depth",
   "metadata": {},
   "outputs": [
    {
     "data": {
      "text/plain": [
       "<seaborn.axisgrid.PairGrid at 0x7ffbcec0cfd0>"
      ]
     },
     "execution_count": 457,
     "metadata": {},
     "output_type": "execute_result"
    },
    {
     "data": {
      "image/png": "[encoded data removed]",
      "text/plain": [
       "<Figure size 720x720 with 20 Axes>"
      ]
     },
     "metadata": {},
     "output_type": "display_data"
    }
   ],
   "source": [
    "sns.pairplot(df_adv)"
   ]
  },
  {
   "cell_type": "code",
   "execution_count": 458,
   "id": "arbitrary-lawsuit",
   "metadata": {},
   "outputs": [
    {
     "data": {
      "text/html": [
       "<table class=\"simpletable\">\n",
       "<caption>OLS Regression Results</caption>\n",
       "<tr>\n",
       "  <th>Dep. Variable:</th>          <td>Sales</td>      <th>  R-squared:         </th> <td>   0.897</td>\n",
       "</tr>\n",
       "<tr>\n",
       "  <th>Model:</th>                   <td>OLS</td>       <th>  Adj. R-squared:    </th> <td>   0.896</td>\n",
       "</tr>\n",
       "<tr>\n",
       "  <th>Method:</th>             <td>Least Squares</td>  <th>  F-statistic:       </th> <td>   570.3</td>\n",
       "</tr>\n",
       "<tr>\n",
       "  <th>Date:</th>             <td>Tue, 16 Aug 2022</td> <th>  Prob (F-statistic):</th> <td>1.58e-96</td>\n",
       "</tr>\n",
       "<tr>\n",
       "  <th>Time:</th>                 <td>00:55:20</td>     <th>  Log-Likelihood:    </th> <td> -386.18</td>\n",
       "</tr>\n",
       "<tr>\n",
       "  <th>No. Observations:</th>      <td>   200</td>      <th>  AIC:               </th> <td>   780.4</td>\n",
       "</tr>\n",
       "<tr>\n",
       "  <th>Df Residuals:</th>          <td>   196</td>      <th>  BIC:               </th> <td>   793.6</td>\n",
       "</tr>\n",
       "<tr>\n",
       "  <th>Df Model:</th>              <td>     3</td>      <th>                     </th>     <td> </td>   \n",
       "</tr>\n",
       "<tr>\n",
       "  <th>Covariance Type:</th>      <td>nonrobust</td>    <th>                     </th>     <td> </td>   \n",
       "</tr>\n",
       "</table>\n",
       "<table class=\"simpletable\">\n",
       "<tr>\n",
       "      <td></td>         <th>coef</th>     <th>std err</th>      <th>t</th>      <th>P>|t|</th>  <th>[0.025</th>    <th>0.975]</th>  \n",
       "</tr>\n",
       "<tr>\n",
       "  <th>Intercept</th> <td>    2.9389</td> <td>    0.312</td> <td>    9.422</td> <td> 0.000</td> <td>    2.324</td> <td>    3.554</td>\n",
       "</tr>\n",
       "<tr>\n",
       "  <th>TV</th>        <td>    0.0458</td> <td>    0.001</td> <td>   32.809</td> <td> 0.000</td> <td>    0.043</td> <td>    0.049</td>\n",
       "</tr>\n",
       "<tr>\n",
       "  <th>Radio</th>     <td>    0.1885</td> <td>    0.009</td> <td>   21.893</td> <td> 0.000</td> <td>    0.172</td> <td>    0.206</td>\n",
       "</tr>\n",
       "<tr>\n",
       "  <th>Newspaper</th> <td>   -0.0010</td> <td>    0.006</td> <td>   -0.177</td> <td> 0.860</td> <td>   -0.013</td> <td>    0.011</td>\n",
       "</tr>\n",
       "</table>\n",
       "<table class=\"simpletable\">\n",
       "<tr>\n",
       "  <th>Omnibus:</th>       <td>60.414</td> <th>  Durbin-Watson:     </th> <td>   2.084</td>\n",
       "</tr>\n",
       "<tr>\n",
       "  <th>Prob(Omnibus):</th> <td> 0.000</td> <th>  Jarque-Bera (JB):  </th> <td> 151.241</td>\n",
       "</tr>\n",
       "<tr>\n",
       "  <th>Skew:</th>          <td>-1.327</td> <th>  Prob(JB):          </th> <td>1.44e-33</td>\n",
       "</tr>\n",
       "<tr>\n",
       "  <th>Kurtosis:</th>      <td> 6.332</td> <th>  Cond. No.          </th> <td>    454.</td>\n",
       "</tr>\n",
       "</table><br/><br/>Notes:<br/>[1] Standard Errors assume that the covariance matrix of the errors is correctly specified."
      ],
      "text/plain": [
       "<class 'statsmodels.iolib.summary.Summary'>\n",
       "\"\"\"\n",
       "                            OLS Regression Results                            \n",
       "==============================================================================\n",
       "Dep. Variable:                  Sales   R-squared:                       0.897\n",
       "Model:                            OLS   Adj. R-squared:                  0.896\n",
       "Method:                 Least Squares   F-statistic:                     570.3\n",
       "Date:                Tue, 16 Aug 2022   Prob (F-statistic):           1.58e-96\n",
       "Time:                        00:55:20   Log-Likelihood:                -386.18\n",
       "No. Observations:                 200   AIC:                             780.4\n",
       "Df Residuals:                     196   BIC:                             793.6\n",
       "Df Model:                           3                                         \n",
       "Covariance Type:            nonrobust                                         \n",
       "==============================================================================\n",
       "                 coef    std err          t      P>|t|      [0.025      0.975]\n",
       "------------------------------------------------------------------------------\n",
       "Intercept      2.9389      0.312      9.422      0.000       2.324       3.554\n",
       "TV             0.0458      0.001     32.809      0.000       0.043       0.049\n",
       "Radio          0.1885      0.009     21.893      0.000       0.172       0.206\n",
       "Newspaper     -0.0010      0.006     -0.177      0.860      -0.013       0.011\n",
       "==============================================================================\n",
       "Omnibus:                       60.414   Durbin-Watson:                   2.084\n",
       "Prob(Omnibus):                  0.000   Jarque-Bera (JB):              151.241\n",
       "Skew:                          -1.327   Prob(JB):                     1.44e-33\n",
       "Kurtosis:                       6.332   Cond. No.                         454.\n",
       "==============================================================================\n",
       "\n",
       "Notes:\n",
       "[1] Standard Errors assume that the covariance matrix of the errors is correctly specified.\n",
       "\"\"\""
      ]
     },
     "execution_count": 458,
     "metadata": {},
     "output_type": "execute_result"
    }
   ],
   "source": [
    "results = smf.ols(\"Sales ~ TV + Radio + Newspaper\", data = df_adv).fit()\n",
    "results.summary()"
   ]
  },
  {
   "cell_type": "code",
   "execution_count": 459,
   "id": "dimensional-nature",
   "metadata": {},
   "outputs": [
    {
     "data": {
      "text/html": [
       "<table class=\"simpletable\">\n",
       "<caption>OLS Regression Results</caption>\n",
       "<tr>\n",
       "  <th>Dep. Variable:</th>          <td>Sales</td>      <th>  R-squared:         </th> <td>   0.897</td>\n",
       "</tr>\n",
       "<tr>\n",
       "  <th>Model:</th>                   <td>OLS</td>       <th>  Adj. R-squared:    </th> <td>   0.896</td>\n",
       "</tr>\n",
       "<tr>\n",
       "  <th>Method:</th>             <td>Least Squares</td>  <th>  F-statistic:       </th> <td>   859.6</td>\n",
       "</tr>\n",
       "<tr>\n",
       "  <th>Date:</th>             <td>Tue, 16 Aug 2022</td> <th>  Prob (F-statistic):</th> <td>4.83e-98</td>\n",
       "</tr>\n",
       "<tr>\n",
       "  <th>Time:</th>                 <td>00:55:20</td>     <th>  Log-Likelihood:    </th> <td> -386.20</td>\n",
       "</tr>\n",
       "<tr>\n",
       "  <th>No. Observations:</th>      <td>   200</td>      <th>  AIC:               </th> <td>   778.4</td>\n",
       "</tr>\n",
       "<tr>\n",
       "  <th>Df Residuals:</th>          <td>   197</td>      <th>  BIC:               </th> <td>   788.3</td>\n",
       "</tr>\n",
       "<tr>\n",
       "  <th>Df Model:</th>              <td>     2</td>      <th>                     </th>     <td> </td>   \n",
       "</tr>\n",
       "<tr>\n",
       "  <th>Covariance Type:</th>      <td>nonrobust</td>    <th>                     </th>     <td> </td>   \n",
       "</tr>\n",
       "</table>\n",
       "<table class=\"simpletable\">\n",
       "<tr>\n",
       "      <td></td>         <th>coef</th>     <th>std err</th>      <th>t</th>      <th>P>|t|</th>  <th>[0.025</th>    <th>0.975]</th>  \n",
       "</tr>\n",
       "<tr>\n",
       "  <th>Intercept</th> <td>    2.9211</td> <td>    0.294</td> <td>    9.919</td> <td> 0.000</td> <td>    2.340</td> <td>    3.502</td>\n",
       "</tr>\n",
       "<tr>\n",
       "  <th>TV</th>        <td>    0.0458</td> <td>    0.001</td> <td>   32.909</td> <td> 0.000</td> <td>    0.043</td> <td>    0.048</td>\n",
       "</tr>\n",
       "<tr>\n",
       "  <th>Radio</th>     <td>    0.1880</td> <td>    0.008</td> <td>   23.382</td> <td> 0.000</td> <td>    0.172</td> <td>    0.204</td>\n",
       "</tr>\n",
       "</table>\n",
       "<table class=\"simpletable\">\n",
       "<tr>\n",
       "  <th>Omnibus:</th>       <td>60.022</td> <th>  Durbin-Watson:     </th> <td>   2.081</td>\n",
       "</tr>\n",
       "<tr>\n",
       "  <th>Prob(Omnibus):</th> <td> 0.000</td> <th>  Jarque-Bera (JB):  </th> <td> 148.679</td>\n",
       "</tr>\n",
       "<tr>\n",
       "  <th>Skew:</th>          <td>-1.323</td> <th>  Prob(JB):          </th> <td>5.19e-33</td>\n",
       "</tr>\n",
       "<tr>\n",
       "  <th>Kurtosis:</th>      <td> 6.292</td> <th>  Cond. No.          </th> <td>    425.</td>\n",
       "</tr>\n",
       "</table><br/><br/>Notes:<br/>[1] Standard Errors assume that the covariance matrix of the errors is correctly specified."
      ],
      "text/plain": [
       "<class 'statsmodels.iolib.summary.Summary'>\n",
       "\"\"\"\n",
       "                            OLS Regression Results                            \n",
       "==============================================================================\n",
       "Dep. Variable:                  Sales   R-squared:                       0.897\n",
       "Model:                            OLS   Adj. R-squared:                  0.896\n",
       "Method:                 Least Squares   F-statistic:                     859.6\n",
       "Date:                Tue, 16 Aug 2022   Prob (F-statistic):           4.83e-98\n",
       "Time:                        00:55:20   Log-Likelihood:                -386.20\n",
       "No. Observations:                 200   AIC:                             778.4\n",
       "Df Residuals:                     197   BIC:                             788.3\n",
       "Df Model:                           2                                         \n",
       "Covariance Type:            nonrobust                                         \n",
       "==============================================================================\n",
       "                 coef    std err          t      P>|t|      [0.025      0.975]\n",
       "------------------------------------------------------------------------------\n",
       "Intercept      2.9211      0.294      9.919      0.000       2.340       3.502\n",
       "TV             0.0458      0.001     32.909      0.000       0.043       0.048\n",
       "Radio          0.1880      0.008     23.382      0.000       0.172       0.204\n",
       "==============================================================================\n",
       "Omnibus:                       60.022   Durbin-Watson:                   2.081\n",
       "Prob(Omnibus):                  0.000   Jarque-Bera (JB):              148.679\n",
       "Skew:                          -1.323   Prob(JB):                     5.19e-33\n",
       "Kurtosis:                       6.292   Cond. No.                         425.\n",
       "==============================================================================\n",
       "\n",
       "Notes:\n",
       "[1] Standard Errors assume that the covariance matrix of the errors is correctly specified.\n",
       "\"\"\""
      ]
     },
     "execution_count": 459,
     "metadata": {},
     "output_type": "execute_result"
    }
   ],
   "source": [
    "results = smf.ols(\"Sales ~ TV + Radio\", data = df_adv).fit()\n",
    "results.summary()"
   ]
  },
  {
   "cell_type": "code",
   "execution_count": 460,
   "id": "decent-playlist",
   "metadata": {},
   "outputs": [
    {
     "data": {
      "text/html": [
       "<table class=\"simpletable\">\n",
       "<caption>OLS Regression Results</caption>\n",
       "<tr>\n",
       "  <th>Dep. Variable:</th>          <td>Sales</td>      <th>  R-squared:         </th> <td>   0.968</td> \n",
       "</tr>\n",
       "<tr>\n",
       "  <th>Model:</th>                   <td>OLS</td>       <th>  Adj. R-squared:    </th> <td>   0.967</td> \n",
       "</tr>\n",
       "<tr>\n",
       "  <th>Method:</th>             <td>Least Squares</td>  <th>  F-statistic:       </th> <td>   1963.</td> \n",
       "</tr>\n",
       "<tr>\n",
       "  <th>Date:</th>             <td>Tue, 16 Aug 2022</td> <th>  Prob (F-statistic):</th> <td>6.68e-146</td>\n",
       "</tr>\n",
       "<tr>\n",
       "  <th>Time:</th>                 <td>00:55:20</td>     <th>  Log-Likelihood:    </th> <td> -270.14</td> \n",
       "</tr>\n",
       "<tr>\n",
       "  <th>No. Observations:</th>      <td>   200</td>      <th>  AIC:               </th> <td>   548.3</td> \n",
       "</tr>\n",
       "<tr>\n",
       "  <th>Df Residuals:</th>          <td>   196</td>      <th>  BIC:               </th> <td>   561.5</td> \n",
       "</tr>\n",
       "<tr>\n",
       "  <th>Df Model:</th>              <td>     3</td>      <th>                     </th>     <td> </td>    \n",
       "</tr>\n",
       "<tr>\n",
       "  <th>Covariance Type:</th>      <td>nonrobust</td>    <th>                     </th>     <td> </td>    \n",
       "</tr>\n",
       "</table>\n",
       "<table class=\"simpletable\">\n",
       "<tr>\n",
       "      <td></td>         <th>coef</th>     <th>std err</th>      <th>t</th>      <th>P>|t|</th>  <th>[0.025</th>    <th>0.975]</th>  \n",
       "</tr>\n",
       "<tr>\n",
       "  <th>Intercept</th> <td>    6.7502</td> <td>    0.248</td> <td>   27.233</td> <td> 0.000</td> <td>    6.261</td> <td>    7.239</td>\n",
       "</tr>\n",
       "<tr>\n",
       "  <th>TV</th>        <td>    0.0191</td> <td>    0.002</td> <td>   12.699</td> <td> 0.000</td> <td>    0.016</td> <td>    0.022</td>\n",
       "</tr>\n",
       "<tr>\n",
       "  <th>Radio</th>     <td>    0.0289</td> <td>    0.009</td> <td>    3.241</td> <td> 0.001</td> <td>    0.011</td> <td>    0.046</td>\n",
       "</tr>\n",
       "<tr>\n",
       "  <th>TV:Radio</th>  <td>    0.0011</td> <td> 5.24e-05</td> <td>   20.727</td> <td> 0.000</td> <td>    0.001</td> <td>    0.001</td>\n",
       "</tr>\n",
       "</table>\n",
       "<table class=\"simpletable\">\n",
       "<tr>\n",
       "  <th>Omnibus:</th>       <td>128.132</td> <th>  Durbin-Watson:     </th> <td>   2.224</td> \n",
       "</tr>\n",
       "<tr>\n",
       "  <th>Prob(Omnibus):</th> <td> 0.000</td>  <th>  Jarque-Bera (JB):  </th> <td>1183.719</td> \n",
       "</tr>\n",
       "<tr>\n",
       "  <th>Skew:</th>          <td>-2.323</td>  <th>  Prob(JB):          </th> <td>9.09e-258</td>\n",
       "</tr>\n",
       "<tr>\n",
       "  <th>Kurtosis:</th>      <td>13.975</td>  <th>  Cond. No.          </th> <td>1.80e+04</td> \n",
       "</tr>\n",
       "</table><br/><br/>Notes:<br/>[1] Standard Errors assume that the covariance matrix of the errors is correctly specified.<br/>[2] The condition number is large, 1.8e+04. This might indicate that there are<br/>strong multicollinearity or other numerical problems."
      ],
      "text/plain": [
       "<class 'statsmodels.iolib.summary.Summary'>\n",
       "\"\"\"\n",
       "                            OLS Regression Results                            \n",
       "==============================================================================\n",
       "Dep. Variable:                  Sales   R-squared:                       0.968\n",
       "Model:                            OLS   Adj. R-squared:                  0.967\n",
       "Method:                 Least Squares   F-statistic:                     1963.\n",
       "Date:                Tue, 16 Aug 2022   Prob (F-statistic):          6.68e-146\n",
       "Time:                        00:55:20   Log-Likelihood:                -270.14\n",
       "No. Observations:                 200   AIC:                             548.3\n",
       "Df Residuals:                     196   BIC:                             561.5\n",
       "Df Model:                           3                                         \n",
       "Covariance Type:            nonrobust                                         \n",
       "==============================================================================\n",
       "                 coef    std err          t      P>|t|      [0.025      0.975]\n",
       "------------------------------------------------------------------------------\n",
       "Intercept      6.7502      0.248     27.233      0.000       6.261       7.239\n",
       "TV             0.0191      0.002     12.699      0.000       0.016       0.022\n",
       "Radio          0.0289      0.009      3.241      0.001       0.011       0.046\n",
       "TV:Radio       0.0011   5.24e-05     20.727      0.000       0.001       0.001\n",
       "==============================================================================\n",
       "Omnibus:                      128.132   Durbin-Watson:                   2.224\n",
       "Prob(Omnibus):                  0.000   Jarque-Bera (JB):             1183.719\n",
       "Skew:                          -2.323   Prob(JB):                    9.09e-258\n",
       "Kurtosis:                      13.975   Cond. No.                     1.80e+04\n",
       "==============================================================================\n",
       "\n",
       "Notes:\n",
       "[1] Standard Errors assume that the covariance matrix of the errors is correctly specified.\n",
       "[2] The condition number is large, 1.8e+04. This might indicate that there are\n",
       "strong multicollinearity or other numerical problems.\n",
       "\"\"\""
      ]
     },
     "execution_count": 460,
     "metadata": {},
     "output_type": "execute_result"
    }
   ],
   "source": [
    "results = smf.ols(\"Sales ~  TV + Radio + TV * Radio\", data = df_adv).fit()\n",
    "results.summary()"
   ]
  },
  {
   "cell_type": "code",
   "execution_count": 461,
   "id": "abdebaf9",
   "metadata": {
    "lang": "en"
   },
   "outputs": [
    {
     "data": {
      "text/html": [
       "<div>\n",
       "<style scoped>\n",
       "    .dataframe tbody tr th:only-of-type {\n",
       "        vertical-align: middle;\n",
       "    }\n",
       "\n",
       "    .dataframe tbody tr th {\n",
       "        vertical-align: top;\n",
       "    }\n",
       "\n",
       "    .dataframe thead th {\n",
       "        text-align: right;\n",
       "    }\n",
       "</style>\n",
       "<table border=\"1\" class=\"dataframe\">\n",
       "  <thead>\n",
       "    <tr style=\"text-align: right;\">\n",
       "      <th></th>\n",
       "      <th>TV</th>\n",
       "      <th>Radio</th>\n",
       "      <th>Newspaper</th>\n",
       "      <th>Sales</th>\n",
       "    </tr>\n",
       "  </thead>\n",
       "  <tbody>\n",
       "    <tr>\n",
       "      <th>TV</th>\n",
       "      <td>1.000000</td>\n",
       "      <td>0.054809</td>\n",
       "      <td>0.056648</td>\n",
       "      <td>0.782224</td>\n",
       "    </tr>\n",
       "    <tr>\n",
       "      <th>Radio</th>\n",
       "      <td>0.054809</td>\n",
       "      <td>1.000000</td>\n",
       "      <td>0.354104</td>\n",
       "      <td>0.576223</td>\n",
       "    </tr>\n",
       "    <tr>\n",
       "      <th>Newspaper</th>\n",
       "      <td>0.056648</td>\n",
       "      <td>0.354104</td>\n",
       "      <td>1.000000</td>\n",
       "      <td>0.228299</td>\n",
       "    </tr>\n",
       "    <tr>\n",
       "      <th>Sales</th>\n",
       "      <td>0.782224</td>\n",
       "      <td>0.576223</td>\n",
       "      <td>0.228299</td>\n",
       "      <td>1.000000</td>\n",
       "    </tr>\n",
       "  </tbody>\n",
       "</table>\n",
       "</div>"
      ],
      "text/plain": [
       "                 TV     Radio  Newspaper     Sales\n",
       "TV         1.000000  0.054809   0.056648  0.782224\n",
       "Radio      0.054809  1.000000   0.354104  0.576223\n",
       "Newspaper  0.056648  0.354104   1.000000  0.228299\n",
       "Sales      0.782224  0.576223   0.228299  1.000000"
      ]
     },
     "execution_count": 461,
     "metadata": {},
     "output_type": "execute_result"
    }
   ],
   "source": [
    "# Gift for today's lab\n",
    "df_adv.corr()"
   ]
  },
  {
   "cell_type": "code",
   "execution_count": 462,
   "id": "dense-baghdad",
   "metadata": {},
   "outputs": [
    {
     "data": {
      "text/html": [
       "<table class=\"simpletable\">\n",
       "<caption>OLS Regression Results</caption>\n",
       "<tr>\n",
       "  <th>Dep. Variable:</th>          <td>Sales</td>      <th>  R-squared:         </th> <td>   0.612</td>\n",
       "</tr>\n",
       "<tr>\n",
       "  <th>Model:</th>                   <td>OLS</td>       <th>  Adj. R-squared:    </th> <td>   0.610</td>\n",
       "</tr>\n",
       "<tr>\n",
       "  <th>Method:</th>             <td>Least Squares</td>  <th>  F-statistic:       </th> <td>   312.1</td>\n",
       "</tr>\n",
       "<tr>\n",
       "  <th>Date:</th>             <td>Tue, 16 Aug 2022</td> <th>  Prob (F-statistic):</th> <td>1.47e-42</td>\n",
       "</tr>\n",
       "<tr>\n",
       "  <th>Time:</th>                 <td>00:55:20</td>     <th>  Log-Likelihood:    </th> <td> -519.05</td>\n",
       "</tr>\n",
       "<tr>\n",
       "  <th>No. Observations:</th>      <td>   200</td>      <th>  AIC:               </th> <td>   1042.</td>\n",
       "</tr>\n",
       "<tr>\n",
       "  <th>Df Residuals:</th>          <td>   198</td>      <th>  BIC:               </th> <td>   1049.</td>\n",
       "</tr>\n",
       "<tr>\n",
       "  <th>Df Model:</th>              <td>     1</td>      <th>                     </th>     <td> </td>   \n",
       "</tr>\n",
       "<tr>\n",
       "  <th>Covariance Type:</th>      <td>nonrobust</td>    <th>                     </th>     <td> </td>   \n",
       "</tr>\n",
       "</table>\n",
       "<table class=\"simpletable\">\n",
       "<tr>\n",
       "      <td></td>         <th>coef</th>     <th>std err</th>      <th>t</th>      <th>P>|t|</th>  <th>[0.025</th>    <th>0.975]</th>  \n",
       "</tr>\n",
       "<tr>\n",
       "  <th>Intercept</th> <td>    7.0326</td> <td>    0.458</td> <td>   15.360</td> <td> 0.000</td> <td>    6.130</td> <td>    7.935</td>\n",
       "</tr>\n",
       "<tr>\n",
       "  <th>TV</th>        <td>    0.0475</td> <td>    0.003</td> <td>   17.668</td> <td> 0.000</td> <td>    0.042</td> <td>    0.053</td>\n",
       "</tr>\n",
       "</table>\n",
       "<table class=\"simpletable\">\n",
       "<tr>\n",
       "  <th>Omnibus:</th>       <td> 0.531</td> <th>  Durbin-Watson:     </th> <td>   1.935</td>\n",
       "</tr>\n",
       "<tr>\n",
       "  <th>Prob(Omnibus):</th> <td> 0.767</td> <th>  Jarque-Bera (JB):  </th> <td>   0.669</td>\n",
       "</tr>\n",
       "<tr>\n",
       "  <th>Skew:</th>          <td>-0.089</td> <th>  Prob(JB):          </th> <td>   0.716</td>\n",
       "</tr>\n",
       "<tr>\n",
       "  <th>Kurtosis:</th>      <td> 2.779</td> <th>  Cond. No.          </th> <td>    338.</td>\n",
       "</tr>\n",
       "</table><br/><br/>Notes:<br/>[1] Standard Errors assume that the covariance matrix of the errors is correctly specified."
      ],
      "text/plain": [
       "<class 'statsmodels.iolib.summary.Summary'>\n",
       "\"\"\"\n",
       "                            OLS Regression Results                            \n",
       "==============================================================================\n",
       "Dep. Variable:                  Sales   R-squared:                       0.612\n",
       "Model:                            OLS   Adj. R-squared:                  0.610\n",
       "Method:                 Least Squares   F-statistic:                     312.1\n",
       "Date:                Tue, 16 Aug 2022   Prob (F-statistic):           1.47e-42\n",
       "Time:                        00:55:20   Log-Likelihood:                -519.05\n",
       "No. Observations:                 200   AIC:                             1042.\n",
       "Df Residuals:                     198   BIC:                             1049.\n",
       "Df Model:                           1                                         \n",
       "Covariance Type:            nonrobust                                         \n",
       "==============================================================================\n",
       "                 coef    std err          t      P>|t|      [0.025      0.975]\n",
       "------------------------------------------------------------------------------\n",
       "Intercept      7.0326      0.458     15.360      0.000       6.130       7.935\n",
       "TV             0.0475      0.003     17.668      0.000       0.042       0.053\n",
       "==============================================================================\n",
       "Omnibus:                        0.531   Durbin-Watson:                   1.935\n",
       "Prob(Omnibus):                  0.767   Jarque-Bera (JB):                0.669\n",
       "Skew:                          -0.089   Prob(JB):                        0.716\n",
       "Kurtosis:                       2.779   Cond. No.                         338.\n",
       "==============================================================================\n",
       "\n",
       "Notes:\n",
       "[1] Standard Errors assume that the covariance matrix of the errors is correctly specified.\n",
       "\"\"\""
      ]
     },
     "execution_count": 462,
     "metadata": {},
     "output_type": "execute_result"
    }
   ],
   "source": [
    "results = smf.ols(\"Sales ~ TV\", data = df_adv).fit()\n",
    "results.summary()"
   ]
  },
  {
   "cell_type": "markdown",
   "id": "4bb4540c",
   "metadata": {
    "lang": "en"
   },
   "source": [
    "The difference is that the covariance gives us the direction (positive or negative) between the variables and the correlation gives us this plus the strength of it."
   ]
  },
  {
   "cell_type": "markdown",
   "id": "1fcfd1e4",
   "metadata": {
    "lang": "en"
   },
   "source": [
    "Remember the **hierarchical principle:**\n",
    "\n",
    "\"*If we include an interaction in a model, we must also include the main effects, even if the p-values ​​associated with its coefficients are not significant*\""
   ]
  },
  {
   "cell_type": "markdown",
   "id": "dd1ff73f",
   "metadata": {
    "lang": "en"
   },
   "source": [
    "### $R^2$ Adjusted\n",
    "There is a curious thing with $R^2$. Look what happens when we include *random* variables!"
   ]
  },
  {
   "cell_type": "code",
   "execution_count": 464,
   "id": "injured-tourism",
   "metadata": {
    "lang": "es"
   },
   "outputs": [
    {
     "data": {
      "text/html": [
       "<div>\n",
       "<style scoped>\n",
       "    .dataframe tbody tr th:only-of-type {\n",
       "        vertical-align: middle;\n",
       "    }\n",
       "\n",
       "    .dataframe tbody tr th {\n",
       "        vertical-align: top;\n",
       "    }\n",
       "\n",
       "    .dataframe thead th {\n",
       "        text-align: right;\n",
       "    }\n",
       "</style>\n",
       "<table border=\"1\" class=\"dataframe\">\n",
       "  <thead>\n",
       "    <tr style=\"text-align: right;\">\n",
       "      <th></th>\n",
       "      <th>TV</th>\n",
       "      <th>Radio</th>\n",
       "      <th>Newspaper</th>\n",
       "      <th>Sales</th>\n",
       "    </tr>\n",
       "  </thead>\n",
       "  <tbody>\n",
       "    <tr>\n",
       "      <th>TV</th>\n",
       "      <td>1.000000</td>\n",
       "      <td>0.054809</td>\n",
       "      <td>0.056648</td>\n",
       "      <td>0.782224</td>\n",
       "    </tr>\n",
       "    <tr>\n",
       "      <th>Radio</th>\n",
       "      <td>0.054809</td>\n",
       "      <td>1.000000</td>\n",
       "      <td>0.354104</td>\n",
       "      <td>0.576223</td>\n",
       "    </tr>\n",
       "    <tr>\n",
       "      <th>Newspaper</th>\n",
       "      <td>0.056648</td>\n",
       "      <td>0.354104</td>\n",
       "      <td>1.000000</td>\n",
       "      <td>0.228299</td>\n",
       "    </tr>\n",
       "    <tr>\n",
       "      <th>Sales</th>\n",
       "      <td>0.782224</td>\n",
       "      <td>0.576223</td>\n",
       "      <td>0.228299</td>\n",
       "      <td>1.000000</td>\n",
       "    </tr>\n",
       "  </tbody>\n",
       "</table>\n",
       "</div>"
      ],
      "text/plain": [
       "                 TV     Radio  Newspaper     Sales\n",
       "TV         1.000000  0.054809   0.056648  0.782224\n",
       "Radio      0.054809  1.000000   0.354104  0.576223\n",
       "Newspaper  0.056648  0.354104   1.000000  0.228299\n",
       "Sales      0.782224  0.576223   0.228299  1.000000"
      ]
     },
     "execution_count": 464,
     "metadata": {},
     "output_type": "execute_result"
    }
   ],
   "source": [
    "df_adv.corr()"
   ]
  },
  {
   "cell_type": "code",
   "execution_count": 465,
   "id": "exposed-shepherd",
   "metadata": {},
   "outputs": [],
   "source": [
    "df_adv['rand_1'] = np.random.normal(size=200)\n",
    "df_adv['rand_2'] = np.random.normal(size=200)\n",
    "df_adv['rand_3'] = np.random.normal(size=200)\n",
    "df_adv['rand_4'] = np.random.normal(size=200)\n",
    "df_adv['rand_5'] = np.random.normal(size=200)\n",
    "df_adv['rand_6'] = np.random.normal(size=200)\n",
    "df_adv['rand_7'] = np.random.normal(size=200)\n",
    "df_adv['rand_8'] = np.random.normal(size=200)"
   ]
  },
  {
   "cell_type": "code",
   "execution_count": 466,
   "id": "divided-cannon",
   "metadata": {
    "scrolled": true
   },
   "outputs": [
    {
     "data": {
      "text/html": [
       "<div>\n",
       "<style scoped>\n",
       "    .dataframe tbody tr th:only-of-type {\n",
       "        vertical-align: middle;\n",
       "    }\n",
       "\n",
       "    .dataframe tbody tr th {\n",
       "        vertical-align: top;\n",
       "    }\n",
       "\n",
       "    .dataframe thead th {\n",
       "        text-align: right;\n",
       "    }\n",
       "</style>\n",
       "<table border=\"1\" class=\"dataframe\">\n",
       "  <thead>\n",
       "    <tr style=\"text-align: right;\">\n",
       "      <th></th>\n",
       "      <th>TV</th>\n",
       "      <th>Radio</th>\n",
       "      <th>Newspaper</th>\n",
       "      <th>Sales</th>\n",
       "      <th>rand_1</th>\n",
       "      <th>rand_2</th>\n",
       "      <th>rand_3</th>\n",
       "      <th>rand_4</th>\n",
       "      <th>rand_5</th>\n",
       "      <th>rand_6</th>\n",
       "      <th>rand_7</th>\n",
       "      <th>rand_8</th>\n",
       "    </tr>\n",
       "  </thead>\n",
       "  <tbody>\n",
       "    <tr>\n",
       "      <th>68</th>\n",
       "      <td>237.4</td>\n",
       "      <td>27.5</td>\n",
       "      <td>11.0</td>\n",
       "      <td>18.9</td>\n",
       "      <td>0.046615</td>\n",
       "      <td>0.362252</td>\n",
       "      <td>0.002808</td>\n",
       "      <td>-1.765418</td>\n",
       "      <td>-0.329250</td>\n",
       "      <td>0.254307</td>\n",
       "      <td>0.389633</td>\n",
       "      <td>0.079773</td>\n",
       "    </tr>\n",
       "    <tr>\n",
       "      <th>193</th>\n",
       "      <td>166.8</td>\n",
       "      <td>42.0</td>\n",
       "      <td>3.6</td>\n",
       "      <td>19.6</td>\n",
       "      <td>-1.675570</td>\n",
       "      <td>-1.144320</td>\n",
       "      <td>1.162218</td>\n",
       "      <td>-0.637408</td>\n",
       "      <td>-0.594672</td>\n",
       "      <td>0.014918</td>\n",
       "      <td>-0.358437</td>\n",
       "      <td>0.154792</td>\n",
       "    </tr>\n",
       "    <tr>\n",
       "      <th>17</th>\n",
       "      <td>281.4</td>\n",
       "      <td>39.6</td>\n",
       "      <td>55.8</td>\n",
       "      <td>24.4</td>\n",
       "      <td>-0.343994</td>\n",
       "      <td>-0.344909</td>\n",
       "      <td>-0.981478</td>\n",
       "      <td>-0.728150</td>\n",
       "      <td>-0.169724</td>\n",
       "      <td>-1.578004</td>\n",
       "      <td>0.275235</td>\n",
       "      <td>-1.423301</td>\n",
       "    </tr>\n",
       "    <tr>\n",
       "      <th>151</th>\n",
       "      <td>121.0</td>\n",
       "      <td>8.4</td>\n",
       "      <td>48.7</td>\n",
       "      <td>11.6</td>\n",
       "      <td>0.013071</td>\n",
       "      <td>-0.767217</td>\n",
       "      <td>-0.409712</td>\n",
       "      <td>0.212461</td>\n",
       "      <td>0.771667</td>\n",
       "      <td>-1.099581</td>\n",
       "      <td>-0.320486</td>\n",
       "      <td>-2.130190</td>\n",
       "    </tr>\n",
       "  </tbody>\n",
       "</table>\n",
       "</div>"
      ],
      "text/plain": [
       "        TV  Radio  Newspaper  Sales    rand_1    rand_2    rand_3    rand_4  \\\n",
       "68   237.4   27.5       11.0   18.9  0.046615  0.362252  0.002808 -1.765418   \n",
       "193  166.8   42.0        3.6   19.6 -1.675570 -1.144320  1.162218 -0.637408   \n",
       "17   281.4   39.6       55.8   24.4 -0.343994 -0.344909 -0.981478 -0.728150   \n",
       "151  121.0    8.4       48.7   11.6  0.013071 -0.767217 -0.409712  0.212461   \n",
       "\n",
       "       rand_5    rand_6    rand_7    rand_8  \n",
       "68  -0.329250  0.254307  0.389633  0.079773  \n",
       "193 -0.594672  0.014918 -0.358437  0.154792  \n",
       "17  -0.169724 -1.578004  0.275235 -1.423301  \n",
       "151  0.771667 -1.099581 -0.320486 -2.130190  "
      ]
     },
     "execution_count": 466,
     "metadata": {},
     "output_type": "execute_result"
    }
   ],
   "source": [
    "df_adv.sample(4)"
   ]
  },
  {
   "cell_type": "code",
   "execution_count": 467,
   "id": "streaming-variable",
   "metadata": {},
   "outputs": [
    {
     "data": {
      "text/html": [
       "<table class=\"simpletable\">\n",
       "<caption>OLS Regression Results</caption>\n",
       "<tr>\n",
       "  <th>Dep. Variable:</th>          <td>Sales</td>      <th>  R-squared:         </th> <td>   0.903</td>\n",
       "</tr>\n",
       "<tr>\n",
       "  <th>Model:</th>                   <td>OLS</td>       <th>  Adj. R-squared:    </th> <td>   0.898</td>\n",
       "</tr>\n",
       "<tr>\n",
       "  <th>Method:</th>             <td>Least Squares</td>  <th>  F-statistic:       </th> <td>   176.0</td>\n",
       "</tr>\n",
       "<tr>\n",
       "  <th>Date:</th>             <td>Tue, 16 Aug 2022</td> <th>  Prob (F-statistic):</th> <td>4.35e-90</td>\n",
       "</tr>\n",
       "<tr>\n",
       "  <th>Time:</th>                 <td>00:55:24</td>     <th>  Log-Likelihood:    </th> <td> -380.38</td>\n",
       "</tr>\n",
       "<tr>\n",
       "  <th>No. Observations:</th>      <td>   200</td>      <th>  AIC:               </th> <td>   782.8</td>\n",
       "</tr>\n",
       "<tr>\n",
       "  <th>Df Residuals:</th>          <td>   189</td>      <th>  BIC:               </th> <td>   819.0</td>\n",
       "</tr>\n",
       "<tr>\n",
       "  <th>Df Model:</th>              <td>    10</td>      <th>                     </th>     <td> </td>   \n",
       "</tr>\n",
       "<tr>\n",
       "  <th>Covariance Type:</th>      <td>nonrobust</td>    <th>                     </th>     <td> </td>   \n",
       "</tr>\n",
       "</table>\n",
       "<table class=\"simpletable\">\n",
       "<tr>\n",
       "      <td></td>         <th>coef</th>     <th>std err</th>      <th>t</th>      <th>P>|t|</th>  <th>[0.025</th>    <th>0.975]</th>  \n",
       "</tr>\n",
       "<tr>\n",
       "  <th>Intercept</th> <td>    2.8022</td> <td>    0.297</td> <td>    9.430</td> <td> 0.000</td> <td>    2.216</td> <td>    3.388</td>\n",
       "</tr>\n",
       "<tr>\n",
       "  <th>TV</th>        <td>    0.0459</td> <td>    0.001</td> <td>   32.619</td> <td> 0.000</td> <td>    0.043</td> <td>    0.049</td>\n",
       "</tr>\n",
       "<tr>\n",
       "  <th>Radio</th>     <td>    0.1928</td> <td>    0.008</td> <td>   23.368</td> <td> 0.000</td> <td>    0.177</td> <td>    0.209</td>\n",
       "</tr>\n",
       "<tr>\n",
       "  <th>rand_1</th>    <td>    0.0120</td> <td>    0.115</td> <td>    0.105</td> <td> 0.917</td> <td>   -0.215</td> <td>    0.239</td>\n",
       "</tr>\n",
       "<tr>\n",
       "  <th>rand_2</th>    <td>    0.2073</td> <td>    0.122</td> <td>    1.699</td> <td> 0.091</td> <td>   -0.033</td> <td>    0.448</td>\n",
       "</tr>\n",
       "<tr>\n",
       "  <th>rand_3</th>    <td>   -0.1716</td> <td>    0.134</td> <td>   -1.278</td> <td> 0.203</td> <td>   -0.436</td> <td>    0.093</td>\n",
       "</tr>\n",
       "<tr>\n",
       "  <th>rand_4</th>    <td>   -0.0099</td> <td>    0.132</td> <td>   -0.074</td> <td> 0.941</td> <td>   -0.271</td> <td>    0.251</td>\n",
       "</tr>\n",
       "<tr>\n",
       "  <th>rand_5</th>    <td>    0.1430</td> <td>    0.126</td> <td>    1.132</td> <td> 0.259</td> <td>   -0.106</td> <td>    0.392</td>\n",
       "</tr>\n",
       "<tr>\n",
       "  <th>rand_6</th>    <td>   -0.2152</td> <td>    0.116</td> <td>   -1.853</td> <td> 0.065</td> <td>   -0.444</td> <td>    0.014</td>\n",
       "</tr>\n",
       "<tr>\n",
       "  <th>rand_7</th>    <td>   -0.0879</td> <td>    0.109</td> <td>   -0.805</td> <td> 0.422</td> <td>   -0.303</td> <td>    0.128</td>\n",
       "</tr>\n",
       "<tr>\n",
       "  <th>rand_8</th>    <td>   -0.0114</td> <td>    0.122</td> <td>   -0.093</td> <td> 0.926</td> <td>   -0.253</td> <td>    0.230</td>\n",
       "</tr>\n",
       "</table>\n",
       "<table class=\"simpletable\">\n",
       "<tr>\n",
       "  <th>Omnibus:</th>       <td>44.564</td> <th>  Durbin-Watson:     </th> <td>   2.020</td>\n",
       "</tr>\n",
       "<tr>\n",
       "  <th>Prob(Omnibus):</th> <td> 0.000</td> <th>  Jarque-Bera (JB):  </th> <td>  88.223</td>\n",
       "</tr>\n",
       "<tr>\n",
       "  <th>Skew:</th>          <td>-1.071</td> <th>  Prob(JB):          </th> <td>6.96e-20</td>\n",
       "</tr>\n",
       "<tr>\n",
       "  <th>Kurtosis:</th>      <td> 5.450</td> <th>  Cond. No.          </th> <td>    434.</td>\n",
       "</tr>\n",
       "</table><br/><br/>Notes:<br/>[1] Standard Errors assume that the covariance matrix of the errors is correctly specified."
      ],
      "text/plain": [
       "<class 'statsmodels.iolib.summary.Summary'>\n",
       "\"\"\"\n",
       "                            OLS Regression Results                            \n",
       "==============================================================================\n",
       "Dep. Variable:                  Sales   R-squared:                       0.903\n",
       "Model:                            OLS   Adj. R-squared:                  0.898\n",
       "Method:                 Least Squares   F-statistic:                     176.0\n",
       "Date:                Tue, 16 Aug 2022   Prob (F-statistic):           4.35e-90\n",
       "Time:                        00:55:24   Log-Likelihood:                -380.38\n",
       "No. Observations:                 200   AIC:                             782.8\n",
       "Df Residuals:                     189   BIC:                             819.0\n",
       "Df Model:                          10                                         \n",
       "Covariance Type:            nonrobust                                         \n",
       "==============================================================================\n",
       "                 coef    std err          t      P>|t|      [0.025      0.975]\n",
       "------------------------------------------------------------------------------\n",
       "Intercept      2.8022      0.297      9.430      0.000       2.216       3.388\n",
       "TV             0.0459      0.001     32.619      0.000       0.043       0.049\n",
       "Radio          0.1928      0.008     23.368      0.000       0.177       0.209\n",
       "rand_1         0.0120      0.115      0.105      0.917      -0.215       0.239\n",
       "rand_2         0.2073      0.122      1.699      0.091      -0.033       0.448\n",
       "rand_3        -0.1716      0.134     -1.278      0.203      -0.436       0.093\n",
       "rand_4        -0.0099      0.132     -0.074      0.941      -0.271       0.251\n",
       "rand_5         0.1430      0.126      1.132      0.259      -0.106       0.392\n",
       "rand_6        -0.2152      0.116     -1.853      0.065      -0.444       0.014\n",
       "rand_7        -0.0879      0.109     -0.805      0.422      -0.303       0.128\n",
       "rand_8        -0.0114      0.122     -0.093      0.926      -0.253       0.230\n",
       "==============================================================================\n",
       "Omnibus:                       44.564   Durbin-Watson:                   2.020\n",
       "Prob(Omnibus):                  0.000   Jarque-Bera (JB):               88.223\n",
       "Skew:                          -1.071   Prob(JB):                     6.96e-20\n",
       "Kurtosis:                       5.450   Cond. No.                         434.\n",
       "==============================================================================\n",
       "\n",
       "Notes:\n",
       "[1] Standard Errors assume that the covariance matrix of the errors is correctly specified.\n",
       "\"\"\""
      ]
     },
     "execution_count": 467,
     "metadata": {},
     "output_type": "execute_result"
    }
   ],
   "source": [
    "results = smf.ols(\"Sales ~ TV + Radio  + rand_1 + rand_2 + rand_3 + rand_4 + rand_5 + rand_6 + rand_7 + rand_8\", data = df_adv).fit()\n",
    "results.summary()"
   ]
  },
  {
   "cell_type": "markdown",
   "id": "1311604f",
   "metadata": {
    "lang": "en"
   },
   "source": [
    "The coefficient `Adj. R-squared` is intended to penalize the $R^2$ of a model when *too many* variables are included.\n",
    "$$\\bar R^2 = 1-(1-R^2){n-1 \\ over n-p-1}$$"
   ]
  },
  {
   "cell_type": "markdown",
   "id": "348bd1c0",
   "metadata": {
    "lang": "en"
   },
   "source": [
    "## Potential problems in linear regression\n",
    "\n",
    "The main assumptions of a linear model are:\n",
    "\n",
    "* Data is linear\n",
    "* Errors are not correlated\n",
    "* The variance of the error terms is constant\n",
    "\n",
    "What happens if these assumptions are not met?\n",
    "\n",
    "In addition, our models can suffer from other problems such as:\n",
    "* Outliers\n",
    "* High leverage points\n",
    "* Collinearity\n",
    "* Missing values\n",
    "\n",
    "See this [video](https://www.youtube.com/watch?v=hVe2F9krrWk) for an introduction to the topic."
   ]
  },
  {
   "cell_type": "markdown",
   "id": "2759e222",
   "metadata": {
    "lang": "en"
   },
   "source": [
    "These four data sets are different, but they happen to have the same arithmetic mean and variance of the x and y values, the same correlation, the same correlation coefficient, and the same regression line. some with 2 or 3 decimal places. They are the Anscombe Quartet, named for F.J. Anscombe, a statistical mathematician who published them in 1973. They are often used to teach that in addition to calculating the statistical properties of data, it is convenient to visualize them.\n",
    "\n",
    "In all cases, the representations tell us something more about the data: the first ones seem somewhat random but related, the second ones show a clear but remarkably different pattern; in the third and fourth there are other patterns clouded by some outliers. These values ​​can be errors, real data that is just out of the ordinary, or even artificially produced data to make it all fit together.\n",
    "\n",
    "Moral: don't blindly trust the data and neither the statistics you get from them; also try to set up a visualization to understand them.\n",
    "![anscombe](../images/anscombe.png)"
   ]
  },
  {
   "cell_type": "markdown",
   "id": "f3344eca",
   "metadata": {
    "lang": "en"
   },
   "source": [
    "## Summary"
   ]
  },
  {
   "cell_type": "markdown",
   "id": "124a3766",
   "metadata": {
    "lang": "en"
   },
   "source": []
  },
  {
   "cell_type": "markdown",
   "id": "competitive-enough",
   "metadata": {},
   "source": [
    "## Further Materials \n",
    "\n",
    "* One example of [linear regression with the Boston data set](https://towardsdatascience.com/linear-regression-on-boston-housing-dataset-f409b7e4a155)"
   ]
  }
 ],
 "metadata": {
  "kernelspec": {
   "display_name": "ironhack",
   "language": "python",
   "name": "ironhack"
  },
  "language_info": {
   "codemirror_mode": {
    "name": "ipython",
    "version": 3
   },
   "file_extension": ".py",
   "mimetype": "text/x-python",
   "name": "python",
   "nbconvert_exporter": "python",
   "pygments_lexer": "ipython3",
   "version": "3.8.13"
  },
  "nbTranslate": {
   "displayLangs": [
    "en",
    "es"
   ],
   "hotkey": "alt-a",
   "langInMainMenu": true,
   "sourceLang": "es",
   "targetLang": "en",
   "useGoogleTranslate": true
  },
  "toc": {
   "base_numbering": 1,
   "nav_menu": {},
   "number_sections": true,
   "sideBar": true,
   "skip_h1_title": true,
   "title_cell": "Table of Contents",
   "title_sidebar": "Contents",
   "toc_cell": true,
   "toc_position": {
    "height": "calc(100% - 180px)",
    "left": "10px",
    "top": "150px",
    "width": "230.007px"
   },
   "toc_section_display": true,
   "toc_window_display": true
  }
 },
 "nbformat": 4,
 "nbformat_minor": 5
}

{
 "cells": [
  {
   "cell_type": "markdown",
   "id": "73477288",
   "metadata": {},
   "source": [
    "# GOALS of the project\n",
    "\n",
    "0. Scrape & use APIs\n",
    "1. Seed a database\n",
    "2. You build your API\n",
    "3. Define what endpoints you will be using\n",
    "4. Implement the actions those endpoints will do\n",
    "5. Those actions can be: descriptive metrics for your data, sentiment analysis on text, frequency of some words, \n",
    "    length of texts, check for the SA of reviews of bookings in different years (\"/summary/year1/year2\"), \n",
    "    generate graphs and save them (not rendered), extra/bonus email generated \"reports\" based on endpoints,\n",
    "    analysis of tweets from trump, returning jsons\n",
    "    \n",
    "    \n",
    "Endpoints are just instructions and the API will handle the data & the database"
   ]
  },
  {
   "cell_type": "markdown",
   "id": "05fd2222",
   "metadata": {},
   "source": [
    "## Some tips and reminders:\n",
    "\n",
    "- Start defining your endpoints:\n",
    "    - I want to GET this info\n",
    "    - I want to GET this info but filtered\n",
    "    - I want to GET the sentiment of filtered info but summarized\n",
    "    - I want to be able to POST new info into the database\n",
    "    - I don't want to show pictures by i want to generate them (save.fig)\n",
    "- Draft a list of the possible things you want to do:\n",
    "    - Draft the list\n",
    "    - Separate from GEGT & POST\n",
    "    - Pseudocode the function right below that GET on the main.py\n",
    "    - Pseudocode the function it will call on sqltools or src\n",
    "\n",
    "- You might have to do some defensive programming: is that data already in my database? \n",
    "    - Do I need to implement error handling?: raise exceptions, have try/excepts, normalize data before inputting?\n",
    "- Is it case sensitive?\n",
    "- Keep your `debug=True` when making changes to your API\n",
    "- Often times, you might want to stop the server and start it again. From your terminal: `ctrl + C`\n",
    "- Always read the error. That's where the info is! I guarantee 90% of times you'll be able to fix things by reading it\n",
    "- Commit frequently\n",
    "- Take breaks! This project will have you debug a lot, but that's normal and expected"
   ]
  },
  {
   "cell_type": "markdown",
   "id": "c4d29382",
   "metadata": {},
   "source": [
    "# What your jupyter notebook should look like 👇\n",
    "- Import requests\n",
    "\n",
    "- **GET** API calls: \n",
    "    - `requests.get(url, params=params_you_may_define)`\n",
    "    - `https://myapi.com?language=es?param2=value2`\n",
    "   \n",
    "- **POST** API calls: \n",
    "    - `requests.post(url, params=params_you_may_define, data=your_json_to_insert)`\n",
    "- That's it!"
   ]
  },
  {
   "cell_type": "code",
   "execution_count": null,
   "id": "3a366cac",
   "metadata": {},
   "outputs": [],
   "source": []
  },
  {
   "cell_type": "code",
   "execution_count": null,
   "id": "d154e11d",
   "metadata": {},
   "outputs": [],
   "source": []
  },
  {
   "cell_type": "code",
   "execution_count": null,
   "id": "7ef9727c",
   "metadata": {},
   "outputs": [],
   "source": []
  },
  {
   "cell_type": "code",
   "execution_count": 1,
   "id": "07636a54",
   "metadata": {},
   "outputs": [],
   "source": [
    "import requests"
   ]
  },
  {
   "cell_type": "markdown",
   "id": "10e986c7",
   "metadata": {},
   "source": [
    "# GET"
   ]
  },
  {
   "cell_type": "code",
   "execution_count": 8,
   "id": "2be4cc24",
   "metadata": {},
   "outputs": [],
   "source": [
    "response = requests.get(\"http://127.0.0.1:9000/lines/\").json()"
   ]
  },
  {
   "cell_type": "code",
   "execution_count": 10,
   "id": "ad904976",
   "metadata": {},
   "outputs": [
    {
     "data": {
      "text/plain": [
       "{'ID_number': 1.0,\n",
       " 'character_name': 'Albus Dumbledore',\n",
       " 'dialogue': 'I should have known that you would be here, Professor McGonagall.',\n",
       " 'index': 0.0,\n",
       " 'scene': 1}"
      ]
     },
     "execution_count": 10,
     "metadata": {},
     "output_type": "execute_result"
    }
   ],
   "source": [
    "response[0]"
   ]
  },
  {
   "cell_type": "markdown",
   "id": "b80de38c",
   "metadata": {},
   "source": [
    "## Get with params"
   ]
  },
  {
   "cell_type": "code",
   "execution_count": 13,
   "id": "28cd1b09",
   "metadata": {},
   "outputs": [],
   "source": [
    "params = {\"language\":\"lt\"}"
   ]
  },
  {
   "cell_type": "code",
   "execution_count": 16,
   "id": "a0bdabc2",
   "metadata": {},
   "outputs": [],
   "source": [
    "name = \"Harry%20Potter\""
   ]
  },
  {
   "cell_type": "code",
   "execution_count": null,
   "id": "349d0df2",
   "metadata": {},
   "outputs": [],
   "source": [
    "response = requests.get(f\"http://127.0.0.1:9000/one/{name}\", params).json()"
   ]
  },
  {
   "cell_type": "code",
   "execution_count": null,
   "id": "c2cd1167",
   "metadata": {},
   "outputs": [],
   "source": [
    "response_link = \"http://127.0.0.1:9000/one/something%20something?language=es\""
   ]
  },
  {
   "cell_type": "markdown",
   "id": "27c2d237",
   "metadata": {},
   "source": [
    "# POST"
   ]
  },
  {
   "cell_type": "code",
   "execution_count": null,
   "id": "338fe5b1",
   "metadata": {},
   "outputs": [],
   "source": [
    "data = {\"character_name\":\"Someone\", \"dialogue\": \"a sentence\", \"scene\": 2}"
   ]
  },
  {
   "cell_type": "code",
   "execution_count": null,
   "id": "47217ad1",
   "metadata": {},
   "outputs": [],
   "source": [
    "requests.post(url, params=params, data=data)"
   ]
  },
  {
   "cell_type": "code",
   "execution_count": null,
   "id": "66bbddce",
   "metadata": {},
   "outputs": [],
   "source": []
  },
  {
   "cell_type": "code",
   "execution_count": null,
   "id": "4442c98d",
   "metadata": {},
   "outputs": [],
   "source": []
  },
  {
   "cell_type": "code",
   "execution_count": null,
   "id": "5e2be83c",
   "metadata": {},
   "outputs": [],
   "source": []
  },
  {
   "cell_type": "code",
   "execution_count": null,
   "id": "d8d1c990",
   "metadata": {},
   "outputs": [],
   "source": []
  },
  {
   "cell_type": "code",
   "execution_count": null,
   "id": "f4253788",
   "metadata": {},
   "outputs": [],
   "source": [
    "# Now you have a working API that serves and receives info. You loaded your database through alchemy \n",
    "# or through MySQL workbench. Now you can also do it through its endpoints!\n",
    "# You could iterate over the rows of a dataframe and for every row, you could do an API call"
   ]
  },
  {
   "cell_type": "code",
   "execution_count": null,
   "id": "ae60e647",
   "metadata": {},
   "outputs": [],
   "source": [
    "for index, row in df:\n",
    "    requests.post(url, params=params, data=row)"
   ]
  }
 ],
 "metadata": {
  "kernelspec": {
   "display_name": "ironhack",
   "language": "python",
   "name": "ironhack"
  },
  "language_info": {
   "codemirror_mode": {
    "name": "ipython",
    "version": 3
   },
   "file_extension": ".py",
   "mimetype": "text/x-python",
   "name": "python",
   "nbconvert_exporter": "python",
   "pygments_lexer": "ipython3",
   "version": "3.8.13"
  },
  "nbTranslate": {
   "displayLangs": [
    "en",
    "es"
   ],
   "hotkey": "alt-a",
   "langInMainMenu": true,
   "sourceLang": "es",
   "targetLang": "en",
   "useGoogleTranslate": true
  },
  "toc": {
   "base_numbering": 1,
   "nav_menu": {},
   "number_sections": true,
   "sideBar": true,
   "skip_h1_title": false,
   "title_cell": "Table of Contents",
   "title_sidebar": "Contents",
   "toc_cell": false,
   "toc_position": {},
   "toc_section_display": true,
   "toc_window_display": false
  }
 },
 "nbformat": 4,
 "nbformat_minor": 5
}
